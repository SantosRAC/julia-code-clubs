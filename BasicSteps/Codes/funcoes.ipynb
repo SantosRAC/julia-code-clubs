{
 "cells": [
  {
   "cell_type": "markdown",
   "metadata": {},
   "source": [
    "# Funções em Julia\n",
    "\n",
    "Quarta, 23 de fevereiro de 2022, Renato Santos\n",
    "\n",
    " * O que são funções\n",
    " * Declarando e chamando funções\n",
    " * Retornando valores\n",
    " * Funções executadas com argumentos adicionais\n",
    " * Problema biológico: cálculao da porcentagem de GC\n",
    "\n",
    "\n",
    "## Definição\n",
    "\n",
    "Instruções para a execução de determinada tarefa ou solução de um problema.\n",
    "As funções têm nomes, para que possam ser \"chamadas\" posteriomente no código.\n",
    "\n",
    "## Declarando uma função\n",
    "\n",
    "Vamos fazer uma primeira função em Julia! Para isso, vamos:\n",
    "\n",
    " * Usar a palavra-chave (= palavra reservada ?) `function`\n",
    " * Definir uma função que não recebe qualquer argumento/input\n",
    " * Após o bloco de execução, deve ser incluída a palavra reservada `end`"
   ]
  },
  {
   "cell_type": "code",
   "execution_count": 21,
   "metadata": {},
   "outputs": [
    {
     "data": {
      "text/plain": [
       "imprime_os_println (generic function with 1 method)"
      ]
     },
     "metadata": {},
     "output_type": "display_data"
    }
   ],
   "source": [
    "function imprime_os_println()\n",
    "    println(\"Só to imprimindo\")\n",
    "    println(\"Coisas aleatórias\")\n",
    "    println(\"Em linhas diferentes, usando a função println várias vezes\")\n",
    "    println(\"Bobo, porém . . . \")\n",
    "end"
   ]
  },
  {
   "cell_type": "code",
   "execution_count": 22,
   "metadata": {},
   "outputs": [
    {
     "name": "stdout",
     "output_type": "stream",
     "text": [
      "Só to imprimindo\n",
      "Coisas aleatórias\n",
      "Em linhas diferentes, usando a função println várias vezes\n",
      "Bobo, porém . . . \n"
     ]
    }
   ],
   "source": [
    "imprime_os_println()"
   ]
  },
  {
   "cell_type": "markdown",
   "metadata": {},
   "source": [
    "## Parâmetros versus argumentos"
   ]
  },
  {
   "cell_type": "markdown",
   "metadata": {},
   "source": [
    "## Usando função para o cálculo da porcentagem de GC\n",
    "\n",
    "Vamos supor que, dada uma sequência de DNA ('A','T','C','G'), a gente queira calcular a porcentagem de GC.\n",
    "\n",
    "Uma função poderia receber a sequência de DNA e em seguida:\n",
    "1. Contar o número de ocorrências de G\n",
    "2. Conter o número de ocorrências de C\n",
    "3. Obter a soma destes dois números\n",
    "4. Obter a divisão do total de G e C em relação ao comprimento da sequência\n",
    "5. Multiplar o resultado por 100 (para obter a porcentagem)"
   ]
  },
  {
   "cell_type": "code",
   "execution_count": null,
   "metadata": {},
   "outputs": [],
   "source": [
    "function calcula_gc(input_dna_seq::String)::Float64\n",
    "    # Recebe string\n",
    "    # Realiza a tarefa /algoritmo acima\n",
    "end"
   ]
  },
  {
   "cell_type": "markdown",
   "metadata": {},
   "source": [
    "Uma função como esta receberia uma String (ver [capítulo 8 de JuliaIntroBR](https://juliaintro.github.io/JuliaIntroBR.jl/#chap08)), estrutura que veremos mais adiante.\n",
    "\n",
    "Por enquanto, vamos supor que a gente tenha os valores numéricos:\n",
    " * Tamanho da sequência\n",
    " * Quantidade de G\n",
    " * Quantidade de C\n",
    "\n",
    "Assumimos também que não há caracteres diferentes de A, T, C ou G."
   ]
  },
  {
   "cell_type": "code",
   "execution_count": 1,
   "metadata": {},
   "outputs": [
    {
     "data": {
      "text/plain": [
       "30"
      ]
     },
     "metadata": {},
     "output_type": "display_data"
    }
   ],
   "source": [
    "comprimento_seq = 100\n",
    "contagem_g = 15\n",
    "contagem_c = 30"
   ]
  },
  {
   "cell_type": "code",
   "execution_count": 3,
   "metadata": {},
   "outputs": [
    {
     "data": {
      "text/plain": [
       "imprime_tamanho_sequencia (generic function with 1 method)"
      ]
     },
     "metadata": {},
     "output_type": "display_data"
    }
   ],
   "source": [
    "function imprime_tamanho_sequencia(seq_len)\n",
    "    # A função imprime o tamanho da sequência informado como argumento\n",
    "    println(seq_len)\n",
    "end"
   ]
  },
  {
   "cell_type": "markdown",
   "metadata": {},
   "source": [
    "## Usando uma função\n",
    "\n",
    "Para usar uma função, basta escrever o nome definido por `function` e incluir o argumento esperado.\n",
    "No nosso caso, a função apenas recebe como argumento o tamanho da sequência e imprime este valor."
   ]
  },
  {
   "cell_type": "code",
   "execution_count": 4,
   "metadata": {},
   "outputs": [
    {
     "name": "stdout",
     "output_type": "stream",
     "text": [
      "100\n"
     ]
    }
   ],
   "source": [
    "imprime_tamanho_sequencia(comprimento_seq)"
   ]
  },
  {
   "cell_type": "markdown",
   "metadata": {},
   "source": [
    "## Função que retorna valores\n",
    "\n",
    "Estamos interessados em construir uma função que calcule a porcentagem de GC e retorne este valor."
   ]
  },
  {
   "cell_type": "code",
   "execution_count": 9,
   "metadata": {},
   "outputs": [
    {
     "data": {
      "text/plain": [
       "calcula_porcentagem_gc1 (generic function with 1 method)"
      ]
     },
     "metadata": {},
     "output_type": "display_data"
    }
   ],
   "source": [
    "function calcula_porcentagem_gc1(seq_len, g_cont, c_cont)\n",
    "    # \n",
    "    porc_gc = ((g_cont + c_cont) / seq_len) * 100\n",
    "    return porc_gc\n",
    "end"
   ]
  },
  {
   "cell_type": "code",
   "execution_count": 10,
   "metadata": {},
   "outputs": [
    {
     "data": {
      "text/plain": [
       "calcula_porcentagem_gc2 (generic function with 1 method)"
      ]
     },
     "metadata": {},
     "output_type": "display_data"
    }
   ],
   "source": [
    "function calcula_porcentagem_gc2(seq_len::Float64, g_cont::Float64, c_cont::Float64)::Float64\n",
    "    # \n",
    "    porc_gc = ((g_cont + c_cont) / seq_len) * 100\n",
    "    return porc_gc\n",
    "end"
   ]
  },
  {
   "cell_type": "markdown",
   "metadata": {},
   "source": []
  },
  {
   "cell_type": "code",
   "execution_count": 15,
   "metadata": {},
   "outputs": [
    {
     "data": {
      "text/plain": [
       "45.0"
      ]
     },
     "metadata": {},
     "output_type": "display_data"
    }
   ],
   "source": [
    "calcula_porcentagem_gc1(comprimento_seq, contagem_g, contagem_c)"
   ]
  },
  {
   "cell_type": "code",
   "execution_count": 16,
   "metadata": {},
   "outputs": [
    {
     "data": {
      "text/plain": [
       "45.0"
      ]
     },
     "metadata": {},
     "output_type": "display_data"
    }
   ],
   "source": [
    "pc_gc = calcula_porcentagem_gc1(comprimento_seq, contagem_g, contagem_c)"
   ]
  },
  {
   "cell_type": "code",
   "execution_count": 17,
   "metadata": {},
   "outputs": [
    {
     "data": {
      "text/plain": [
       "Float64"
      ]
     },
     "metadata": {},
     "output_type": "display_data"
    }
   ],
   "source": [
    "typeof(pc_gc)"
   ]
  },
  {
   "cell_type": "markdown",
   "metadata": {},
   "source": []
  },
  {
   "cell_type": "code",
   "execution_count": 14,
   "metadata": {},
   "outputs": [
    {
     "ename": "MethodError",
     "evalue": "MethodError: no method matching calcula_porcentagem_gc2(::Int64, ::Int64, ::Int64)",
     "output_type": "error",
     "traceback": [
      "MethodError: no method matching calcula_porcentagem_gc2(::Int64, ::Int64, ::Int64)\n",
      "\n",
      "Stacktrace:\n",
      "  [1] top-level scope\n",
      "    @ ~/Repositories/julia-code-clubs-ufabc/BasicSteps/Codes/funcoes.ipynb:1\n",
      "  [2] eval\n",
      "    @ ./boot.jl:373 [inlined]\n",
      "  [3] include_string(mapexpr::typeof(REPL.softscope), mod::Module, code::String, filename::String)\n",
      "    @ Base ./loading.jl:1196\n",
      "  [4] #invokelatest#2\n",
      "    @ ./essentials.jl:716 [inlined]\n",
      "  [5] invokelatest\n",
      "    @ ./essentials.jl:714 [inlined]\n",
      "  [6] (::VSCodeServer.var\"#150#151\"{VSCodeServer.NotebookRunCellArguments, String})()\n",
      "    @ VSCodeServer ~/.vscode/extensions/julialang.language-julia-1.5.11/scripts/packages/VSCodeServer/src/serve_notebook.jl:18\n",
      "  [7] withpath(f::VSCodeServer.var\"#150#151\"{VSCodeServer.NotebookRunCellArguments, String}, path::String)\n",
      "    @ VSCodeServer ~/.vscode/extensions/julialang.language-julia-1.5.11/scripts/packages/VSCodeServer/src/repl.jl:185\n",
      "  [8] notebook_runcell_request(conn::VSCodeServer.JSONRPC.JSONRPCEndpoint{Base.PipeEndpoint, Base.PipeEndpoint}, params::VSCodeServer.NotebookRunCellArguments)\n",
      "    @ VSCodeServer ~/.vscode/extensions/julialang.language-julia-1.5.11/scripts/packages/VSCodeServer/src/serve_notebook.jl:14\n",
      "  [9] dispatch_msg(x::VSCodeServer.JSONRPC.JSONRPCEndpoint{Base.PipeEndpoint, Base.PipeEndpoint}, dispatcher::VSCodeServer.JSONRPC.MsgDispatcher, msg::Dict{String, Any})\n",
      "    @ VSCodeServer.JSONRPC ~/.vscode/extensions/julialang.language-julia-1.5.11/scripts/packages/JSONRPC/src/typed.jl:67\n",
      " [10] serve_notebook(pipename::String; crashreporting_pipename::String)\n",
      "    @ VSCodeServer ~/.vscode/extensions/julialang.language-julia-1.5.11/scripts/packages/VSCodeServer/src/serve_notebook.jl:94\n",
      " [11] top-level scope\n",
      "    @ ~/.vscode/extensions/julialang.language-julia-1.5.11/scripts/notebook/notebook.jl:12\n",
      " [12] include(mod::Module, _path::String)\n",
      "    @ Base ./Base.jl:418\n",
      " [13] exec_options(opts::Base.JLOptions)\n",
      "    @ Base ./client.jl:292\n",
      " [14] _start()\n",
      "    @ Base ./client.jl:495"
     ]
    }
   ],
   "source": [
    "calcula_porcentagem_gc2(comprimento_seq, contagem_g, contagem_c)"
   ]
  },
  {
   "cell_type": "code",
   "execution_count": 20,
   "metadata": {},
   "outputs": [
    {
     "name": "stdout",
     "output_type": "stream",
     "text": [
      "Int64\n",
      "Int64\n",
      "Int64\n"
     ]
    }
   ],
   "source": [
    "println(typeof(comprimento_seq))\n",
    "println(typeof(contagem_g))\n",
    "println(typeof(contagem_c))"
   ]
  },
  {
   "cell_type": "markdown",
   "metadata": {},
   "source": [
    "# Referências e links\n",
    "\n",
    " * Tanmay Teaches Julia for Beginners: A Springboard to Machine Learning for All Ages (2020)\n",
    " * [JuliaIntroBR](https://juliaintro.github.io)\n"
   ]
  }
 ],
 "metadata": {
  "kernelspec": {
   "display_name": "Julia 1.7.1",
   "language": "julia",
   "name": "julia-1.7"
  },
  "language_info": {
   "file_extension": ".jl",
   "mimetype": "application/julia",
   "name": "julia",
   "version": "1.7.1"
  },
  "orig_nbformat": 4
 },
 "nbformat": 4,
 "nbformat_minor": 2
}
