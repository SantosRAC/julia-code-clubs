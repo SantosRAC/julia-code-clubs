{
 "cells": [
  {
   "cell_type": "markdown",
   "metadata": {},
   "source": [
    "# Variáveis\n",
    "Em Julia, variáveis são nomes associados a valores, ou seja, é uma forma de armazenar um valor para que este possa ser reutilizado.\n",
    "Assim, você pode armazenar um valor que você obteve após um cálculo, por exemplo, um uma variável, para depois poder reutilizá-lo em outras partes do código. "
   ]
  },
  {
   "cell_type": "markdown",
   "metadata": {},
   "source": [
    "Variáveis são criadas com o operador de atribuição `=`. Do lado esquero do operador é colocado o nome que se quer dar a variável, e do lado direito o valor ou a \"expressão\" (esta que deve gerar um valor) que se quer atribuir (ou armazenar) a esta variável.\n"
   ]
  },
  {
   "cell_type": "markdown",
   "metadata": {},
   "source": [
    "Obs: Resumidamente, podemos entender que uma expressão é uma junção de diferentes partes do código que geram um valor. Entre essas diferentes pertes do código podemos ter: valores, variáveis, operadores, e chamadas de funções. Para melhor entendimento desse conceito podemos entender uma expressão como uma expressão matemática, como: \n",
    "$$(2 + 3) - 5$$\n",
    "Que também é uma combinação de diferentes valores e operadores que geram um valor."
   ]
  },
  {
   "cell_type": "markdown",
   "metadata": {},
   "source": [
    "Note que na linguagem Julia, o sinal de \"igualdade\" (=) não tem o mesmo siginificado da Matemática, aqui ele é o operador de atribuição.\n",
    " \n",
    "Ou seja: `2 + 3 = 5`, não é um código válido."
   ]
  },
  {
   "cell_type": "markdown",
   "metadata": {},
   "source": [
    "Agora, vamos a alguns exemplos."
   ]
  },
  {
   "cell_type": "code",
   "execution_count": 2,
   "metadata": {},
   "outputs": [
    {
     "data": {
      "text/plain": [
       "10"
      ]
     },
     "metadata": {},
     "output_type": "display_data"
    }
   ],
   "source": [
    "# Atribuindo o valor 10 à variável x\n",
    "x = 10"
   ]
  },
  {
   "cell_type": "code",
   "execution_count": 3,
   "metadata": {},
   "outputs": [
    {
     "data": {
      "text/plain": [
       "12"
      ]
     },
     "metadata": {},
     "output_type": "display_data"
    }
   ],
   "source": [
    "# Reutilizando o valor 10 que está armazenado na variável x\n",
    "x + 2"
   ]
  },
  {
   "cell_type": "markdown",
   "metadata": {},
   "source": [
    "Agora, vamos entender o motivo de chamálas de variáveis:"
   ]
  },
  {
   "cell_type": "markdown",
   "metadata": {},
   "source": [
    "O motivo é simples, você pode reatribuir a variável que você criou a outro valor, não importando o tipo desse novo valor.\n",
    "\n",
    "Para fazer isso basta utilizar novamente o operdaor de atribuição, e atribuir à variável (criada anteriormente) a outro valor.\n",
    "\n",
    "Note, que fazendo isso, o valor que estava armazenado na variável será descartado e substituido por esse novo valor."
   ]
  },
  {
   "cell_type": "code",
   "execution_count": 4,
   "metadata": {},
   "outputs": [
    {
     "data": {
      "text/plain": [
       "30"
      ]
     },
     "metadata": {},
     "output_type": "display_data"
    }
   ],
   "source": [
    "# Reatribuindo a variável x com um novo valor\n",
    "x = 30"
   ]
  },
  {
   "cell_type": "code",
   "execution_count": 6,
   "metadata": {},
   "outputs": [
    {
     "data": {
      "text/plain": [
       "30"
      ]
     },
     "metadata": {},
     "output_type": "display_data"
    }
   ],
   "source": [
    "# Veja que agora o valor que está armazendo na variável x é 30\n",
    "x"
   ]
  },
  {
   "cell_type": "code",
   "execution_count": 7,
   "metadata": {},
   "outputs": [
    {
     "data": {
      "text/plain": [
       "20"
      ]
     },
     "metadata": {},
     "output_type": "display_data"
    }
   ],
   "source": [
    "# Vamos reatribuir a variável x, agor com uma expressão\n",
    "x = 2 * 10"
   ]
  },
  {
   "cell_type": "code",
   "execution_count": 8,
   "metadata": {},
   "outputs": [
    {
     "data": {
      "text/plain": [
       "20"
      ]
     },
     "metadata": {},
     "output_type": "display_data"
    }
   ],
   "source": [
    "# Agora o valor armazendo em x é o resuldao da expressão 2 * 10\n",
    "x"
   ]
  },
  {
   "cell_type": "markdown",
   "metadata": {},
   "source": [
    "Como dito anteriormente, não temos limitações sobre quais valores podemos armazenar nas variáveis. Por isso podemos reatribuir variáveis com valores de outros tipos diferentes dos originais."
   ]
  },
  {
   "cell_type": "markdown",
   "metadata": {},
   "source": [
    "Obs: Mesmo que isso seja possível, nomalmente não é feito. Porém, em alguns caos específicos, isso pode ser necessário."
   ]
  },
  {
   "cell_type": "markdown",
   "metadata": {},
   "source": [
    "Vamos reatribuir x, porém agora com uma string:"
   ]
  },
  {
   "cell_type": "code",
   "execution_count": 9,
   "metadata": {},
   "outputs": [
    {
     "data": {
      "text/plain": [
       "\"Hello World!\""
      ]
     },
     "metadata": {},
     "output_type": "display_data"
    }
   ],
   "source": [
    "x = \"Hello World!\""
   ]
  },
  {
   "cell_type": "code",
   "execution_count": 10,
   "metadata": {},
   "outputs": [
    {
     "data": {
      "text/plain": [
       "\"Hello World!\""
      ]
     },
     "metadata": {},
     "output_type": "display_data"
    }
   ],
   "source": [
    "# Vamos verificar o valor de x:\n",
    "x"
   ]
  },
  {
   "cell_type": "markdown",
   "metadata": {},
   "source": [
    "### Nomes permitidos"
   ]
  },
  {
   "cell_type": "markdown",
   "metadata": {},
   "source": [
    "Primeiramente, antes de falar dos nomes permitidos, cabe resaltar que as variáveis em Julia são case-sensitive. Isso pode paracer óbvio a primeira vista, pois, por intuição, sabemos que a variável `x` é diferente da variável `X`. Podemos dizer por exeplo que `x` é um número e que `X` é uma matriz. Mas acontece que algumas linguagens não são case-sensitive (geralmente linguagens mais antigas), por isso é sempre bom deixar isso claro. Ex:"
   ]
  },
  {
   "cell_type": "code",
   "execution_count": 4,
   "metadata": {},
   "outputs": [
    {
     "data": {
      "text/plain": [
       "20"
      ]
     },
     "metadata": {},
     "output_type": "display_data"
    }
   ],
   "source": [
    "# variável z minúsculo\n",
    "z = 1\n",
    "\n",
    "# variável Z maiúsculo\n",
    "Z = 20"
   ]
  },
  {
   "cell_type": "code",
   "execution_count": 2,
   "metadata": {},
   "outputs": [
    {
     "data": {
      "text/plain": [
       "1"
      ]
     },
     "metadata": {},
     "output_type": "display_data"
    }
   ],
   "source": [
    "z"
   ]
  },
  {
   "cell_type": "code",
   "execution_count": 5,
   "metadata": {},
   "outputs": [
    {
     "data": {
      "text/plain": [
       "20"
      ]
     },
     "metadata": {},
     "output_type": "display_data"
    }
   ],
   "source": [
    "Z"
   ]
  },
  {
   "cell_type": "markdown",
   "metadata": {},
   "source": [
    "Deixando esse ponto claro, podemos focar nos nomes que podemos dar às variáveis:"
   ]
  },
  {
   "cell_type": "markdown",
   "metadata": {},
   "source": [
    "* Os nomes de variáveis ​​devem começar com uma letra (AZ ou az), sublinhado ou um subconjunto de caracteres Unicode. \n",
    "* Não é permitido iniciar o nome de uma variável com números ou com operadores nativos do Julia, como +, -, * e /, por exemplo. \n",
    "* Após o início da variável os caracteres subsequentes podem incluir o simbolo !, números e caracteres Unicode. \n",
    "* Mesmo após o ínicio do nome da variável, ainda não será permitdo usar os operadores do Julia no nome da variável."
   ]
  },
  {
   "cell_type": "markdown",
   "metadata": {},
   "source": [
    "Ex:"
   ]
  },
  {
   "cell_type": "markdown",
   "metadata": {},
   "source": [
    "Nomes permitidos:\n",
    "```julia\n",
    "x = 1\n",
    "y = 2.5\n",
    "casa = \"Minha casa\"\n",
    "MinhaCasa = \"casa\"\n",
    "_var = 20\n",
    "var! = 8 / 2 \n",
    "```"
   ]
  },
  {
   "cell_type": "markdown",
   "metadata": {},
   "source": [
    "Nomes não permitidos:\n",
    "```julia\n",
    "1x = 1\n",
    "*y = 2.5\n",
    "x*x = 10\n",
    "y/x = 50\n",
    "```"
   ]
  },
  {
   "cell_type": "markdown",
   "metadata": {},
   "source": [
    "Obs: O motivo da não permissão do uso dos operadores do Julia nos nomes das variáveis é para evitar ambiguidade. Por exemplo, no código abaixo:\n",
    "```julia\n",
    "x*x = 10\n",
    "x*x\n",
    "```\n",
    "A variável foi chamda de `x*x`, porém `x*x` também significa `x * x` pois é permitodo que não haja espaço entre a variável e o operador. Por esse motivo, o código acima é inválido. "
   ]
  },
  {
   "cell_type": "markdown",
   "metadata": {},
   "source": [
    "Outra proibição na nomeação de variáveis é que as palavras-chave do Julia (também chadas de palavras reservadas) não podem ser usadas como nome de variável. O motivo é bastate simples: essas palavas definem o funcionamento básico de um código Julia, mudar o comportamento delas resultaria no mal funcionamento completo do código."
   ]
  },
  {
   "cell_type": "markdown",
   "metadata": {},
   "source": [
    "Esta é a lista de palavras-chave reservadas do Julia: \n",
    "\n",
    "```julia \n",
    "baremodule, begin, break, catch, const, continue, do, else, elseif, end, export, false, finally, for, function, global, if, import, let, local, macro, module, quote, return, struct, true, try, using, while\n",
    "```\n",
    "\n",
    "Como dito anteriormente, essas palavras-chave não podem ser usadas como nomes de variáveis. "
   ]
  },
  {
   "cell_type": "markdown",
   "metadata": {},
   "source": [
    "### Unicode"
   ]
  },
  {
   "cell_type": "markdown",
   "metadata": {},
   "source": [
    "Um dos recursos mais populares da linguagem Julia é o suporte nativo à caracteres Unicode. Algumas outras linguagem tem suporte parcial ou total a caracteres Unicode, porém o Julia tem um recurso especial: é possível inserí-los de forma simples no REPL ou no seu editor de código (o mesmo deve estar devidamente configurado) usano comandos LaTeX-like."
   ]
  },
  {
   "cell_type": "markdown",
   "metadata": {},
   "source": [
    "Para fazer isso, inicie com uma barra invertida (`\\`), após isso digite o nome LaTeX do símbolo e por fim, clique na tecla tab que o símbolo irá aparecer!"
   ]
  },
  {
   "cell_type": "markdown",
   "metadata": {},
   "source": [
    "Ex:"
   ]
  },
  {
   "cell_type": "code",
   "execution_count": 1,
   "metadata": {},
   "outputs": [
    {
     "data": {
      "text/plain": [
       "25"
      ]
     },
     "metadata": {},
     "output_type": "display_data"
    }
   ],
   "source": [
    "a = 1\n",
    "b = 3\n",
    "c = -4\n",
    "\n",
    "# \\Delta<tab>\n",
    "Δ = b^2 - 4*a*c"
   ]
  },
  {
   "cell_type": "markdown",
   "metadata": {},
   "source": [
    "A lista completa de comandos para os caracteres Unicode está no documentação. Segue o link: https://docs.julialang.org/en/v1/manual/unicode-input/"
   ]
  },
  {
   "cell_type": "markdown",
   "metadata": {},
   "source": [
    "### Convensões de nomenclatura"
   ]
  },
  {
   "cell_type": "markdown",
   "metadata": {},
   "source": [
    "Embora Julia imponha poucas restrições a nomes válidos, para que seu código seja o mais \"Julian\" possível, vale seguir as seguintes recomendações:"
   ]
  },
  {
   "cell_type": "markdown",
   "metadata": {},
   "source": [
    "* Os nomes das variáveis, funções e macros devem ser escritos com letras minúsculas, a não ser que um variável com letra maiúscula seja mais condizente com o algorítimo (por exemplo, é comum indicar matrizes com letras maiúsculas). Porém, na maior parte do tempo, prefira escrever tudo em minúsculo.\n",
    "* A separação de palavras pode ser indicada por sublinhados ('_'), mas o uso de sublinhados é desencorajado, a menos que o nome seja difícil de ler de outra forma. Em outras palavras: Os nomes de variávies, funções e macros devem ser escritos usando snake_case (snake case) ou flatcase (flat case), sendo o último mais usado na comunidade Julia.\n",
    "* Os nomes de Tipos e Módulos começam com uma letra maiúscula e a separação de palavras é mostrada com maiúsculas em vez de sublinhados. Em outras palavras: Os nomes de Tipos e Módulos devem ser escritos usando UpperCamelCase (upper camel case).\n",
    "* Os nomes das funções que alteram seus argumentos devem terminar com o símbolo ! para deixar explíssito esse comportamento. Estas funções são comumente chamadas de funções \"mutantes\", pois as mesmas alteram seus argumentos depois que a função é chamada e não apenas retornam um valor."
   ]
  }
 ],
 "metadata": {
  "kernelspec": {
   "display_name": "Julia 1.7.1",
   "language": "julia",
   "name": "julia-1.7"
  },
  "language_info": {
   "file_extension": ".jl",
   "mimetype": "application/julia",
   "name": "julia",
   "version": "1.7.1"
  },
  "orig_nbformat": 4
 },
 "nbformat": 4,
 "nbformat_minor": 2
}
