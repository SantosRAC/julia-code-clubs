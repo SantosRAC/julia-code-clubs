{
 "cells": [
  {
   "cell_type": "markdown",
   "metadata": {
    "id": "GLCEffDqj1kh",
    "jp-MarkdownHeadingCollapsed": true,
    "tags": []
   },
   "source": [
    "## Instalar e habilitar Julia\n",
    "Baseado [neste template](https://colab.research.google.com/github/ageron/julia_notebooks/blob/master/Julia_Colab_Notebook_Template.ipynb)."
   ]
  },
  {
   "cell_type": "code",
   "execution_count": 1,
   "metadata": {
    "colab": {
     "base_uri": "https://localhost:8080/"
    },
    "id": "GIeFXS0F0zww",
    "outputId": "37c76d3b-12b9-440b-8f86-03d964f1a4a0"
   },
   "outputs": [
    {
     "data": {
      "text/plain": []
     },
     "execution_count": 1,
     "metadata": {},
     "output_type": "execute_result"
    }
   ],
   "source": [
    "%%shell\n",
    "set -e\n",
    "\n",
    "#---------------------------------------------------#\n",
    "JULIA_VERSION=\"1.7.1\" # any version ≥ 0.7.0\n",
    "# JULIA_PACKAGES=\"IJulia BenchmarkTools Plots\"\n",
    "JULIA_PACKAGES=\"IJulia\"\n",
    "JULIA_PACKAGES_IF_GPU=\"CUDA\" # or CuArrays for older Julia versions\n",
    "JULIA_NUM_THREADS=2\n",
    "#---------------------------------------------------#\n",
    "\n",
    "if [ -n \"$COLAB_GPU\" ] && [ -z `which julia` ]; then\n",
    "  # Install Julia\n",
    "  JULIA_VER=`cut -d '.' -f -2 <<< \"$JULIA_VERSION\"`\n",
    "  echo \"Installing Julia $JULIA_VERSION on the current Colab Runtime...\"\n",
    "  BASE_URL=\"https://julialang-s3.julialang.org/bin/linux/x64\"\n",
    "  URL=\"$BASE_URL/$JULIA_VER/julia-$JULIA_VERSION-linux-x86_64.tar.gz\"\n",
    "  wget -nv $URL -O /tmp/julia.tar.gz # -nv means \"not verbose\"\n",
    "  tar -x -f /tmp/julia.tar.gz -C /usr/local --strip-components 1\n",
    "  rm /tmp/julia.tar.gz\n",
    "\n",
    "  # Install Packages\n",
    "  if [ \"$COLAB_GPU\" = \"1\" ]; then\n",
    "      JULIA_PACKAGES=\"$JULIA_PACKAGES $JULIA_PACKAGES_IF_GPU\"\n",
    "  fi\n",
    "  for PKG in `echo $JULIA_PACKAGES`; do\n",
    "    echo \"Installing Julia package $PKG...\"\n",
    "    julia -e 'using Pkg; pkg\"add '$PKG'; precompile;\"' &> /dev/null\n",
    "  done\n",
    "\n",
    "  # Install kernel and rename it to \"julia\"\n",
    "  echo \"Installing IJulia kernel...\"\n",
    "  julia -e 'using IJulia; IJulia.installkernel(\"julia\", env=Dict(\n",
    "      \"JULIA_NUM_THREADS\"=>\"'\"$JULIA_NUM_THREADS\"'\"))'\n",
    "  KERNEL_DIR=`julia -e \"using IJulia; print(IJulia.kerneldir())\"`\n",
    "  KERNEL_NAME=`ls -d \"$KERNEL_DIR\"/julia*`\n",
    "  mv -f $KERNEL_NAME \"$KERNEL_DIR\"/julia  \n",
    "\n",
    "  echo ''\n",
    "  echo \"Successfully installed `julia -v`!\"\n",
    "  echo \"Please reload this page (press Ctrl+R, ⌘+R, or the F5 key) then\"\n",
    "  echo \"jump to the 'Checking the Installation' section.\"\n",
    "fi"
   ]
  },
  {
   "cell_type": "markdown",
   "metadata": {},
   "source": [
    "# Avaliações condicionais em Julia\n",
    "18 de janeiro de 2020, Pedro\n",
    "### Conteúdo\n",
    "  1. Revisão de comparações\n",
    "  2. Variáveis e expressões *booleanas*\n",
    "  3. Operadores \"e\", \"ou\", e \"não\" (`&&`, `||` e `!`)\n",
    "  4. `parse()` e `readline()`\n",
    "  5. `if - elseif - else`\n",
    "  \n",
    "### Fontes\n",
    "  * [Julia documentation - Conditional Evaluation](https://docs.julialang.org/en/v1/manual/control-flow/#man-conditional-evaluation)\n",
    "  * [KALICHARAN, Noel. Julia - Bit by Bit. Programming for Begginers. Cap. 3. 2021.](https://doi.org/10.1007/978-3-030-73936-2)"
   ]
  },
  {
   "cell_type": "markdown",
   "metadata": {},
   "source": [
    "## Variáveis booleanas\n",
    "Nas últimas semanas, vimos um pouco sobre comparações entre números. Aprendemos a avaliar expressões como:"
   ]
  },
  {
   "cell_type": "code",
   "execution_count": 8,
   "metadata": {},
   "outputs": [
    {
     "data": {
      "text/plain": [
       "true"
      ]
     },
     "execution_count": 8,
     "metadata": {},
     "output_type": "execute_result"
    }
   ],
   "source": [
    "n = 8  # Guardando 8 em uma variável chamada n.\n",
    "n < 9"
   ]
  },
  {
   "cell_type": "code",
   "execution_count": 4,
   "metadata": {},
   "outputs": [
    {
     "data": {
      "text/plain": [
       "false"
      ]
     },
     "execution_count": 4,
     "metadata": {},
     "output_type": "execute_result"
    }
   ],
   "source": [
    "n > 123"
   ]
  },
  {
   "cell_type": "code",
   "execution_count": 5,
   "metadata": {},
   "outputs": [
    {
     "data": {
      "text/plain": [
       "true"
      ]
     },
     "execution_count": 5,
     "metadata": {},
     "output_type": "execute_result"
    }
   ],
   "source": [
    "n == 8"
   ]
  },
  {
   "cell_type": "code",
   "execution_count": 6,
   "metadata": {},
   "outputs": [
    {
     "data": {
      "text/plain": [
       "false"
      ]
     },
     "execution_count": 6,
     "metadata": {},
     "output_type": "execute_result"
    }
   ],
   "source": [
    "n < -Inf"
   ]
  },
  {
   "cell_type": "code",
   "execution_count": 7,
   "metadata": {},
   "outputs": [
    {
     "data": {
      "text/plain": [
       "true"
      ]
     },
     "execution_count": 7,
     "metadata": {},
     "output_type": "execute_result"
    }
   ],
   "source": [
    "n != NaN"
   ]
  },
  {
   "cell_type": "markdown",
   "metadata": {},
   "source": [
    "Todas essas expressões *retornam* somente dois possíveis valores, `true` ou `false`. Expressões e variáveis que funcionam desse jeito são chamadas **condicionais**, ou ***booleanas***, e surgem naturalmente em diversos contextos ao se programar. Elas podem ser usadas para controlar se determinadas partes do código vão ser executadas ou não, como veremos adiante.\n",
    "\n",
    "Os resultados das expressões booleanas acima poderiam ser então salvos em uma variável:"
   ]
  },
  {
   "cell_type": "code",
   "execution_count": 10,
   "metadata": {},
   "outputs": [
    {
     "data": {
      "text/plain": [
       "false"
      ]
     },
     "execution_count": 10,
     "metadata": {},
     "output_type": "execute_result"
    }
   ],
   "source": [
    "variavel_booleana = (n > Inf)  # Os parênteses são opcionais, só pra visualizar melhor."
   ]
  },
  {
   "cell_type": "markdown",
   "metadata": {},
   "source": [
    "Enquanto o valor dessa variável é `false`, seu tipo, quando perguntado à Julia, é booleano:"
   ]
  },
  {
   "cell_type": "code",
   "execution_count": 17,
   "metadata": {},
   "outputs": [
    {
     "name": "stdout",
     "output_type": "stream",
     "text": [
      "false\n",
      "Bool\n"
     ]
    }
   ],
   "source": [
    "println(variavel_booleana)\n",
    "println(typeof(variavel_booleana))"
   ]
  },
  {
   "cell_type": "markdown",
   "metadata": {},
   "source": [
    "Podemos então usar o valor dessa expressão para decidir se vamos rodar um pedaço de código ou não:"
   ]
  },
  {
   "cell_type": "code",
   "execution_count": 22,
   "metadata": {},
   "outputs": [],
   "source": [
    "variavel_booleana_falsa = false\n",
    "\n",
    "if variavel_booleana\n",
    "    println(\"O valor da variável booleana é true.\")\n",
    "end\n",
    "\n",
    "if variavel_booleana_falsa\n",
    "    println(\"A Julia não vai escrever essa frase.\")\n",
    "end"
   ]
  },
  {
   "cell_type": "markdown",
   "metadata": {},
   "source": [
    "No lugar das variáveis no exemplo acima, podemos, na verdade usar qualquer expressão booleana, que retorne `true` ou `false`:"
   ]
  },
  {
   "cell_type": "code",
   "execution_count": 28,
   "metadata": {},
   "outputs": [
    {
     "name": "stdout",
     "output_type": "stream",
     "text": [
      "A álgebra ainda funciona.\n",
      "τ vale 6.283185307179586\n"
     ]
    }
   ],
   "source": [
    "if (3 + 5) / 4 == 2\n",
    "    println(\"A álgebra ainda funciona.\")\n",
    "end\n",
    "\n",
    "if (3 + 5) / 4 != 2\n",
    "    println(\"Algo tá errado.\")\n",
    "end"
   ]
  },
  {
   "cell_type": "markdown",
   "metadata": {},
   "source": [
    "Pra não repetir código, poderíamos escrever o código de cima usando `!`, o operador booleano de negação. Ele é usado para inverter o valor da expressão booleana em que é aplicado, por exemplo:"
   ]
  },
  {
   "cell_type": "code",
   "execution_count": 30,
   "metadata": {},
   "outputs": [
    {
     "name": "stdout",
     "output_type": "stream",
     "text": [
      "O céu não é verde!\n"
     ]
    }
   ],
   "source": [
    "o_céu_é_verde = false\n",
    "\n",
    "if !o_céu_é_verde\n",
    "    println(\"O céu não é verde!\")\n",
    "end"
   ]
  },
  {
   "cell_type": "markdown",
   "metadata": {},
   "source": [
    "Embora ainda não seja o melhor jeito, o outro exemplo poderia então ser escrito assim:"
   ]
  },
  {
   "cell_type": "code",
   "execution_count": 31,
   "metadata": {},
   "outputs": [
    {
     "name": "stdout",
     "output_type": "stream",
     "text": [
      "A álgebra ainda funciona.\n",
      "τ vale 6.283185307179586\n"
     ]
    }
   ],
   "source": [
    "expressão_booleana = (3 + 5) / 4 == 2\n",
    "\n",
    "if expressão_booleana\n",
    "    println(\"A álgebra ainda funciona.\")\n",
    "    # Pode ter quanto código aqui quanto você quiser,\n",
    "    # o código abaixo é só qualquer blablablá pra exemplificar.\n",
    "    b = π\n",
    "    tau = b * 2\n",
    "    b -= 23\n",
    "    b = b * sin(tau) ÷ 3\n",
    "end\n",
    "\n",
    "if !expressão_booleana\n",
    "    println(\"Algo tá errado.\")\n",
    "end"
   ]
  },
  {
   "cell_type": "markdown",
   "metadata": {},
   "source": [
    "Note também que o segundo `if` é pra executar sempre que o primeiro não executar, e existe uma palavra-chave em Julia justamente pra simplificar esses casos, a `else`. Um `else` cria um bloco de código que roda se o `if` não rodar. O jeito mais conciso de se escrever o exemplo seria então algo como:"
   ]
  },
  {
   "cell_type": "code",
   "execution_count": 32,
   "metadata": {},
   "outputs": [
    {
     "name": "stdout",
     "output_type": "stream",
     "text": [
      "A álgebra ainda funciona.\n"
     ]
    }
   ],
   "source": [
    "if (3 + 5) / 4 == 2\n",
    "    println(\"A álgebra ainda funciona.\")\n",
    "else\n",
    "    println(\"Algo tá errado.\")\n",
    "end"
   ]
  },
  {
   "cell_type": "markdown",
   "metadata": {},
   "source": [
    "Podemos combinar duas expressões booleanas com os operadores \"e\" e \"ou\", que são escritos em Julia como `&&` e `||`, respectivamente. `a && b` será `true` somente se `a` for `true` *e* `b` for `true`, enquanto `a || b` será verdadeira mesmo se um dos dois for falso."
   ]
  },
  {
   "cell_type": "code",
   "execution_count": 51,
   "metadata": {},
   "outputs": [
    {
     "data": {
      "text/plain": [
       "true"
      ]
     },
     "execution_count": 51,
     "metadata": {},
     "output_type": "execute_result"
    }
   ],
   "source": [
    "n = 5\n",
    "(n == 3) || (n == 5)"
   ]
  },
  {
   "cell_type": "code",
   "execution_count": 52,
   "metadata": {},
   "outputs": [
    {
     "data": {
      "text/plain": [
       "false"
      ]
     },
     "execution_count": 52,
     "metadata": {},
     "output_type": "execute_result"
    }
   ],
   "source": [
    "(n > 6) && (n > 1)"
   ]
  },
  {
   "cell_type": "code",
   "execution_count": 107,
   "metadata": {},
   "outputs": [
    {
     "data": {
      "text/plain": [
       "false"
      ]
     },
     "execution_count": 107,
     "metadata": {},
     "output_type": "execute_result"
    }
   ],
   "source": [
    "n > 6 || !(n > 1)"
   ]
  },
  {
   "cell_type": "code",
   "execution_count": 54,
   "metadata": {},
   "outputs": [
    {
     "data": {
      "text/plain": [
       "false"
      ]
     },
     "execution_count": 54,
     "metadata": {},
     "output_type": "execute_result"
    }
   ],
   "source": [
    "n > 40 || n > 10"
   ]
  },
  {
   "cell_type": "markdown",
   "metadata": {},
   "source": [
    "Usar expressões condicionais é o primeiro jeito que vemos de se controlar a execução de um programa, determinando quais linhas vão ser executadas e *se* elas vão ser executadas. Controlar o programa dessa forma fica mais interessante se adicionarmos uma camada de interatividade."
   ]
  },
  {
   "cell_type": "code",
   "execution_count": 38,
   "metadata": {},
   "outputs": [
    {
     "name": "stdin",
     "output_type": "stream",
     "text": [
      "stdin>  oi\n"
     ]
    },
    {
     "name": "stdout",
     "output_type": "stream",
     "text": [
      "Oi!\n"
     ]
    }
   ],
   "source": [
    "mensagem_do_usuário = readline()\n",
    "\n",
    "if mensagem_do_usuário == \"oi\"\n",
    "    println(\"Oi!\")\n",
    "else\n",
    "    println(\"Só respondo se disser 'oi'.\")\n",
    "end"
   ]
  },
  {
   "cell_type": "markdown",
   "metadata": {},
   "source": [
    "Caso queiramos receber um número, podemos transformar um pedaço de texto (chamado *string* em programação) com a função `parse`. Essa função recebe dois argumentos: o tipo ao qual queremos converter e a *string* a ser convertida. Por exemplo: "
   ]
  },
  {
   "cell_type": "code",
   "execution_count": 40,
   "metadata": {},
   "outputs": [
    {
     "name": "stdout",
     "output_type": "stream",
     "text": [
      "Int64\n"
     ]
    }
   ],
   "source": [
    "numero = parse(Int, \"543123\")\n",
    "println(typeof(numero))"
   ]
  },
  {
   "cell_type": "code",
   "execution_count": 44,
   "metadata": {},
   "outputs": [
    {
     "name": "stdout",
     "output_type": "stream",
     "text": [
      "String\n",
      "Float64\n"
     ]
    }
   ],
   "source": [
    "meu_texto = \"1.4321\"\n",
    "println(typeof(meu_texto))\n",
    "meu_número = parse(Float64, meu_texto)\n",
    "println(typeof(meu_número))"
   ]
  },
  {
   "cell_type": "markdown",
   "metadata": {},
   "source": [
    "A gente poderia usar isso em um programa que recebe a nota de um aluno e diz se ele foi aprovado, com nota maior que 5:"
   ]
  },
  {
   "cell_type": "code",
   "execution_count": 46,
   "metadata": {},
   "outputs": [
    {
     "name": "stdin",
     "output_type": "stream",
     "text": [
      "stdin>  77\n"
     ]
    },
    {
     "name": "stdout",
     "output_type": "stream",
     "text": [
      "O aluno foi aprovado!\n"
     ]
    }
   ],
   "source": [
    "nota = parse(Float64, readline())\n",
    "\n",
    "if nota >= 5\n",
    "    println(\"O aluno foi aprovado!\")\n",
    "else\n",
    "    println(\"O aluno ainda não foi aprovado :(\")\n",
    "end"
   ]
  },
  {
   "cell_type": "markdown",
   "metadata": {},
   "source": [
    "Mas pode ser que queiramos também testar se ele está de recuperação, com nota entre 3 e 5. Se fizermos assim, pode ser que dê errado (tente com um número maior que 5):"
   ]
  },
  {
   "cell_type": "code",
   "execution_count": 46,
   "metadata": {},
   "outputs": [
    {
     "name": "stdin",
     "output_type": "stream",
     "text": [
      "stdin>  77\n"
     ]
    },
    {
     "name": "stdout",
     "output_type": "stream",
     "text": [
      "O aluno foi aprovado!\n"
     ]
    }
   ],
   "source": [
    "# Esse código tá errado!\n",
    "nota = parse(Float64, readline())\n",
    "\n",
    "if nota >= 5\n",
    "    println(\"O aluno foi aprovado! :D\")\n",
    "end\n",
    "if nota >= 3\n",
    "    println(\"O aluno tá de recuperação :/\")\n",
    "else\n",
    "    println(\"O aluno foi reprovado :(\")\n",
    "end"
   ]
  },
  {
   "cell_type": "markdown",
   "metadata": {},
   "source": [
    "Daria pra usarmos o que aprendemos antes, combinado com o operador `&&`:"
   ]
  },
  {
   "cell_type": "code",
   "execution_count": 49,
   "metadata": {},
   "outputs": [
    {
     "name": "stdin",
     "output_type": "stream",
     "text": [
      "stdin>  6\n"
     ]
    },
    {
     "name": "stdout",
     "output_type": "stream",
     "text": [
      "O aluno foi aprovado! :D\n"
     ]
    }
   ],
   "source": [
    "# Código feio, mas pelo menos funciona.\n",
    "nota = parse(Float64, readline())\n",
    "\n",
    "if nota >= 5\n",
    "    println(\"O aluno foi aprovado! :D\")\n",
    "end\n",
    "if (nota >= 3) && (nota < 5)\n",
    "    println(\"O aluno tá de recuperação :/\")\n",
    "end\n",
    "if nota < 3\n",
    "    println(\"O aluno foi reprovado :(\")\n",
    "end"
   ]
  },
  {
   "cell_type": "markdown",
   "metadata": {},
   "source": [
    "Ou ainda, se formos mais engenhosos, podemos escrever menos código:"
   ]
  },
  {
   "cell_type": "code",
   "execution_count": 57,
   "metadata": {},
   "outputs": [
    {
     "name": "stdin",
     "output_type": "stream",
     "text": [
      "stdin>  2\n"
     ]
    },
    {
     "name": "stdout",
     "output_type": "stream",
     "text": [
      "O aluno foi reprovado :(\n"
     ]
    }
   ],
   "source": [
    "# Ideia interessante... Mas ainda não.\n",
    "nota = parse(Float64, readline())\n",
    "\n",
    "if nota >= 5\n",
    "    println(\"O aluno foi aprovado! :D\")\n",
    "else\n",
    "    if nota >= 3\n",
    "        println(\"O aluno tá de recuperação :/\")\n",
    "    else\n",
    "        println(\"O aluno foi reprovado :(\")\n",
    "    end\n",
    "end"
   ]
  },
  {
   "cell_type": "markdown",
   "metadata": {},
   "source": [
    "Como vários `if`s encadeados desse jeito são úteis para não precisar escrever um monte de expressões, como no penúltimo exemplo, mas são chatos de se ler e interpretar, criou-se a palavra-chave `elseif`, que faz exatamente a mesma coisa do exemplo anterior, mas de forma mais sucinta:"
   ]
  },
  {
   "cell_type": "code",
   "execution_count": 57,
   "metadata": {},
   "outputs": [
    {
     "name": "stdin",
     "output_type": "stream",
     "text": [
      "stdin>  2\n"
     ]
    },
    {
     "name": "stdout",
     "output_type": "stream",
     "text": [
      "O aluno foi reprovado :(\n"
     ]
    }
   ],
   "source": [
    "# Agora sim!\n",
    "nota = parse(Float64, readline())\n",
    "\n",
    "if nota >= 5\n",
    "    println(\"O aluno foi aprovado! :D\")\n",
    "elseif nota >= 3\n",
    "    println(\"O aluno tá de recuperação :/\")\n",
    "else\n",
    "    println(\"O aluno foi reprovado :(\")\n",
    "end"
   ]
  },
  {
   "cell_type": "markdown",
   "metadata": {},
   "source": [
    "Dá pra gente entender o `elseif` como um `if` que só roda se o de cima não rodar. Podemos usar vários desses ao mesmo tempo, pra testar diversas condições de forma legível. Imagine a bagunça que seria reescrever o exemplo abaixo usando `if`s e `else`s encadeados:"
   ]
  },
  {
   "cell_type": "code",
   "execution_count": 63,
   "metadata": {},
   "outputs": [
    {
     "name": "stdin",
     "output_type": "stream",
     "text": [
      "stdin>  5.5\n"
     ]
    },
    {
     "name": "stdout",
     "output_type": "stream",
     "text": [
      "A nota do aluno está entre 5 e 6.\n"
     ]
    }
   ],
   "source": [
    "nota = parse(Float64, readline())\n",
    "\n",
    "if nota >= 9\n",
    "    println(\"O aluno tirou pelo menos 9!\")\n",
    "elseif nota >= 8\n",
    "    println(\"A nota do aluno está entre 8 e 9.\")\n",
    "elseif nota >= 7\n",
    "    println(\"A nota do aluno está entre 7 e 8.\")\n",
    "elseif nota >= 6\n",
    "    println(\"A nota do aluno está entre 6 e 7.\")\n",
    "elseif nota >= 5\n",
    "    println(\"A nota do aluno está entre 5 e 6.\")\n",
    "elseif nota >= 4\n",
    "    println(\"A nota do aluno está entre 4 e 5.\")\n",
    "elseif nota >= 3\n",
    "    println(\"A nota do aluno está entre 3 e 4.\")\n",
    "elseif nota >= 2\n",
    "    println(\"A nota do aluno está entre 2 e 3.\")\n",
    "elseif nota >= 1\n",
    "    println(\"A nota do aluno está entre 1 e 2.\")\n",
    "elseif nota >= 0\n",
    "    println(\"A nota do aluno está entre 0 e 1.\")\n",
    "else\n",
    "    println(\"O aluno tirou uma nota negativa!\")\n",
    "end"
   ]
  },
  {
   "cell_type": "markdown",
   "metadata": {},
   "source": [
    "Reiterando, o `elseif` é um `if` que só roda se *nenhum* `if` acima rodar.\n",
    "\n",
    "Para encerrar, podemos brincar de adivinhar um número secreto que o programa escolheu. Rode a célula abaixo pra selecionar um número secreto."
   ]
  },
  {
   "cell_type": "code",
   "execution_count": 98,
   "metadata": {},
   "outputs": [
    {
     "name": "stdout",
     "output_type": "stream",
     "text": [
      "Escolhi um número!\n"
     ]
    }
   ],
   "source": [
    "# Só vamos entender essa linha melhor em uma próxima reunião. Por ora, basta sa-\n",
    "# ber que ela guarda na variável segredo um número aleatório entre 1 e 100.\n",
    "segredo = rand(1:101)\n",
    "println(\"Escolhi um número!\")"
   ]
  },
  {
   "cell_type": "markdown",
   "metadata": {},
   "source": [
    "Rode a célula abaixo pra dar um chute, você pode tentar várias vezes."
   ]
  },
  {
   "cell_type": "code",
   "execution_count": 105,
   "metadata": {},
   "outputs": [
    {
     "name": "stdin",
     "output_type": "stream",
     "text": [
      "stdin>  98\n"
     ]
    },
    {
     "name": "stdout",
     "output_type": "stream",
     "text": [
      "Parabéns, você acertou!\n"
     ]
    }
   ],
   "source": [
    "chute = parse(Int, readline())\n",
    "if chute == segredo\n",
    "    println(\"Parabéns, você acertou!\")\n",
    "elseif chute > segredo\n",
    "    println(\"Tente um menor!\")\n",
    "else\n",
    "    println(\"Tente um maior!\")\n",
    "end"
   ]
  },
  {
   "cell_type": "markdown",
   "metadata": {},
   "source": [
    "Rode a célula abaixo pra revelar qual número foi escolhido."
   ]
  },
  {
   "cell_type": "code",
   "execution_count": 106,
   "metadata": {},
   "outputs": [
    {
     "name": "stdout",
     "output_type": "stream",
     "text": [
      "O número era 98\n"
     ]
    }
   ],
   "source": [
    "println(\"O número era \", segredo)"
   ]
  },
  {
   "cell_type": "markdown",
   "metadata": {},
   "source": [
    "Por fim, um exercício interessante, caso tenha interesse, é tentar inverter os papéis: escrever uma célula que tenta adivinhar um número que você escolheu e vai mudando o chute dela cada vez que você a roda, até acertar."
   ]
  }
 ],
 "metadata": {
  "colab": {
   "collapsed_sections": [],
   "name": "Julia_Colab_Notebook_Template.ipynb",
   "provenance": []
  },
  "kernelspec": {
   "display_name": "Julia 1.6.3",
   "language": "julia",
   "name": "julia-1.6"
  },
  "language_info": {
   "file_extension": ".jl",
   "mimetype": "application/julia",
   "name": "julia",
   "version": "1.7.1"
  }
 },
 "nbformat": 4,
 "nbformat_minor": 4
}
