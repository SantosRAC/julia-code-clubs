{
 "cells": [
  {
   "cell_type": "markdown",
   "metadata": {},
   "source": [
    "## Problem\n",
    "\n",
    "A sequence is an ordered collection of objects (usually numbers), which are allowed to repeat. Sequences can be finite or infinite. Two examples are the finite sequence $(\\pi, -\\sqrt{2}, 0, \\pi)$ and the infinite sequence of odd numbers $(1,3,5,7,9,...)$. We use the notation an to represent the $n$-th term of a sequence.\n",
    "\n",
    "A recurrence relation is a way of defining the terms of a sequence with respect to the values of previous terms. In the case of Fibonacci's rabbits from the introduction, any given month will contain the rabbits that were alive the previous month, plus any new offspring. A key observation is that the number of offspring in any month is equal to the number of rabbits that were alive two months prior. As a result, if $F_n$ represents the number of rabbit pairs alive after the $n$-th month, then we obtain the Fibonacci sequence having terms Fn that are defined by the recurrence relation $F_n=F_{n−1} + F_{n−2}$ (with $F_1 = F_2 = 1$ to initiate the sequence). Although the sequence bears Fibonacci's name, it was known to Indian mathematicians over two millennia ago.\n",
    "\n",
    "When finding the $n$-th term of a sequence defined by a recurrence relation, we can simply use the recurrence relation to generate terms for progressively larger values of $n$. This problem introduces us to the computational technique of dynamic programming, which successively builds up solutions by using the answers to smaller cases.\n",
    "\n",
    "Given: Positive integers $n \\le 40$ and $k \\le 5$.\n",
    "\n",
    "Return: The total number of rabbit pairs that will be present after $n$ months, if we begin with 1 pair and in each generation, every pair of reproduction-age rabbits produces a litter of $k$ rabbit pairs (instead of only 1 pair)."
   ]
  },
  {
   "cell_type": "markdown",
   "metadata": {},
   "source": [
    "### Resposta\n",
    "Como o problema pede que seja calculado o elemento $n$ da sequência de Fibonacci com $k$ pares de coelhos ao invéz de 1, a fórmula será alterada para a seguinte forma:\n",
    "$$F_n = F_{n-1} + kF_{n-2}$$\n",
    "Pois, observando a sequência, percebemos que apenas os coelhos em $F_{n-2}$ estão prontos para ploriferar."
   ]
  },
  {
   "cell_type": "markdown",
   "metadata": {},
   "source": [
    "#### Código\n",
    "Existem várias técnicas para encontrar os valores da sequência de Fibonnaci. Vamos abordar três formas de encontrar o n-ésimo valor da sequência: usando vetores, usando variávies e usando recursão + memoization."
   ]
  },
  {
   "cell_type": "markdown",
   "metadata": {},
   "source": [
    "#### 1ª forma: Usando vetores\n",
    "Essa é provavelmente a forma mais legível de se escrever uma função de Fibonnaci, pois podemos usar a indexação para deixar mais claro a posição do elemento na sequência:"
   ]
  },
  {
   "cell_type": "code",
   "execution_count": 1,
   "metadata": {},
   "outputs": [
    {
     "data": {
      "text/plain": [
       "fib_vec (generic function with 2 methods)"
      ]
     },
     "metadata": {},
     "output_type": "display_data"
    }
   ],
   "source": [
    "function fib_vec(n, k=1)\n",
    "    f = Vector{Int}(undef, n)\n",
    "    f[1] = f[2] = 1\n",
    "    for i in 3:n\n",
    "        f[i] = f[i-1] + k*f[i-2]\n",
    "    end\n",
    "    return f\n",
    "end"
   ]
  },
  {
   "cell_type": "code",
   "execution_count": 2,
   "metadata": {},
   "outputs": [
    {
     "data": {
      "text/plain": [
       "6-element Vector{Int64}:\n",
       " 1\n",
       " 1\n",
       " 2\n",
       " 3\n",
       " 5\n",
       " 8"
      ]
     },
     "metadata": {},
     "output_type": "display_data"
    }
   ],
   "source": [
    "# n = 6, k = 1\n",
    "fib_vec(6)"
   ]
  },
  {
   "cell_type": "code",
   "execution_count": 3,
   "metadata": {},
   "outputs": [
    {
     "data": {
      "text/plain": [
       "5-element Vector{Int64}:\n",
       "  1\n",
       "  1\n",
       "  4\n",
       "  7\n",
       " 19"
      ]
     },
     "metadata": {},
     "output_type": "display_data"
    }
   ],
   "source": [
    "# n = 5, k = 3\n",
    "fib_vec(5, 3)"
   ]
  },
  {
   "cell_type": "markdown",
   "metadata": {},
   "source": [
    "Obs: fica a critério do usuário retornar apenas o último valor do vetor usando `last(f)`, `f[n]` ou `f[end]`"
   ]
  },
  {
   "cell_type": "markdown",
   "metadata": {},
   "source": [
    "Temos ainda um ponto interessante nesse método que é o uso de um vetor de tamanho pré-definido porém com valores indefinidos, pois fazer isso é mais eficiente que criar um vetor vazio e ir fazendo push dos novos valores a cada iteração, além de tornar a função mais próxima da notação matemática."
   ]
  },
  {
   "cell_type": "markdown",
   "metadata": {},
   "source": [
    "#### 2ª forma: usando variáveis\n",
    "Essa forma é um pouco mais confusa do que a primeira, pois esta conta com um fluxo de execução completamente diferente. Nesse algoritimo as variáveis $a$ e $b$ tomarão o lugar de $F_n$, $F_{n-1}$ e $F_{n-2}$, sendo que diferente da versão que usa vetor, apenas esses três valores serão armazenados durante o loop ao invés de todos os valores da sequência."
   ]
  },
  {
   "cell_type": "code",
   "execution_count": 17,
   "metadata": {},
   "outputs": [
    {
     "data": {
      "text/plain": [
       "fib_var (generic function with 2 methods)"
      ]
     },
     "metadata": {},
     "output_type": "display_data"
    }
   ],
   "source": [
    "function fib_var(n, k=1)\n",
    "    b = a = 1\n",
    "    for _ in 3:n\n",
    "        a, b = a + k*b, a\n",
    "    end\n",
    "    return a\n",
    "end"
   ]
  },
  {
   "cell_type": "code",
   "execution_count": 18,
   "metadata": {},
   "outputs": [
    {
     "data": {
      "text/plain": [
       "8"
      ]
     },
     "metadata": {},
     "output_type": "display_data"
    }
   ],
   "source": [
    "# n = 6, k = 1\n",
    "fib_var(6)"
   ]
  },
  {
   "cell_type": "code",
   "execution_count": 19,
   "metadata": {},
   "outputs": [
    {
     "data": {
      "text/plain": [
       "19"
      ]
     },
     "metadata": {},
     "output_type": "display_data"
    }
   ],
   "source": [
    "# n = 5, k = 3\n",
    "fib_var(5, 3)"
   ]
  },
  {
   "cell_type": "code",
   "execution_count": 20,
   "metadata": {},
   "outputs": [
    {
     "data": {
      "text/plain": [
       "20444528200"
      ]
     },
     "metadata": {},
     "output_type": "display_data"
    }
   ],
   "source": [
    "# n = 30, k = 3\n",
    "fib_var(30, 3)"
   ]
  },
  {
   "cell_type": "markdown",
   "metadata": {},
   "source": [
    "Para entender o funcionamento dessa função, substitua $a$ por $F_{n-1}$ e $b$ por $F_{n-2}$, quando a primeira iteração acontece, $a$ se torna $F_{n}$ e $b$ se torna $F_{n-1}$, que por sua vez, na próxima iteração serão novamente equivalentes a $F_{n-1}$ e $F_{n-2}$, permitindo que o valor de $F_{n}$ seja calculado novamente."
   ]
  },
  {
   "cell_type": "markdown",
   "metadata": {},
   "source": [
    "#### 3ª forma: usando recursividade + memoization\n",
    "A última forma é a mais interessante, porém a versão puramente recursiva tem um custo muito alto pois a mesma refaz os mesmos cálculos repetidas vezes. Para evitar cálculos desnecessários, o uso da técnica de memoization é bem útil, pois usando-a podemos armazenar o resultado das chamadas da função em cache, para que quando essa função seja chamada com esses mesmos argumentos seja retornado o resultado armazenado em cahe em vez de realizar o cálculo novamente."
   ]
  },
  {
   "cell_type": "code",
   "execution_count": 8,
   "metadata": {},
   "outputs": [
    {
     "data": {
      "text/plain": [
       "Dict{Tuple{Int64, Int64}, Int64}()"
      ]
     },
     "metadata": {},
     "output_type": "display_data"
    }
   ],
   "source": [
    "const cache = Dict{NTuple{2, Int}, Int}()"
   ]
  },
  {
   "cell_type": "code",
   "execution_count": 9,
   "metadata": {},
   "outputs": [
    {
     "data": {
      "text/plain": [
       "fib_rec (generic function with 2 methods)"
      ]
     },
     "metadata": {},
     "output_type": "display_data"
    }
   ],
   "source": [
    "function fib_rec(n, k=1)\n",
    "    args = (n, k)\n",
    "    \n",
    "    n ∈ (1, 2) && return 1\n",
    "    args ∈ keys(cache) && return cache[args]\n",
    "    \n",
    "    cache[args] = fib_rec(n - 1, k) + (k * fib_rec(n - 2, k))\n",
    "    return cache[args]\n",
    "end"
   ]
  },
  {
   "cell_type": "code",
   "execution_count": 10,
   "metadata": {},
   "outputs": [
    {
     "data": {
      "text/plain": [
       "8"
      ]
     },
     "metadata": {},
     "output_type": "display_data"
    }
   ],
   "source": [
    "# n = 6, k = 1\n",
    "fib_rec(6)"
   ]
  },
  {
   "cell_type": "code",
   "execution_count": 11,
   "metadata": {},
   "outputs": [
    {
     "data": {
      "text/plain": [
       "19"
      ]
     },
     "metadata": {},
     "output_type": "display_data"
    }
   ],
   "source": [
    "# n = 5, k = 3\n",
    "fib_rec(5, 3)"
   ]
  },
  {
   "cell_type": "code",
   "execution_count": 12,
   "metadata": {},
   "outputs": [
    {
     "data": {
      "text/plain": [
       "20444528200"
      ]
     },
     "metadata": {},
     "output_type": "display_data"
    }
   ],
   "source": [
    "# n = 30, k = 3\n",
    "fib_rec(30, 3)"
   ]
  },
  {
   "cell_type": "markdown",
   "metadata": {},
   "source": [
    "Como vimos na definição da função, os resultados das chamadas da função `fib_rec(n, k)` são armazenados no dicionário cache, em que as chaves desse dicionários são tuplas representando os argumentos da função e os valores são os retornos da chamada da função para essa tupla de argumentos. A cada chamada da função, é verificado se os argumentos já são chaves do dicionário cache, ou seja, se o retorno para essa tupla de argumentos já foi calculada, se sim ele vai retornar o resultado armazenado em cache, se não ele vai fazer o cálculo, armazenar em cache e retornar esse valor."
   ]
  },
  {
   "cell_type": "markdown",
   "metadata": {},
   "source": [
    "Obs: o dicionário cache é definido como constante por questões de performance, pois é boa prática usar variáveis globais no corpo de funções apenas elas forem constantes, caso contrário, haverá perda de performance."
   ]
  },
  {
   "cell_type": "markdown",
   "metadata": {},
   "source": [
    "Agora, vamos verificar o nosso cache:"
   ]
  },
  {
   "cell_type": "code",
   "execution_count": 16,
   "metadata": {},
   "outputs": [
    {
     "data": {
      "text/plain": [
       "Dict{Tuple{Int64, Int64}, Int64} with 32 entries:\n",
       "  (12, 3) => 6160\n",
       "  (24, 3) => 137109280\n",
       "  (3, 1)  => 2\n",
       "  (8, 3)  => 217\n",
       "  (17, 3) => 399331\n",
       "  (28, 3) => 3855438727\n",
       "  (23, 3) => 59541067\n",
       "  (19, 3) => 2117473\n",
       "  (22, 3) => 25856071\n",
       "  (30, 3) => 20444528200\n",
       "  (6, 3)  => 40\n",
       "  (11, 3) => 2683\n",
       "  (9, 3)  => 508\n",
       "  (14, 3) => 32689\n",
       "  (3, 3)  => 4\n",
       "  (4, 1)  => 3\n",
       "  (29, 3) => 8878212019\n",
       "  (7, 3)  => 97\n",
       "  (25, 3) => 315732481\n",
       "  ⋮       => ⋮"
      ]
     },
     "metadata": {},
     "output_type": "display_data"
    }
   ],
   "source": [
    "cache"
   ]
  }
 ],
 "metadata": {
  "kernelspec": {
   "display_name": "Julia 1.7.1",
   "language": "julia",
   "name": "julia-1.7"
  },
  "language_info": {
   "file_extension": ".jl",
   "mimetype": "application/julia",
   "name": "julia",
   "version": "1.7.1"
  },
  "orig_nbformat": 4
 },
 "nbformat": 4,
 "nbformat_minor": 2
}
