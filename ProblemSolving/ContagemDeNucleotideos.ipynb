{
 "cells": [
  {
   "cell_type": "markdown",
   "id": "cd4c6005-4d23-4b47-984b-5f7df13d024f",
   "metadata": {},
   "source": [
    "# [Rosalind - Counting DNA Nucleotides](https://rosalind.info/problems/dna/)\n",
    "Pedro, 2 de março de 2022"
   ]
  },
  {
   "cell_type": "markdown",
   "id": "974cc1dc-6a2f-4505-820c-b7debd16630b",
   "metadata": {
    "tags": []
   },
   "source": [
    "## Enunciado"
   ]
  },
  {
   "cell_type": "markdown",
   "id": "417781bf-9903-414d-ba90-4e164fb39ce4",
   "metadata": {},
   "source": [
    "A string is simply an ordered collection of symbols selected from some alphabet and formed into a word; the length of a string is the number of symbols that it contains.\n",
    "\n",
    "An example of a length 21 DNA string (whose alphabet contains the symbols 'A', 'C', 'G', and 'T') is \"ATGCTTCAGAAAGGTCTTACG.\"\n",
    "\n",
    "**Given:** A DNA string s of length at most 1000 nt.\n",
    "\n",
    "**Return:** Four integers (separated by spaces) counting the respective number of times that the symbols 'A', 'C', 'G', and 'T' occur in s.\n",
    "\n",
    "### Sample Dataset\n",
    "```AGCTTTTCATTCTGACTGCAACGGGCAATATGTCTCTGTGTGGATTAAAAAAAGAGTGTCTGATAGCAGC```\n",
    "### Sample Output\n",
    "```20 12 17 21```"
   ]
  },
  {
   "cell_type": "markdown",
   "id": "678ee209-1cd8-48c3-9713-2a7359b80e79",
   "metadata": {},
   "source": [
    "## Resoluções"
   ]
  },
  {
   "cell_type": "markdown",
   "id": "3f06d0ea-0151-4689-aaf3-645e533cefec",
   "metadata": {},
   "source": [
    "Buscando formas de resolver o problema, descobri alguns detalhes interessantes sobre `String`s, `Dict`s e funções em Julia, que demonstro abaixo. "
   ]
  },
  {
   "cell_type": "code",
   "execution_count": 51,
   "id": "4508e43c-fe94-4e6f-ad2a-48634c6fd785",
   "metadata": {},
   "outputs": [
    {
     "data": {
      "text/plain": [
       "\"AGCTTTTCATTCTGACTGCAACGGGCAATATGTCTCTGTGTGGATTAAAAAAAGAGTGTCTGATAGCAGC\""
      ]
     },
     "execution_count": 51,
     "metadata": {},
     "output_type": "execute_result"
    }
   ],
   "source": [
    "# Guarde a sequência de amostra numa variável.\n",
    "sample_data = \"AGCTTTTCATTCTGACTGCAACGGGCAATATGTCTCTGTGTGGATTAAAAAAAGAGTGTCTGATAGCAGC\""
   ]
  },
  {
   "cell_type": "code",
   "execution_count": 32,
   "id": "7ca5dc4f-a394-4f6c-b05a-44f7f79d5a0f",
   "metadata": {},
   "outputs": [],
   "source": [
    "# Crie quatro variáveis, uma para guardar a quantidade de cada nucleotídeo.\n",
    "a, c, g, t = 0, 0, 0, 0\n",
    "\n",
    "# Para cada caractere (nucleotídeo), incremente em uma unidade a variável correspondente.\n",
    "for nt in sample_data\n",
    "    if nt == 'A' a+=1\n",
    "    elseif nt == 'C' c+=1\n",
    "    elseif nt == 'G' g+=1\n",
    "    elseif nt == 'T' t+=1\n",
    "    end\n",
    "end"
   ]
  },
  {
   "cell_type": "markdown",
   "id": "2885d208-a966-4ed6-9069-e435234b4ecd",
   "metadata": {},
   "source": [
    "Curioso que, por padrão, as funções de impressão não separam os elementos com espaços, então teríamos que fazer algo como"
   ]
  },
  {
   "cell_type": "code",
   "execution_count": 33,
   "id": "d093ed3d-bea9-4963-b563-743bd1040913",
   "metadata": {},
   "outputs": [
    {
     "name": "stdout",
     "output_type": "stream",
     "text": [
      "20 12 17 21\n"
     ]
    }
   ],
   "source": [
    "println(join([a c g t], ' '))"
   ]
  },
  {
   "cell_type": "markdown",
   "id": "47236536-9dae-4303-bc58-15d5b901daf5",
   "metadata": {},
   "source": [
    "para imprimir o resultado no formato de saída do enunciado. Procurando sobre, achei interessante a macro `@show` que mostra o valor e nome de cada variável."
   ]
  },
  {
   "cell_type": "code",
   "execution_count": 34,
   "id": "7396644c-a2a9-49ac-8ab8-2252112036a8",
   "metadata": {},
   "outputs": [
    {
     "name": "stdout",
     "output_type": "stream",
     "text": [
      "a = 20\n",
      "c = 12\n",
      "g = 17\n",
      "t = 21\n"
     ]
    },
    {
     "data": {
      "text/plain": [
       "21"
      ]
     },
     "execution_count": 34,
     "metadata": {},
     "output_type": "execute_result"
    }
   ],
   "source": [
    "@show a c g t"
   ]
  },
  {
   "cell_type": "markdown",
   "id": "b7895270-2170-486e-b100-6660415f3e05",
   "metadata": {},
   "source": [
    "Para se adequar ao formato de saída do enunciado, pode-se usar também interpolação:"
   ]
  },
  {
   "cell_type": "code",
   "execution_count": 32,
   "id": "8cdbdd45-5634-4e99-90e4-a09e7136a00f",
   "metadata": {},
   "outputs": [
    {
     "name": "stdout",
     "output_type": "stream",
     "text": [
      "a = 20\n",
      "c = 12\n",
      "g = 17\n",
      "t = 21\n",
      "20 12 17 21\n"
     ]
    }
   ],
   "source": [
    "println(\"$a $c $g $t\")"
   ]
  },
  {
   "cell_type": "markdown",
   "id": "4cac04b0-22cb-4cf0-a5dc-ffc5dcee0271",
   "metadata": {},
   "source": [
    "Para evitar o uso de múltiplas variáveis, um dicionário pode guardar a contagem:"
   ]
  },
  {
   "cell_type": "code",
   "execution_count": 25,
   "id": "035d4f8c-5fbe-4e3d-86d4-d7bc18cb9323",
   "metadata": {
    "tags": []
   },
   "outputs": [
    {
     "name": "stdout",
     "output_type": "stream",
     "text": [
      "Dict('A' => 20, 'G' => 17, 'T' => 21, 'C' => 12)\n"
     ]
    }
   ],
   "source": [
    "# Nosso histograma agora será guardado em um dicionário.\n",
    "hist = Dict('A'=>0, 'C'=>0, 'G'=>0, 'T'=>0)\n",
    "\n",
    "for nt in sample_data\n",
    "    hist[nt] += 1\n",
    "end\n",
    "\n",
    "println(hist)"
   ]
  },
  {
   "cell_type": "markdown",
   "id": "fcb427e9-9f6f-4e6f-a1f7-51a696b77d80",
   "metadata": {},
   "source": [
    "Caso queiramos que o dicionário tenha chaves dinâmicas, não preestabelecidas à princípio, podemos fazer da seguinte forma:"
   ]
  },
  {
   "cell_type": "code",
   "execution_count": 26,
   "id": "91aa2899-3ee5-4acd-8321-24cb63e3b9f1",
   "metadata": {
    "tags": []
   },
   "outputs": [
    {
     "name": "stdout",
     "output_type": "stream",
     "text": [
      "Dict('A' => 20, 'G' => 17, 'T' => 21, 'C' => 12)\n"
     ]
    }
   ],
   "source": [
    "hist = Dict{Char, Int}()  # A tipagem aqui parece necessária, precisamos entender ainda o porquê.\n",
    "\n",
    "for nt in sample_data\n",
    "    # Se o dicionário ainda não contém a chave, inicialize-a.\n",
    "    if nt ∉ hist.keys\n",
    "        hist[nt] = 0\n",
    "    end\n",
    "    # Incremente a contagem.\n",
    "    hist[nt]+=1\n",
    "end\n",
    "\n",
    "println(hist)"
   ]
  },
  {
   "cell_type": "markdown",
   "id": "f47abcd6-653f-41c9-a2cd-2bcb6d02e3e0",
   "metadata": {},
   "source": [
    "Contudo, é possível fazer isso de forma mais elegante, com uso da função `get`."
   ]
  },
  {
   "cell_type": "code",
   "execution_count": 29,
   "id": "e139a1a8-3360-4393-a805-73e11820a51e",
   "metadata": {
    "tags": []
   },
   "outputs": [
    {
     "name": "stdout",
     "output_type": "stream",
     "text": [
      "Dict('A' => 20, 'G' => 17, 'T' => 21, 'C' => 12)\n"
     ]
    }
   ],
   "source": [
    "hist = Dict{Char, Int}()\n",
    "\n",
    "for nt in sample_data\n",
    "    # get(hist, nt, 0) será\n",
    "    #    hist[nt] se a chave nt existir em hist.\n",
    "    #    Caso contrário, será 0.\n",
    "    hist[nt] = get(hist, nt, 0) + 1\n",
    "end\n",
    "\n",
    "println(hist)"
   ]
  },
  {
   "cell_type": "markdown",
   "id": "49908793-561f-474c-8c82-9889ecf75a28",
   "metadata": {},
   "source": [
    "A versão com o `!` já cria a nova chave com o default caso não a encontre."
   ]
  },
  {
   "cell_type": "code",
   "execution_count": 31,
   "id": "7ece4bb8-1d06-4e1f-916f-838be7cad76d",
   "metadata": {
    "tags": []
   },
   "outputs": [
    {
     "name": "stdout",
     "output_type": "stream",
     "text": [
      "Dict('A' => 20, 'G' => 17, 'T' => 21, 'C' => 12)\n"
     ]
    }
   ],
   "source": [
    "hist = Dict{Char, Int}()\n",
    "\n",
    "for nt in sample_data\n",
    "    get!(hist, nt, 0)\n",
    "    hist[nt] += 1\n",
    "end\n",
    "\n",
    "println(hist)"
   ]
  },
  {
   "cell_type": "markdown",
   "id": "a348259d-5aa9-4d33-a011-13dbac987958",
   "metadata": {},
   "source": [
    "Envelopando tudo em uma função:"
   ]
  },
  {
   "cell_type": "code",
   "execution_count": 43,
   "id": "0c5f01fe-c684-481c-b68f-a33d27db9234",
   "metadata": {},
   "outputs": [
    {
     "data": {
      "text/plain": [
       "imprima_contagem (generic function with 1 method)"
      ]
     },
     "execution_count": 43,
     "metadata": {},
     "output_type": "execute_result"
    }
   ],
   "source": [
    "function conte_nucleotideos(str)\n",
    "    hist = Dict{Char, Int}()\n",
    "    for nt in sample_data hist[nt] = get(hist, nt, 0) + 1 end\n",
    "    return hist\n",
    "end\n",
    "\n",
    "function imprima_contagem(c) println(join([c['A'] c['C'] c['G'] c['T']], ' ')) end"
   ]
  },
  {
   "cell_type": "markdown",
   "id": "60d7068e-2628-436f-8e8e-cc3e21da3694",
   "metadata": {},
   "source": [
    "As duas funções funcionam bem compostas:"
   ]
  },
  {
   "cell_type": "code",
   "execution_count": 45,
   "id": "8a6c2658-2eb3-4473-acff-3810353aed38",
   "metadata": {},
   "outputs": [
    {
     "name": "stdout",
     "output_type": "stream",
     "text": [
      "20 12 17 21\n"
     ]
    }
   ],
   "source": [
    "contagem = conte_nucleotideos(\"CGACTAGCTAGTACGTGTGTGTGTGTACCCCGACGT\")\n",
    "imprima_contagem(contagem)"
   ]
  },
  {
   "cell_type": "code",
   "execution_count": 47,
   "id": "80155bc4-7c23-498d-ae6a-2b192d557654",
   "metadata": {},
   "outputs": [
    {
     "name": "stdout",
     "output_type": "stream",
     "text": [
      "20 12 17 21\n"
     ]
    }
   ],
   "source": [
    "imprima_contagem(conte_nucleotideos(\"CGACTAGCTAGTACGTGTGTGTGTGTACCCCGACGT\"))"
   ]
  },
  {
   "cell_type": "markdown",
   "id": "fcb1b4ab-6c27-496b-866c-7ca8468044cd",
   "metadata": {},
   "source": [
    "Podemos fazer a composição com a notação em uma linha da Julia:"
   ]
  },
  {
   "cell_type": "code",
   "execution_count": 49,
   "id": "d7f0ebd4-9490-4cbd-9840-4f38183089cb",
   "metadata": {},
   "outputs": [
    {
     "data": {
      "text/plain": [
       "conte_imprima (generic function with 1 method)"
      ]
     },
     "execution_count": 49,
     "metadata": {},
     "output_type": "execute_result"
    }
   ],
   "source": [
    "conte_imprima(c) = imprima_contagem(conte_nucleotideos(c))"
   ]
  },
  {
   "cell_type": "code",
   "execution_count": 50,
   "id": "a2e9d31c-9f6a-4aec-9170-86d485e0605e",
   "metadata": {},
   "outputs": [
    {
     "name": "stdout",
     "output_type": "stream",
     "text": [
      "20 12 17 21\n"
     ]
    }
   ],
   "source": [
    "conte_imprima(sample_data)"
   ]
  }
 ],
 "metadata": {
  "kernelspec": {
   "display_name": "julia",
   "language": "julia",
   "name": "julia"
  },
  "language_info": {
   "file_extension": ".jl",
   "mimetype": "application/julia",
   "name": "julia",
   "version": "1.7.1"
  }
 },
 "nbformat": 4,
 "nbformat_minor": 5
}
