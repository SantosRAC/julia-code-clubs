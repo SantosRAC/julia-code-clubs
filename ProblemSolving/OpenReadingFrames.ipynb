{
 "cells": [
  {
   "cell_type": "markdown",
   "id": "88017b63-14fb-4614-be32-c3b32f7e9c13",
   "metadata": {},
   "source": [
    "# Open Reading Frames"
   ]
  },
  {
   "cell_type": "markdown",
   "id": "25ba546b-4367-40c1-bd3d-39adb750de43",
   "metadata": {},
   "source": [
    "Problem\n",
    "Either strand of a DNA double helix can serve as the coding strand for RNA transcription. Hence, a given DNA string implies six total reading frames, or ways in which the same region of DNA can be translated into amino acids: three reading frames result from reading the string itself, whereas three more result from reading its reverse complement.\n",
    "\n",
    "An open reading frame (ORF) is one which starts from the start codon and ends by stop codon, without any other stop codons in between. Thus, a candidate protein string is derived by translating an open reading frame into amino acids until a stop codon is reached.\n",
    "\n",
    "Given: A DNA string s of length at most 1 kbp in FASTA format.\n",
    "\n",
    "Return: Every distinct candidate protein string that can be translated from ORFs of s. Strings can be returned in any order.\n",
    "\n",
    "Sample Dataset\n",
    "```\n",
    ">Rosalind_99\n",
    "AGCCATGTAGCTAACTCAGGTTACATGGGGATGACCCCGCGACTTGGATTAGAGTCTCTTTTGGAATAAGCCTGAATGATCCGAGTAGCATCTCAG\n",
    "Sample Output\n",
    "MLLGSFRLIPKETLIQVAGSSPCNLS\n",
    "M\n",
    "MGMTPRLGLESLLE\n",
    "MTPRLGLESLLE\n",
    "```"
   ]
  },
  {
   "cell_type": "code",
   "execution_count": 36,
   "id": "508d2593-73f1-4149-9c44-b07a593448c6",
   "metadata": {},
   "outputs": [],
   "source": [
    "sample_seq = \"AGCCATGTAGCTAACTCAGGTTACATGGGGATGACCCCGCGACTTGGATTAGAGTCTCTTTTGGAATAAGCCTGAATGATCCGAGTAGCATCTCAG\""
   ]
  },
  {
   "cell_type": "markdown",
   "id": "b37f8f5e-8e89-411e-91a0-7b1355891b73",
   "metadata": {},
   "source": [
    "Encontrei a seguinte tabela com o código genético padrão em um site do NCBI. Salvei-a num arquivo na pasta `data`."
   ]
  },
  {
   "cell_type": "code",
   "execution_count": 36,
   "id": "2138dde5-5d4f-4be6-9745-b957a9227e56",
   "metadata": {},
   "outputs": [
    {
     "name": "stdout",
     "output_type": "stream",
     "text": [
      "#  Source: https://www.ncbi.nlm.nih.gov/Taxonomy/Utils/wprintgc.cgi?chapter=tgencodes#SG1\n",
      "TTT F Phe      TCT S Ser      TAT Y Tyr      TGT C Cys  \n",
      "TTC F Phe      TCC S Ser      TAC Y Tyr      TGC C Cys  \n",
      "TTA L Leu      TCA S Ser      TAA * Ter      TGA * Ter  \n",
      "TTG L Leu i    TCG S Ser      TAG * Ter      TGG W Trp  \n",
      "\n",
      "CTT L Leu      CCT P Pro      CAT H His      CGT R Arg  \n",
      "CTC L Leu      CCC P Pro      CAC H His      CGC R Arg  \n",
      "CTA L Leu      CCA P Pro      CAA Q Gln      CGA R Arg  \n",
      "CTG L Leu i    CCG P Pro      CAG Q Gln      CGG R Arg  \n",
      "\n",
      "ATT I Ile      ACT T Thr      AAT N Asn      AGT S Ser  \n",
      "ATC I Ile      ACC T Thr      AAC N Asn      AGC S Ser  \n",
      "ATA I Ile      ACA T Thr      AAA K Lys      AGA R Arg  \n",
      "ATG M Met i    ACG T Thr      AAG K Lys      AGG R Arg  \n",
      "\n",
      "GTT V Val      GCT A Ala      GAT D Asp      GGT G Gly  \n",
      "GTC V Val      GCC A Ala      GAC D Asp      GGC G Gly  \n",
      "GTA V Val      GCA A Ala      GAA E Glu      GGA G Gly  \n",
      "GTG V Val      GCG A Ala      GAG E Glu      GGG G Gly "
     ]
    }
   ],
   "source": [
    "raw_genetic_code_path = \"data/GeneticCode.txt\"\n",
    "print(read(raw_genetic_code_path, String))"
   ]
  },
  {
   "cell_type": "markdown",
   "id": "ac2b3f47-a126-432b-a320-3976a0ffb9c0",
   "metadata": {},
   "source": [
    "A seguir, lemos e guardamos o conteúdo do arquivo em um dicionário."
   ]
  },
  {
   "cell_type": "code",
   "execution_count": 34,
   "id": "b0778eda-69c3-486d-9c4e-94e124d03202",
   "metadata": {},
   "outputs": [],
   "source": [
    "genetic_code = Dict{String, String}()\n",
    "\n",
    "# itere pelas linhas do arquivo\n",
    "for line in readlines(raw_genetic_code_path)\n",
    "    # se a linha não (estiver vazia ou for um comentário)\n",
    "    if !(line == \"\" || startswith(line, '#'))\n",
    "        columns = split(strip(line), r\"\\s+(i\\s*)?\")  # pula o 'i' que aparece de vez em quando\n",
    "        # o arquivo tem apenas 3 colunas que se repetem na horizontal\n",
    "        for i in 1:3:10\n",
    "            genetic_code[columns[i]] = columns[i+1]\n",
    "        end\n",
    "    end\n",
    "end"
   ]
  },
  {
   "cell_type": "code",
   "execution_count": 35,
   "id": "c4d12c14-99a0-4c91-a466-566234e0b031",
   "metadata": {
    "collapsed": true,
    "jupyter": {
     "outputs_hidden": true
    },
    "tags": []
   },
   "outputs": [
    {
     "data": {
      "text/plain": [
       "Dict{String, String} with 64 entries:\n",
       "  \"TGT\" => \"C\"\n",
       "  \"GAC\" => \"D\"\n",
       "  \"TTC\" => \"F\"\n",
       "  \"TAG\" => \"*\"\n",
       "  \"GCT\" => \"A\"\n",
       "  \"CCT\" => \"P\"\n",
       "  \"GTG\" => \"V\"\n",
       "  \"GGC\" => \"G\"\n",
       "  \"CGG\" => \"R\"\n",
       "  \"ATT\" => \"I\"\n",
       "  \"GAT\" => \"D\"\n",
       "  \"CAG\" => \"Q\"\n",
       "  \"ATG\" => \"M\"\n",
       "  \"CTC\" => \"L\"\n",
       "  \"TCT\" => \"S\"\n",
       "  \"CGT\" => \"R\"\n",
       "  \"ACG\" => \"T\"\n",
       "  \"AGA\" => \"R\"\n",
       "  \"TGG\" => \"W\"\n",
       "  \"TCG\" => \"S\"\n",
       "  \"TTA\" => \"L\"\n",
       "  \"AGT\" => \"S\"\n",
       "  \"CGA\" => \"R\"\n",
       "  \"TGC\" => \"C\"\n",
       "  \"CAA\" => \"Q\"\n",
       "  ⋮     => ⋮"
      ]
     },
     "execution_count": 35,
     "metadata": {},
     "output_type": "execute_result"
    }
   ],
   "source": [
    "genetic_code"
   ]
  },
  {
   "cell_type": "markdown",
   "id": "bdd955b7-55e3-431c-8bcb-5619c44a72eb",
   "metadata": {},
   "source": [
    "### Solução iterativa"
   ]
  },
  {
   "cell_type": "markdown",
   "id": "e76da26b-c550-43d2-91c0-256ac6b88c17",
   "metadata": {},
   "source": [
    "Uma forma natural de resolver o probloema seria iterar sobre todas as possibilidades de ORFs, como faz a função abaixo."
   ]
  },
  {
   "cell_type": "code",
   "execution_count": 107,
   "id": "5c62d90d-f6ea-4ba6-beec-5a9b110145a9",
   "metadata": {},
   "outputs": [
    {
     "data": {
      "text/plain": [
       "encontre_orfs (generic function with 1 method)"
      ]
     },
     "execution_count": 107,
     "metadata": {},
     "output_type": "execute_result"
    }
   ],
   "source": [
    "function encontre_orfs(seq)\n",
    "    orfs = []\n",
    "    seqlen = length(seq)\n",
    "\n",
    "    # iterar sobre todos os possíveis códons de início\n",
    "    for i in 1:seqlen-2\n",
    "        start_codon = sample_seq[i:i+2]\n",
    "\n",
    "        # se start_codon é realmente um códon de início, construa a proteína\n",
    "        if genetic_code[start_codon] == \"M\"\n",
    "            println(\"Códon de início encontrado na posição \", i, \".\")\n",
    "            protein = []\n",
    "            found_stop = false\n",
    "            # agora iteramos de 3 em 3, como um ribossomo\n",
    "            for j in i:3:seqlen-2\n",
    "                codon = seq[j:j+2]\n",
    "                aa_residue = genetic_code[codon]\n",
    "                \n",
    "                # se acharmos um códon de parada, achamos um ORF!\n",
    "                if aa_residue == \"*\"\n",
    "                    println(\"Códon de parada na posição \", j, \".\\n\")\n",
    "                    push!(orfs, join(protein))\n",
    "                    found_stop = true\n",
    "                    break\n",
    "                end\n",
    "                push!(protein, aa_residue)\n",
    "            end\n",
    "            if !found_stop println(\"Nenhum códon de parada encontrado.\") end\n",
    "        end\n",
    "    end\n",
    "    \n",
    "    return orfs\n",
    "end"
   ]
  },
  {
   "cell_type": "code",
   "execution_count": 108,
   "id": "90f0b2a8-aa51-4665-bcbb-8e08305fb9b1",
   "metadata": {},
   "outputs": [
    {
     "name": "stdout",
     "output_type": "stream",
     "text": [
      "Códon de início encontrado na posição 5.\n",
      "Códon de parada na posição 8.\n",
      "\n",
      "Códon de início encontrado na posição 25.\n",
      "Códon de parada na posição 67.\n",
      "\n",
      "Códon de início encontrado na posição 31.\n",
      "Códon de parada na posição 67.\n",
      "\n",
      "Códon de início encontrado na posição 76.\n",
      "Nenhum códon de parada encontrado.\n",
      "\n",
      "ORFs encontrados: Any[\"M\", \"MGMTPRLGLESLLE\", \"MTPRLGLESLLE\"]\n"
     ]
    }
   ],
   "source": [
    "orfs = encontre_orfs(sample_seq)\n",
    "println(\"\\nORFs encontrados: \", orfs)"
   ]
  },
  {
   "cell_type": "markdown",
   "id": "fff3a8f0-4e78-4f00-ba2e-fc3316faf4dd",
   "metadata": {},
   "source": [
    "#### Notas sobre a função `encontre_orfs`"
   ]
  },
  {
   "cell_type": "markdown",
   "id": "49292019-88c5-480a-9f98-01eedde03a23",
   "metadata": {},
   "source": [
    "A função `append!` adiciona elementos de um conjunto de elementos, um a um. Se quisermos adicionar a `String` toda de uma vez temos que usar a `push!`, que serve para adicionar um único elemento."
   ]
  },
  {
   "cell_type": "code",
   "execution_count": 71,
   "id": "cfdace46-8750-4caf-a460-949154ebcb3c",
   "metadata": {},
   "outputs": [
    {
     "name": "stdout",
     "output_type": "stream",
     "text": [
      "Tipo de []: Vector{Any}\n",
      "O vetor está vazio? true\n",
      "Any['l', 'e', 't', 'r', 'a', 's', \"letras\"]\n"
     ]
    }
   ],
   "source": [
    "vetor = []\n",
    "println(\"Tipo de []: \", typeof(vetor))\n",
    "println(\"O vetor está vazio? \", isempty(vetor))\n",
    "append!(vetor, \"letras\")\n",
    "push!(vetor, \"letras\")\n",
    "println(vetor)"
   ]
  },
  {
   "cell_type": "markdown",
   "id": "bbc5ee13-caab-40fd-ae70-8dda1846e737",
   "metadata": {},
   "source": [
    "A indexação em Julia começa do 1 e inclui o último índice:"
   ]
  },
  {
   "cell_type": "code",
   "execution_count": 72,
   "id": "567e319e-8041-40a4-9f52-ae3058f290ea",
   "metadata": {},
   "outputs": [
    {
     "name": "stdout",
     "output_type": "stream",
     "text": [
      "Any['e', 't']\n",
      "est\n"
     ]
    }
   ],
   "source": [
    "println(vetor[2:3])\n",
    "println(\"estringue\"[1:3])"
   ]
  },
  {
   "cell_type": "markdown",
   "id": "395874b8-b58c-4d58-bddf-b2df177a2497",
   "metadata": {},
   "source": [
    "### Expressões regulares"
   ]
  },
  {
   "cell_type": "markdown",
   "id": "f83e9f40-c2eb-4449-95f4-a80f5d6c577c",
   "metadata": {},
   "source": [
    "A forma mais sucinta de se abordar esse problema, contudo, é provavelmente usando expressões regulares.\n",
    "\n",
    "Comecemos definindo uma função para traduzir uma sequência de nucleotídeos:"
   ]
  },
  {
   "cell_type": "code",
   "execution_count": 114,
   "id": "955fa789-8c5b-4666-9c68-706d80f810de",
   "metadata": {},
   "outputs": [
    {
     "data": {
      "text/plain": [
       "translate (generic function with 1 method)"
      ]
     },
     "execution_count": 114,
     "metadata": {},
     "output_type": "execute_result"
    }
   ],
   "source": [
    "function translate(seq)\n",
    "    protein = [] \n",
    "    for i in 1:3:length(seq)-2\n",
    "        push!(protein, genetic_code[seq[i:i+2]])\n",
    "    end\n",
    "    return join(protein)\n",
    "end"
   ]
  },
  {
   "cell_type": "code",
   "execution_count": 115,
   "id": "962d16f8-7e94-45af-9473-bc3e7435d9f1",
   "metadata": {},
   "outputs": [
    {
     "data": {
      "text/plain": [
       "\"SHVANSGYMGMTPRLGLESLLE*A*MIRVASQ\""
      ]
     },
     "execution_count": 115,
     "metadata": {},
     "output_type": "execute_result"
    }
   ],
   "source": [
    "translate(sample_seq)"
   ]
  },
  {
   "cell_type": "markdown",
   "id": "cf5c231e-8737-4e0d-b1fc-b72948a8eec9",
   "metadata": {},
   "source": [
    "A função de encontrar ORFs pode então ser escrita:"
   ]
  },
  {
   "cell_type": "code",
   "execution_count": 140,
   "id": "dfaedd9e-bab1-4f7b-8858-5debfa71d8b7",
   "metadata": {},
   "outputs": [
    {
     "data": {
      "text/plain": [
       "encontre_orfs_regex (generic function with 1 method)"
      ]
     },
     "execution_count": 140,
     "metadata": {},
     "output_type": "execute_result"
    }
   ],
   "source": [
    "function encontre_orfs_regex(seq)\n",
    "    orfs = eachmatch(r\"(ATG(?:.{3})*?)(?:TAA|TGA|TAG)\", seq, overlap=true)\n",
    "    return map(s -> translate(s[1]), orfs)\n",
    "end"
   ]
  },
  {
   "cell_type": "code",
   "execution_count": 141,
   "id": "142ba123-20ad-4635-aba8-cb9f9418317d",
   "metadata": {},
   "outputs": [
    {
     "data": {
      "text/plain": [
       "3-element Vector{String}:\n",
       " \"M\"\n",
       " \"MGMTPRLGLESLLE\"\n",
       " \"MTPRLGLESLLE\""
      ]
     },
     "execution_count": 141,
     "metadata": {},
     "output_type": "execute_result"
    }
   ],
   "source": [
    "encontre_orfs_regex(sample_seq)"
   ]
  },
  {
   "cell_type": "markdown",
   "id": "d91679db-33d9-4b0c-b682-6faae4817e08",
   "metadata": {},
   "source": [
    "A expressão regular seleciona todas as substrigs que começam com ATG e terminam com TAA, TGA, ou TAG. Entre os dois códons, requere-se ainda que um grupo de três caracteres quaisquer, `(?:.{3})`, se repita, de forma que o número de \n",
    "\n",
    "`s -> translate(s[1])` é uma notação para definir uma função que toma um objeto `s` e retorna `translate(s[1])`. Nesse caso, `s` é um objeto do tipo `RegexMatch`, e por isso fazemos `s[1]`, para extrair o primeiro grupo que capturamos com a busca, uma `String`, antes de passá-lo à `translate`. "
   ]
  },
  {
   "cell_type": "code",
   "execution_count": 138,
   "id": "19d58f0e-d9e6-49b7-a755-abdad78f9faf",
   "metadata": {},
   "outputs": [
    {
     "name": "stdout",
     "output_type": "stream",
     "text": [
      "ATGGGGATGACCCCGCGACTTGGATTAGAGTCTCTTTTGGAATAA\n",
      "ATGGGGATGACCCCGCGACTTGGATTAGAGTCTCTTTTGGAA\n"
     ]
    }
   ],
   "source": [
    "regex_match = match(r\"(ATG(?:.{3})*?)(?:TAA|TGA|TAG)\", sample_seq[6:end])\n",
    "println(regex_match.match)\n",
    "println(regex_match[1])"
   ]
  }
 ],
 "metadata": {
  "kernelspec": {
   "display_name": "julia",
   "language": "julia",
   "name": "julia"
  },
  "language_info": {
   "file_extension": ".jl",
   "mimetype": "application/julia",
   "name": "julia",
   "version": "1.7.1"
  }
 },
 "nbformat": 4,
 "nbformat_minor": 5
}
