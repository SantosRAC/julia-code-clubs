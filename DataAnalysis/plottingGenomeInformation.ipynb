{
 "cells": [
  {
   "cell_type": "markdown",
   "metadata": {},
   "source": [
    "# Genomic Data Analysis with Julia\n",
    "\n",
    "Playing with our data. Following [this tutorial](https://github.com/bkamins/Julia-DataFrames-Tutorial).\n",
    "\n",
    "Author: Renato Augusto Corrêa dos Santos\n",
    "\n",
    "## Installing packages\n",
    "\n",
    " * DataFrames\n",
    " * CSV"
   ]
  },
  {
   "cell_type": "code",
   "execution_count": 9,
   "metadata": {},
   "outputs": [
    {
     "name": "stderr",
     "output_type": "stream",
     "text": [
      "\u001b[32m\u001b[1m   Resolving\u001b[22m\u001b[39m package versions...\n",
      "\u001b[32m\u001b[1m  No Changes\u001b[22m\u001b[39m to `~/Repositories/julia-code-clubs-ufabc/Project.toml`\n",
      "\u001b[32m\u001b[1m  No Changes\u001b[22m\u001b[39m to `~/Repositories/julia-code-clubs-ufabc/Manifest.toml`\n",
      "\u001b[32m\u001b[1m   Resolving\u001b[22m\u001b[39m package versions...\n",
      "\u001b[32m\u001b[1m   Installed\u001b[22m\u001b[39m Parsers ─ v2.3.2\n",
      "\u001b[32m\u001b[1m    Updating\u001b[22m\u001b[39m `~/Repositories/julia-code-clubs-ufabc/Project.toml`\n",
      " \u001b[90m [336ed68f] \u001b[39m\u001b[92m+ CSV v0.10.4\u001b[39m\n",
      "\u001b[32m\u001b[1m    Updating\u001b[22m\u001b[39m `~/Repositories/julia-code-clubs-ufabc/Manifest.toml`\n",
      " \u001b[90m [336ed68f] \u001b[39m\u001b[92m+ CSV v0.10.4\u001b[39m\n",
      " \u001b[90m [944b1d66] \u001b[39m\u001b[92m+ CodecZlib v0.7.0\u001b[39m\n",
      " \u001b[90m [48062228] \u001b[39m\u001b[92m+ FilePathsBase v0.9.18\u001b[39m\n",
      " \u001b[90m [842dd82b] \u001b[39m\u001b[92m+ InlineStrings v1.1.2\u001b[39m\n",
      " \u001b[90m [69de0a69] \u001b[39m\u001b[92m+ Parsers v2.3.2\u001b[39m\n",
      " \u001b[90m [91c51154] \u001b[39m\u001b[92m+ SentinelArrays v1.3.13\u001b[39m\n",
      " \u001b[90m [3bb67fe8] \u001b[39m\u001b[92m+ TranscodingStreams v0.9.6\u001b[39m\n",
      " \u001b[90m [ea10d353] \u001b[39m\u001b[92m+ WeakRefStrings v1.4.2\u001b[39m\n",
      "\u001b[32m\u001b[1mPrecompiling\u001b[22m\u001b[39m project...\n",
      "\u001b[33m  ✓ \u001b[39m\u001b[90mParsers\u001b[39m\n",
      "\u001b[33m  ✓ \u001b[39m\u001b[90mInlineStrings\u001b[39m\n",
      "\u001b[33m  ✓ \u001b[39m\u001b[90mWeakRefStrings\u001b[39m\n",
      "\u001b[33m  ✓ \u001b[39mCSV\n",
      "  4 dependencies successfully precompiled in 7 seconds (27 already precompiled)\n",
      "  \u001b[33m4\u001b[39m dependencies precompiled but different versions are currently loaded. Restart julia to access the new versions\n"
     ]
    }
   ],
   "source": [
    "using Pkg\n",
    "Pkg.add(\"DataFrames\")\n",
    "Pkg.add(\"CSV\")"
   ]
  },
  {
   "cell_type": "code",
   "execution_count": 4,
   "metadata": {},
   "outputs": [],
   "source": [
    "using DataFrames"
   ]
  },
  {
   "cell_type": "code",
   "execution_count": 5,
   "metadata": {},
   "outputs": [],
   "source": [
    "using CSV"
   ]
  },
  {
   "cell_type": "markdown",
   "metadata": {},
   "source": [
    "Checking the path to current working directory:"
   ]
  },
  {
   "cell_type": "code",
   "execution_count": 6,
   "metadata": {},
   "outputs": [
    {
     "data": {
      "text/plain": [
       "\"/home/santosrac/Repositories/julia-code-clubs-ufabc/DataAnalysis\""
      ]
     },
     "metadata": {},
     "output_type": "display_data"
    }
   ],
   "source": [
    "pwd()"
   ]
  },
  {
   "cell_type": "code",
   "execution_count": 7,
   "metadata": {},
   "outputs": [
    {
     "data": {
      "text/html": [
       "<div class=\"data-frame\"><p>18 rows × 3 columns</p><table class=\"data-frame\"><thead><tr><th></th><th>Species</th><th>Strain_Cultivar</th><th>Genome_size</th></tr><tr><th></th><th title=\"String31\">String31</th><th title=\"String15\">String15</th><th title=\"Union{Missing, Float64}\">Float64?</th></tr></thead><tbody><tr><th>1</th><td>Saccharomyces cerevisiae</td><td>RedStar</td><td>11.64</td></tr><tr><th>2</th><td>Saccharomyces cerevisiae</td><td>CEN.PK113-7D</td><td>12.0</td></tr><tr><th>3</th><td>Saccharomyces cerevisiae</td><td>CBS2919</td><td><em>missing</em></td></tr><tr><th>4</th><td>Saccharomyces cereivisiae</td><td>S288C</td><td>11.82</td></tr><tr><th>5</th><td>Kalmanozyma brasiliensis</td><td>GHG001</td><td>17.32</td></tr><tr><th>6</th><td>Aspergillus fumigatus</td><td>Af293</td><td>29.38</td></tr><tr><th>7</th><td>Aspergillus fumigatus</td><td>A1163</td><td>29.21</td></tr><tr><th>8</th><td>Aspergillus fumigatus</td><td>CNM-CM8686</td><td>28.17</td></tr><tr><th>9</th><td>Aspergillus fumigatiaffinis</td><td>CNM-CM6805</td><td>33.47</td></tr><tr><th>10</th><td>Aspergillus lentulus</td><td>CNM-CM7927</td><td>31.61</td></tr><tr><th>11</th><td>Aspergillus lentulus</td><td>IFM 54703</td><td>30.77</td></tr><tr><th>12</th><td>Aspergillus nidulans</td><td>FGSC A4</td><td>30.27</td></tr><tr><th>13</th><td>Aspergillus niger</td><td>CBS 513.88</td><td>34.0</td></tr><tr><th>14</th><td>Phytophthora infestans</td><td>T30-4</td><td>228.54</td></tr><tr><th>15</th><td>Setaria viridis</td><td>A10</td><td>395.87</td></tr><tr><th>16</th><td>Setaria viridis</td><td>ME034v</td><td>397.03</td></tr><tr><th>17</th><td>Setaria italica</td><td>Yugu1</td><td>405.87</td></tr><tr><th>18</th><td>Sorghum bicolor</td><td>BTx623</td><td>709.34</td></tr></tbody></table></div>"
      ],
      "text/latex": [
       "\\begin{tabular}{r|ccc}\n",
       "\t& Species & Strain\\_Cultivar & Genome\\_size\\\\\n",
       "\t\\hline\n",
       "\t& String31 & String15 & Float64?\\\\\n",
       "\t\\hline\n",
       "\t1 & Saccharomyces cerevisiae & RedStar & 11.64 \\\\\n",
       "\t2 & Saccharomyces cerevisiae & CEN.PK113-7D & 12.0 \\\\\n",
       "\t3 & Saccharomyces cerevisiae & CBS2919 & \\emph{missing} \\\\\n",
       "\t4 & Saccharomyces cereivisiae & S288C & 11.82 \\\\\n",
       "\t5 & Kalmanozyma brasiliensis & GHG001 & 17.32 \\\\\n",
       "\t6 & Aspergillus fumigatus & Af293 & 29.38 \\\\\n",
       "\t7 & Aspergillus fumigatus & A1163 & 29.21 \\\\\n",
       "\t8 & Aspergillus fumigatus & CNM-CM8686 & 28.17 \\\\\n",
       "\t9 & Aspergillus fumigatiaffinis & CNM-CM6805 & 33.47 \\\\\n",
       "\t10 & Aspergillus lentulus & CNM-CM7927 & 31.61 \\\\\n",
       "\t11 & Aspergillus lentulus & IFM 54703 & 30.77 \\\\\n",
       "\t12 & Aspergillus nidulans & FGSC A4 & 30.27 \\\\\n",
       "\t13 & Aspergillus niger & CBS 513.88 & 34.0 \\\\\n",
       "\t14 & Phytophthora infestans & T30-4 & 228.54 \\\\\n",
       "\t15 & Setaria viridis & A10 & 395.87 \\\\\n",
       "\t16 & Setaria viridis & ME034v & 397.03 \\\\\n",
       "\t17 & Setaria italica & Yugu1 & 405.87 \\\\\n",
       "\t18 & Sorghum bicolor & BTx623 & 709.34 \\\\\n",
       "\\end{tabular}\n"
      ],
      "text/plain": [
       "\u001b[1m18×3 DataFrame\u001b[0m\n",
       "\u001b[1m Row \u001b[0m│\u001b[1m Species                     \u001b[0m\u001b[1m Strain_Cultivar \u001b[0m\u001b[1m Genome_size \u001b[0m\n",
       "\u001b[1m     \u001b[0m│\u001b[90m String31                    \u001b[0m\u001b[90m String15        \u001b[0m\u001b[90m Float64?    \u001b[0m\n",
       "─────┼───────────────────────────────────────────────────────────\n",
       "   1 │ Saccharomyces cerevisiae     RedStar                11.64\n",
       "   2 │ Saccharomyces cerevisiae     CEN.PK113-7D           12.0\n",
       "   3 │ Saccharomyces cerevisiae     CBS2919         \u001b[90m  missing    \u001b[0m\n",
       "   4 │ Saccharomyces cereivisiae    S288C                  11.82\n",
       "   5 │ Kalmanozyma brasiliensis     GHG001                 17.32\n",
       "   6 │ Aspergillus fumigatus        Af293                  29.38\n",
       "   7 │ Aspergillus fumigatus        A1163                  29.21\n",
       "   8 │ Aspergillus fumigatus        CNM-CM8686             28.17\n",
       "  ⋮  │              ⋮                      ⋮              ⋮\n",
       "  12 │ Aspergillus nidulans         FGSC A4                30.27\n",
       "  13 │ Aspergillus niger            CBS 513.88             34.0\n",
       "  14 │ Phytophthora infestans       T30-4                 228.54\n",
       "  15 │ Setaria viridis              A10                   395.87\n",
       "  16 │ Setaria viridis              ME034v                397.03\n",
       "  17 │ Setaria italica              Yugu1                 405.87\n",
       "  18 │ Sorghum bicolor              BTx623                709.34\n",
       "\u001b[36m                                                   3 rows omitted\u001b[0m"
      ]
     },
     "metadata": {},
     "output_type": "display_data"
    }
   ],
   "source": [
    "genome_info = DataFrame(CSV.File(\"genome_information.csv\"))"
   ]
  },
  {
   "cell_type": "code",
   "execution_count": 8,
   "metadata": {},
   "outputs": [
    {
     "data": {
      "text/html": [
       "<div class=\"data-frame\"><p>18 rows × 3 columns</p><table class=\"data-frame\"><thead><tr><th></th><th>Species</th><th>Strain_Cultivar</th><th>Genome_size</th></tr><tr><th></th><th title=\"String31\">String31</th><th title=\"String15\">String15</th><th title=\"Union{Missing, Float64}\">Float64?</th></tr></thead><tbody><tr><th>1</th><td>Saccharomyces cerevisiae</td><td>RedStar</td><td>11.64</td></tr><tr><th>2</th><td>Saccharomyces cerevisiae</td><td>CEN.PK113-7D</td><td>12.0</td></tr><tr><th>3</th><td>Saccharomyces cerevisiae</td><td>CBS2919</td><td><em>missing</em></td></tr><tr><th>4</th><td>Saccharomyces cereivisiae</td><td>S288C</td><td>11.82</td></tr><tr><th>5</th><td>Kalmanozyma brasiliensis</td><td>GHG001</td><td>17.32</td></tr><tr><th>6</th><td>Aspergillus fumigatus</td><td>Af293</td><td>29.38</td></tr><tr><th>7</th><td>Aspergillus fumigatus</td><td>A1163</td><td>29.21</td></tr><tr><th>8</th><td>Aspergillus fumigatus</td><td>CNM-CM8686</td><td>28.17</td></tr><tr><th>9</th><td>Aspergillus fumigatiaffinis</td><td>CNM-CM6805</td><td>33.47</td></tr><tr><th>10</th><td>Aspergillus lentulus</td><td>CNM-CM7927</td><td>31.61</td></tr><tr><th>11</th><td>Aspergillus lentulus</td><td>IFM 54703</td><td>30.77</td></tr><tr><th>12</th><td>Aspergillus nidulans</td><td>FGSC A4</td><td>30.27</td></tr><tr><th>13</th><td>Aspergillus niger</td><td>CBS 513.88</td><td>34.0</td></tr><tr><th>14</th><td>Phytophthora infestans</td><td>T30-4</td><td>228.54</td></tr><tr><th>15</th><td>Setaria viridis</td><td>A10</td><td>395.87</td></tr><tr><th>16</th><td>Setaria viridis</td><td>ME034v</td><td>397.03</td></tr><tr><th>17</th><td>Setaria italica</td><td>Yugu1</td><td>405.87</td></tr><tr><th>18</th><td>Sorghum bicolor</td><td>BTx623</td><td>709.34</td></tr></tbody></table></div>"
      ],
      "text/latex": [
       "\\begin{tabular}{r|ccc}\n",
       "\t& Species & Strain\\_Cultivar & Genome\\_size\\\\\n",
       "\t\\hline\n",
       "\t& String31 & String15 & Float64?\\\\\n",
       "\t\\hline\n",
       "\t1 & Saccharomyces cerevisiae & RedStar & 11.64 \\\\\n",
       "\t2 & Saccharomyces cerevisiae & CEN.PK113-7D & 12.0 \\\\\n",
       "\t3 & Saccharomyces cerevisiae & CBS2919 & \\emph{missing} \\\\\n",
       "\t4 & Saccharomyces cereivisiae & S288C & 11.82 \\\\\n",
       "\t5 & Kalmanozyma brasiliensis & GHG001 & 17.32 \\\\\n",
       "\t6 & Aspergillus fumigatus & Af293 & 29.38 \\\\\n",
       "\t7 & Aspergillus fumigatus & A1163 & 29.21 \\\\\n",
       "\t8 & Aspergillus fumigatus & CNM-CM8686 & 28.17 \\\\\n",
       "\t9 & Aspergillus fumigatiaffinis & CNM-CM6805 & 33.47 \\\\\n",
       "\t10 & Aspergillus lentulus & CNM-CM7927 & 31.61 \\\\\n",
       "\t11 & Aspergillus lentulus & IFM 54703 & 30.77 \\\\\n",
       "\t12 & Aspergillus nidulans & FGSC A4 & 30.27 \\\\\n",
       "\t13 & Aspergillus niger & CBS 513.88 & 34.0 \\\\\n",
       "\t14 & Phytophthora infestans & T30-4 & 228.54 \\\\\n",
       "\t15 & Setaria viridis & A10 & 395.87 \\\\\n",
       "\t16 & Setaria viridis & ME034v & 397.03 \\\\\n",
       "\t17 & Setaria italica & Yugu1 & 405.87 \\\\\n",
       "\t18 & Sorghum bicolor & BTx623 & 709.34 \\\\\n",
       "\\end{tabular}\n"
      ],
      "text/plain": [
       "\u001b[1m18×3 DataFrame\u001b[0m\n",
       "\u001b[1m Row \u001b[0m│\u001b[1m Species                     \u001b[0m\u001b[1m Strain_Cultivar \u001b[0m\u001b[1m Genome_size \u001b[0m\n",
       "\u001b[1m     \u001b[0m│\u001b[90m String31                    \u001b[0m\u001b[90m String15        \u001b[0m\u001b[90m Float64?    \u001b[0m\n",
       "─────┼───────────────────────────────────────────────────────────\n",
       "   1 │ Saccharomyces cerevisiae     RedStar                11.64\n",
       "   2 │ Saccharomyces cerevisiae     CEN.PK113-7D           12.0\n",
       "   3 │ Saccharomyces cerevisiae     CBS2919         \u001b[90m  missing    \u001b[0m\n",
       "   4 │ Saccharomyces cereivisiae    S288C                  11.82\n",
       "   5 │ Kalmanozyma brasiliensis     GHG001                 17.32\n",
       "   6 │ Aspergillus fumigatus        Af293                  29.38\n",
       "   7 │ Aspergillus fumigatus        A1163                  29.21\n",
       "   8 │ Aspergillus fumigatus        CNM-CM8686             28.17\n",
       "  ⋮  │              ⋮                      ⋮              ⋮\n",
       "  12 │ Aspergillus nidulans         FGSC A4                30.27\n",
       "  13 │ Aspergillus niger            CBS 513.88             34.0\n",
       "  14 │ Phytophthora infestans       T30-4                 228.54\n",
       "  15 │ Setaria viridis              A10                   395.87\n",
       "  16 │ Setaria viridis              ME034v                397.03\n",
       "  17 │ Setaria italica              Yugu1                 405.87\n",
       "  18 │ Sorghum bicolor              BTx623                709.34\n",
       "\u001b[36m                                                   3 rows omitted\u001b[0m"
      ]
     },
     "metadata": {},
     "output_type": "display_data"
    }
   ],
   "source": [
    "genome_info"
   ]
  },
  {
   "cell_type": "code",
   "execution_count": 10,
   "metadata": {},
   "outputs": [
    {
     "data": {
      "text/plain": [
       "(18, 3)"
      ]
     },
     "metadata": {},
     "output_type": "display_data"
    }
   ],
   "source": [
    "size(genome_info)"
   ]
  },
  {
   "cell_type": "code",
   "execution_count": 11,
   "metadata": {},
   "outputs": [
    {
     "data": {
      "text/plain": [
       "(18, 3)"
      ]
     },
     "metadata": {},
     "output_type": "display_data"
    }
   ],
   "source": [
    "nrow(genome_info), ncol(genome_info)"
   ]
  },
  {
   "cell_type": "code",
   "execution_count": 12,
   "metadata": {},
   "outputs": [
    {
     "data": {
      "text/html": [
       "<div class=\"data-frame\"><p>3 rows × 7 columns (omitted printing of 2 columns)</p><table class=\"data-frame\"><thead><tr><th></th><th>variable</th><th>mean</th><th>min</th><th>median</th><th>max</th></tr><tr><th></th><th title=\"Symbol\">Symbol</th><th title=\"Union{Nothing, Float64}\">Union…</th><th title=\"Any\">Any</th><th title=\"Union{Nothing, Float64}\">Union…</th><th title=\"Any\">Any</th></tr></thead><tbody><tr><th>1</th><td>Species</td><td></td><td>Aspergillus fumigatiaffinis</td><td></td><td>Sorghum bicolor</td></tr><tr><th>2</th><td>Strain_Cultivar</td><td></td><td>A10</td><td></td><td>Yugu1</td></tr><tr><th>3</th><td>Genome_size</td><td>143.312</td><td>11.64</td><td>30.77</td><td>709.34</td></tr></tbody></table></div>"
      ],
      "text/latex": [
       "\\begin{tabular}{r|cccccc}\n",
       "\t& variable & mean & min & median & max & \\\\\n",
       "\t\\hline\n",
       "\t& Symbol & Union… & Any & Union… & Any & \\\\\n",
       "\t\\hline\n",
       "\t1 & Species &  & Aspergillus fumigatiaffinis &  & Sorghum bicolor & $\\dots$ \\\\\n",
       "\t2 & Strain\\_Cultivar &  & A10 &  & Yugu1 & $\\dots$ \\\\\n",
       "\t3 & Genome\\_size & 143.312 & 11.64 & 30.77 & 709.34 & $\\dots$ \\\\\n",
       "\\end{tabular}\n"
      ],
      "text/plain": [
       "\u001b[1m3×7 DataFrame\u001b[0m\n",
       "\u001b[1m Row \u001b[0m│\u001b[1m variable        \u001b[0m\u001b[1m mean    \u001b[0m\u001b[1m min                         \u001b[0m\u001b[1m median \u001b[0m\u001b[1m max     \u001b[0m ⋯\n",
       "\u001b[1m     \u001b[0m│\u001b[90m Symbol          \u001b[0m\u001b[90m Union…  \u001b[0m\u001b[90m Any                         \u001b[0m\u001b[90m Union… \u001b[0m\u001b[90m Any     \u001b[0m ⋯\n",
       "─────┼──────────────────────────────────────────────────────────────────────────\n",
       "   1 │ Species         \u001b[90m         \u001b[0m Aspergillus fumigatiaffinis \u001b[90m        \u001b[0m Sorghum  ⋯\n",
       "   2 │ Strain_Cultivar \u001b[90m         \u001b[0m A10                         \u001b[90m        \u001b[0m Yugu1\n",
       "   3 │ Genome_size      143.312  11.64                        30.77   709.34\n",
       "\u001b[36m                                                               3 columns omitted\u001b[0m"
      ]
     },
     "metadata": {},
     "output_type": "display_data"
    }
   ],
   "source": [
    "describe(genome_info)"
   ]
  },
  {
   "cell_type": "code",
   "execution_count": 13,
   "metadata": {},
   "outputs": [
    {
     "data": {
      "text/plain": [
       "3-element Vector{String}:\n",
       " \"Species\"\n",
       " \"Strain_Cultivar\"\n",
       " \"Genome_size\""
      ]
     },
     "metadata": {},
     "output_type": "display_data"
    }
   ],
   "source": [
    "names(genome_info)"
   ]
  },
  {
   "cell_type": "markdown",
   "metadata": {},
   "source": [
    "Recovering the first five lines of the dataframe:"
   ]
  },
  {
   "cell_type": "code",
   "execution_count": 18,
   "metadata": {},
   "outputs": [
    {
     "data": {
      "text/html": [
       "<div class=\"data-frame\"><p>5 rows × 3 columns</p><table class=\"data-frame\"><thead><tr><th></th><th>Species</th><th>Strain_Cultivar</th><th>Genome_size</th></tr><tr><th></th><th title=\"String31\">String31</th><th title=\"String15\">String15</th><th title=\"Union{Missing, Float64}\">Float64?</th></tr></thead><tbody><tr><th>1</th><td>Saccharomyces cerevisiae</td><td>RedStar</td><td>11.64</td></tr><tr><th>2</th><td>Saccharomyces cerevisiae</td><td>CEN.PK113-7D</td><td>12.0</td></tr><tr><th>3</th><td>Saccharomyces cerevisiae</td><td>CBS2919</td><td><em>missing</em></td></tr><tr><th>4</th><td>Saccharomyces cereivisiae</td><td>S288C</td><td>11.82</td></tr><tr><th>5</th><td>Kalmanozyma brasiliensis</td><td>GHG001</td><td>17.32</td></tr></tbody></table></div>"
      ],
      "text/latex": [
       "\\begin{tabular}{r|ccc}\n",
       "\t& Species & Strain\\_Cultivar & Genome\\_size\\\\\n",
       "\t\\hline\n",
       "\t& String31 & String15 & Float64?\\\\\n",
       "\t\\hline\n",
       "\t1 & Saccharomyces cerevisiae & RedStar & 11.64 \\\\\n",
       "\t2 & Saccharomyces cerevisiae & CEN.PK113-7D & 12.0 \\\\\n",
       "\t3 & Saccharomyces cerevisiae & CBS2919 & \\emph{missing} \\\\\n",
       "\t4 & Saccharomyces cereivisiae & S288C & 11.82 \\\\\n",
       "\t5 & Kalmanozyma brasiliensis & GHG001 & 17.32 \\\\\n",
       "\\end{tabular}\n"
      ],
      "text/plain": [
       "\u001b[1m5×3 DataFrame\u001b[0m\n",
       "\u001b[1m Row \u001b[0m│\u001b[1m Species                   \u001b[0m\u001b[1m Strain_Cultivar \u001b[0m\u001b[1m Genome_size \u001b[0m\n",
       "\u001b[1m     \u001b[0m│\u001b[90m String31                  \u001b[0m\u001b[90m String15        \u001b[0m\u001b[90m Float64?    \u001b[0m\n",
       "─────┼─────────────────────────────────────────────────────────\n",
       "   1 │ Saccharomyces cerevisiae   RedStar                11.64\n",
       "   2 │ Saccharomyces cerevisiae   CEN.PK113-7D           12.0\n",
       "   3 │ Saccharomyces cerevisiae   CBS2919         \u001b[90m  missing    \u001b[0m\n",
       "   4 │ Saccharomyces cereivisiae  S288C                  11.82\n",
       "   5 │ Kalmanozyma brasiliensis   GHG001                 17.32"
      ]
     },
     "metadata": {},
     "output_type": "display_data"
    }
   ],
   "source": [
    "first(genome_info, 5)"
   ]
  },
  {
   "cell_type": "markdown",
   "metadata": {},
   "source": [
    "`last` does the same, but bottom-up"
   ]
  },
  {
   "cell_type": "code",
   "execution_count": 20,
   "metadata": {},
   "outputs": [
    {
     "data": {
      "text/html": [
       "<div class=\"data-frame\"><p>3 rows × 3 columns</p><table class=\"data-frame\"><thead><tr><th></th><th>Species</th><th>Strain_Cultivar</th><th>Genome_size</th></tr><tr><th></th><th title=\"String31\">String31</th><th title=\"String15\">String15</th><th title=\"Union{Missing, Float64}\">Float64?</th></tr></thead><tbody><tr><th>1</th><td>Setaria viridis</td><td>ME034v</td><td>397.03</td></tr><tr><th>2</th><td>Setaria italica</td><td>Yugu1</td><td>405.87</td></tr><tr><th>3</th><td>Sorghum bicolor</td><td>BTx623</td><td>709.34</td></tr></tbody></table></div>"
      ],
      "text/latex": [
       "\\begin{tabular}{r|ccc}\n",
       "\t& Species & Strain\\_Cultivar & Genome\\_size\\\\\n",
       "\t\\hline\n",
       "\t& String31 & String15 & Float64?\\\\\n",
       "\t\\hline\n",
       "\t1 & Setaria viridis & ME034v & 397.03 \\\\\n",
       "\t2 & Setaria italica & Yugu1 & 405.87 \\\\\n",
       "\t3 & Sorghum bicolor & BTx623 & 709.34 \\\\\n",
       "\\end{tabular}\n"
      ],
      "text/plain": [
       "\u001b[1m3×3 DataFrame\u001b[0m\n",
       "\u001b[1m Row \u001b[0m│\u001b[1m Species         \u001b[0m\u001b[1m Strain_Cultivar \u001b[0m\u001b[1m Genome_size \u001b[0m\n",
       "\u001b[1m     \u001b[0m│\u001b[90m String31        \u001b[0m\u001b[90m String15        \u001b[0m\u001b[90m Float64?    \u001b[0m\n",
       "─────┼───────────────────────────────────────────────\n",
       "   1 │ Setaria viridis  ME034v                397.03\n",
       "   2 │ Setaria italica  Yugu1                 405.87\n",
       "   3 │ Sorghum bicolor  BTx623                709.34"
      ]
     },
     "metadata": {},
     "output_type": "display_data"
    }
   ],
   "source": [
    "last(genome_info, 3)"
   ]
  },
  {
   "cell_type": "markdown",
   "metadata": {},
   "source": [
    "## Recovering statistics from a column with missing data"
   ]
  },
  {
   "cell_type": "code",
   "execution_count": 21,
   "metadata": {},
   "outputs": [
    {
     "data": {
      "text/plain": [
       "18-element Vector{Union{Missing, Float64}}:\n",
       "  11.64\n",
       "  12.0\n",
       "    missing\n",
       "  11.82\n",
       "  17.32\n",
       "  29.38\n",
       "  29.21\n",
       "  28.17\n",
       "  33.47\n",
       "  31.61\n",
       "  30.77\n",
       "  30.27\n",
       "  34.0\n",
       " 228.54\n",
       " 395.87\n",
       " 397.03\n",
       " 405.87\n",
       " 709.34"
      ]
     },
     "metadata": {},
     "output_type": "display_data"
    }
   ],
   "source": [
    "genome_info.Genome_size"
   ]
  },
  {
   "cell_type": "code",
   "execution_count": 23,
   "metadata": {},
   "outputs": [
    {
     "ename": "MethodError",
     "evalue": "MethodError: no method matching describe(::Vector{Union{Missing, Float64}})\nClosest candidates are:\n  describe(!Matched::AbstractDataFrame; cols) at ~/.julia/packages/DataFrames/zqFGs/src/abstractdataframe/abstractdataframe.jl:605\n  describe(!Matched::AbstractDataFrame, !Matched::Union{Symbol, Pair{<:Union{Function, Type}, <:Union{AbstractString, Symbol}}}...; cols) at ~/.julia/packages/DataFrames/zqFGs/src/abstractdataframe/abstractdataframe.jl:602",
     "output_type": "error",
     "traceback": [
      "MethodError: no method matching describe(::Vector{Union{Missing, Float64}})\n",
      "Closest candidates are:\n",
      "  describe(!Matched::AbstractDataFrame; cols) at ~/.julia/packages/DataFrames/zqFGs/src/abstractdataframe/abstractdataframe.jl:605\n",
      "  describe(!Matched::AbstractDataFrame, !Matched::Union{Symbol, Pair{<:Union{Function, Type}, <:Union{AbstractString, Symbol}}}...; cols) at ~/.julia/packages/DataFrames/zqFGs/src/abstractdataframe/abstractdataframe.jl:602\n",
      "\n",
      "Stacktrace:\n",
      "  [1] top-level scope\n",
      "    @ ~/Repositories/julia-code-clubs-ufabc/DataAnalysis/plottingGenomeInformation.ipynb:1\n",
      "  [2] eval\n",
      "    @ ./boot.jl:373 [inlined]\n",
      "  [3] include_string(mapexpr::typeof(REPL.softscope), mod::Module, code::String, filename::String)\n",
      "    @ Base ./loading.jl:1196\n",
      "  [4] #invokelatest#2\n",
      "    @ ./essentials.jl:716 [inlined]\n",
      "  [5] invokelatest\n",
      "    @ ./essentials.jl:714 [inlined]\n",
      "  [6] (::VSCodeServer.var\"#164#165\"{VSCodeServer.NotebookRunCellArguments, String})()\n",
      "    @ VSCodeServer ~/.vscode/extensions/julialang.language-julia-1.6.24/scripts/packages/VSCodeServer/src/serve_notebook.jl:19\n",
      "  [7] withpath(f::VSCodeServer.var\"#164#165\"{VSCodeServer.NotebookRunCellArguments, String}, path::String)\n",
      "    @ VSCodeServer ~/.vscode/extensions/julialang.language-julia-1.6.24/scripts/packages/VSCodeServer/src/repl.jl:184\n",
      "  [8] notebook_runcell_request(conn::VSCodeServer.JSONRPC.JSONRPCEndpoint{Base.PipeEndpoint, Base.PipeEndpoint}, params::VSCodeServer.NotebookRunCellArguments)\n",
      "    @ VSCodeServer ~/.vscode/extensions/julialang.language-julia-1.6.24/scripts/packages/VSCodeServer/src/serve_notebook.jl:13\n",
      "  [9] dispatch_msg(x::VSCodeServer.JSONRPC.JSONRPCEndpoint{Base.PipeEndpoint, Base.PipeEndpoint}, dispatcher::VSCodeServer.JSONRPC.MsgDispatcher, msg::Dict{String, Any})\n",
      "    @ VSCodeServer.JSONRPC ~/.vscode/extensions/julialang.language-julia-1.6.24/scripts/packages/JSONRPC/src/typed.jl:67\n",
      " [10] serve_notebook(pipename::String, outputchannel_logger::Base.CoreLogging.SimpleLogger; crashreporting_pipename::String)\n",
      "    @ VSCodeServer ~/.vscode/extensions/julialang.language-julia-1.6.24/scripts/packages/VSCodeServer/src/serve_notebook.jl:136\n",
      " [11] top-level scope\n",
      "    @ ~/.vscode/extensions/julialang.language-julia-1.6.24/scripts/notebook/notebook.jl:32\n",
      " [12] include(mod::Module, _path::String)\n",
      "    @ Base ./Base.jl:418\n",
      " [13] exec_options(opts::Base.JLOptions)\n",
      "    @ Base ./client.jl:292\n",
      " [14] _start()\n",
      "    @ Base ./client.jl:495"
     ]
    }
   ],
   "source": [
    "describe(genome_info.Genome_size)"
   ]
  },
  {
   "cell_type": "code",
   "execution_count": 26,
   "metadata": {},
   "outputs": [
    {
     "data": {
      "text/plain": [
       "Union{Missing, Float64}"
      ]
     },
     "metadata": {},
     "output_type": "display_data"
    }
   ],
   "source": [
    "eltype(genome_info.Genome_size)"
   ]
  },
  {
   "cell_type": "code",
   "execution_count": 28,
   "metadata": {},
   "outputs": [
    {
     "data": {
      "text/plain": [
       "skipmissing(Union{Missing, Float64}[11.64, 12.0, missing, 11.82, 17.32, 29.38, 29.21, 28.17, 33.47, 31.61, 30.77, 30.27, 34.0, 228.54, 395.87, 397.03, 405.87, 709.34])"
      ]
     },
     "metadata": {},
     "output_type": "display_data"
    }
   ],
   "source": [
    "skipmissing(genome_info.Genome_size)"
   ]
  },
  {
   "cell_type": "code",
   "execution_count": 27,
   "metadata": {},
   "outputs": [
    {
     "data": {
      "text/plain": [
       "Float64"
      ]
     },
     "metadata": {},
     "output_type": "display_data"
    }
   ],
   "source": [
    "eltype(skipmissing(genome_info.Genome_size))"
   ]
  },
  {
   "cell_type": "code",
   "execution_count": 32,
   "metadata": {},
   "outputs": [],
   "source": [
    "using Statistics"
   ]
  },
  {
   "cell_type": "code",
   "execution_count": 36,
   "metadata": {},
   "outputs": [
    {
     "data": {
      "text/plain": [
       "143.31235294117647"
      ]
     },
     "metadata": {},
     "output_type": "display_data"
    }
   ],
   "source": [
    "mean(skipmissing(genome_info.Genome_size))"
   ]
  },
  {
   "cell_type": "code",
   "execution_count": 42,
   "metadata": {},
   "outputs": [
    {
     "data": {
      "text/plain": [
       "30.77"
      ]
     },
     "metadata": {},
     "output_type": "display_data"
    }
   ],
   "source": [
    "median(skipmissing(genome_info.Genome_size))"
   ]
  },
  {
   "cell_type": "code",
   "execution_count": null,
   "metadata": {},
   "outputs": [],
   "source": []
  }
 ],
 "metadata": {
  "kernelspec": {
   "display_name": "Julia 1.7.1",
   "language": "julia",
   "name": "julia-1.7"
  },
  "language_info": {
   "file_extension": ".jl",
   "mimetype": "application/julia",
   "name": "julia",
   "version": "1.7.1"
  },
  "orig_nbformat": 4,
  "vscode": {
   "interpreter": {
    "hash": "31f2aee4e71d21fbe5cf8b01ff0e069b9275f58929596ceb00d14d90e3e16cd6"
   }
  }
 },
 "nbformat": 4,
 "nbformat_minor": 2
}
