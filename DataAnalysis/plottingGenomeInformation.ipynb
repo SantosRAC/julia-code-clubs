{
 "cells": [
  {
   "cell_type": "markdown",
   "metadata": {},
   "source": [
    "# Genomic Data Analysis with Julia\n",
    "\n",
    "Playing with our data. Following [this tutorial](https://github.com/bkamins/Julia-DataFrames-Tutorial).\n",
    "\n",
    "Author: Renato Augusto Corrêa dos Santos\n",
    "\n",
    "## Installing packages\n",
    "\n",
    " * DataFrames\n",
    " * CSV"
   ]
  },
  {
   "cell_type": "code",
   "execution_count": 9,
   "metadata": {},
   "outputs": [
    {
     "name": "stderr",
     "output_type": "stream",
     "text": [
      "\u001b[32m\u001b[1m   Resolving\u001b[22m\u001b[39m package versions...\n",
      "\u001b[32m\u001b[1m  No Changes\u001b[22m\u001b[39m to `~/Repositories/julia-code-clubs-ufabc/Project.toml`\n",
      "\u001b[32m\u001b[1m  No Changes\u001b[22m\u001b[39m to `~/Repositories/julia-code-clubs-ufabc/Manifest.toml`\n",
      "\u001b[32m\u001b[1m   Resolving\u001b[22m\u001b[39m package versions...\n",
      "\u001b[32m\u001b[1m   Installed\u001b[22m\u001b[39m Parsers ─ v2.3.2\n",
      "\u001b[32m\u001b[1m    Updating\u001b[22m\u001b[39m `~/Repositories/julia-code-clubs-ufabc/Project.toml`\n",
      " \u001b[90m [336ed68f] \u001b[39m\u001b[92m+ CSV v0.10.4\u001b[39m\n",
      "\u001b[32m\u001b[1m    Updating\u001b[22m\u001b[39m `~/Repositories/julia-code-clubs-ufabc/Manifest.toml`\n",
      " \u001b[90m [336ed68f] \u001b[39m\u001b[92m+ CSV v0.10.4\u001b[39m\n",
      " \u001b[90m [944b1d66] \u001b[39m\u001b[92m+ CodecZlib v0.7.0\u001b[39m\n",
      " \u001b[90m [48062228] \u001b[39m\u001b[92m+ FilePathsBase v0.9.18\u001b[39m\n",
      " \u001b[90m [842dd82b] \u001b[39m\u001b[92m+ InlineStrings v1.1.2\u001b[39m\n",
      " \u001b[90m [69de0a69] \u001b[39m\u001b[92m+ Parsers v2.3.2\u001b[39m\n",
      " \u001b[90m [91c51154] \u001b[39m\u001b[92m+ SentinelArrays v1.3.13\u001b[39m\n",
      " \u001b[90m [3bb67fe8] \u001b[39m\u001b[92m+ TranscodingStreams v0.9.6\u001b[39m\n",
      " \u001b[90m [ea10d353] \u001b[39m\u001b[92m+ WeakRefStrings v1.4.2\u001b[39m\n",
      "\u001b[32m\u001b[1mPrecompiling\u001b[22m\u001b[39m project...\n",
      "\u001b[33m  ✓ \u001b[39m\u001b[90mParsers\u001b[39m\n",
      "\u001b[33m  ✓ \u001b[39m\u001b[90mInlineStrings\u001b[39m\n",
      "\u001b[33m  ✓ \u001b[39m\u001b[90mWeakRefStrings\u001b[39m\n",
      "\u001b[33m  ✓ \u001b[39mCSV\n",
      "  4 dependencies successfully precompiled in 7 seconds (27 already precompiled)\n",
      "  \u001b[33m4\u001b[39m dependencies precompiled but different versions are currently loaded. Restart julia to access the new versions\n"
     ]
    }
   ],
   "source": [
    "using Pkg\n",
    "Pkg.add(\"DataFrames\")\n",
    "Pkg.add(\"CSV\")"
   ]
  },
  {
   "cell_type": "code",
   "execution_count": 1,
   "metadata": {},
   "outputs": [],
   "source": [
    "using DataFrames\n",
    "using CSV"
   ]
  },
  {
   "cell_type": "markdown",
   "metadata": {},
   "source": [
    "Checking the path to current working directory:"
   ]
  },
  {
   "cell_type": "code",
   "execution_count": 2,
   "metadata": {},
   "outputs": [
    {
     "data": {
      "text/plain": [
       "\"/home/santosrac/Repositories/julia-code-clubs-ufabc/DataAnalysis\""
      ]
     },
     "metadata": {},
     "output_type": "display_data"
    }
   ],
   "source": [
    "pwd()"
   ]
  },
  {
   "cell_type": "code",
   "execution_count": 3,
   "metadata": {},
   "outputs": [
    {
     "data": {
      "text/html": [
       "<div class=\"data-frame\"><p>18 rows × 3 columns</p><table class=\"data-frame\"><thead><tr><th></th><th>Species</th><th>Strain_Cultivar</th><th>Genome_size</th></tr><tr><th></th><th title=\"String31\">String31</th><th title=\"String15\">String15</th><th title=\"Union{Missing, Float64}\">Float64?</th></tr></thead><tbody><tr><th>1</th><td>Saccharomyces cerevisiae</td><td>RedStar</td><td>11.64</td></tr><tr><th>2</th><td>Saccharomyces cerevisiae</td><td>CEN.PK113-7D</td><td>12.0</td></tr><tr><th>3</th><td>Saccharomyces cerevisiae</td><td>CBS2919</td><td><em>missing</em></td></tr><tr><th>4</th><td>Saccharomyces cereivisiae</td><td>S288C</td><td>11.82</td></tr><tr><th>5</th><td>Kalmanozyma brasiliensis</td><td>GHG001</td><td>17.32</td></tr><tr><th>6</th><td>Aspergillus fumigatus</td><td>Af293</td><td>29.38</td></tr><tr><th>7</th><td>Aspergillus fumigatus</td><td>A1163</td><td>29.21</td></tr><tr><th>8</th><td>Aspergillus fumigatus</td><td>CNM-CM8686</td><td>28.17</td></tr><tr><th>9</th><td>Aspergillus fumigatiaffinis</td><td>CNM-CM6805</td><td>33.47</td></tr><tr><th>10</th><td>Aspergillus lentulus</td><td>CNM-CM7927</td><td>31.61</td></tr><tr><th>11</th><td>Aspergillus lentulus</td><td>IFM 54703</td><td>30.77</td></tr><tr><th>12</th><td>Aspergillus nidulans</td><td>FGSC A4</td><td>30.27</td></tr><tr><th>13</th><td>Aspergillus niger</td><td>CBS 513.88</td><td>34.0</td></tr><tr><th>14</th><td>Phytophthora infestans</td><td>T30-4</td><td>228.54</td></tr><tr><th>15</th><td>Setaria viridis</td><td>A10</td><td>395.87</td></tr><tr><th>16</th><td>Setaria viridis</td><td>ME034v</td><td>397.03</td></tr><tr><th>17</th><td>Setaria italica</td><td>Yugu1</td><td>405.87</td></tr><tr><th>18</th><td>Sorghum bicolor</td><td>BTx623</td><td>709.34</td></tr></tbody></table></div>"
      ],
      "text/latex": [
       "\\begin{tabular}{r|ccc}\n",
       "\t& Species & Strain\\_Cultivar & Genome\\_size\\\\\n",
       "\t\\hline\n",
       "\t& String31 & String15 & Float64?\\\\\n",
       "\t\\hline\n",
       "\t1 & Saccharomyces cerevisiae & RedStar & 11.64 \\\\\n",
       "\t2 & Saccharomyces cerevisiae & CEN.PK113-7D & 12.0 \\\\\n",
       "\t3 & Saccharomyces cerevisiae & CBS2919 & \\emph{missing} \\\\\n",
       "\t4 & Saccharomyces cereivisiae & S288C & 11.82 \\\\\n",
       "\t5 & Kalmanozyma brasiliensis & GHG001 & 17.32 \\\\\n",
       "\t6 & Aspergillus fumigatus & Af293 & 29.38 \\\\\n",
       "\t7 & Aspergillus fumigatus & A1163 & 29.21 \\\\\n",
       "\t8 & Aspergillus fumigatus & CNM-CM8686 & 28.17 \\\\\n",
       "\t9 & Aspergillus fumigatiaffinis & CNM-CM6805 & 33.47 \\\\\n",
       "\t10 & Aspergillus lentulus & CNM-CM7927 & 31.61 \\\\\n",
       "\t11 & Aspergillus lentulus & IFM 54703 & 30.77 \\\\\n",
       "\t12 & Aspergillus nidulans & FGSC A4 & 30.27 \\\\\n",
       "\t13 & Aspergillus niger & CBS 513.88 & 34.0 \\\\\n",
       "\t14 & Phytophthora infestans & T30-4 & 228.54 \\\\\n",
       "\t15 & Setaria viridis & A10 & 395.87 \\\\\n",
       "\t16 & Setaria viridis & ME034v & 397.03 \\\\\n",
       "\t17 & Setaria italica & Yugu1 & 405.87 \\\\\n",
       "\t18 & Sorghum bicolor & BTx623 & 709.34 \\\\\n",
       "\\end{tabular}\n"
      ],
      "text/plain": [
       "\u001b[1m18×3 DataFrame\u001b[0m\n",
       "\u001b[1m Row \u001b[0m│\u001b[1m Species                     \u001b[0m\u001b[1m Strain_Cultivar \u001b[0m\u001b[1m Genome_size \u001b[0m\n",
       "\u001b[1m     \u001b[0m│\u001b[90m String31                    \u001b[0m\u001b[90m String15        \u001b[0m\u001b[90m Float64?    \u001b[0m\n",
       "─────┼───────────────────────────────────────────────────────────\n",
       "   1 │ Saccharomyces cerevisiae     RedStar                11.64\n",
       "   2 │ Saccharomyces cerevisiae     CEN.PK113-7D           12.0\n",
       "   3 │ Saccharomyces cerevisiae     CBS2919         \u001b[90m  missing    \u001b[0m\n",
       "   4 │ Saccharomyces cereivisiae    S288C                  11.82\n",
       "   5 │ Kalmanozyma brasiliensis     GHG001                 17.32\n",
       "   6 │ Aspergillus fumigatus        Af293                  29.38\n",
       "   7 │ Aspergillus fumigatus        A1163                  29.21\n",
       "   8 │ Aspergillus fumigatus        CNM-CM8686             28.17\n",
       "  ⋮  │              ⋮                      ⋮              ⋮\n",
       "  12 │ Aspergillus nidulans         FGSC A4                30.27\n",
       "  13 │ Aspergillus niger            CBS 513.88             34.0\n",
       "  14 │ Phytophthora infestans       T30-4                 228.54\n",
       "  15 │ Setaria viridis              A10                   395.87\n",
       "  16 │ Setaria viridis              ME034v                397.03\n",
       "  17 │ Setaria italica              Yugu1                 405.87\n",
       "  18 │ Sorghum bicolor              BTx623                709.34\n",
       "\u001b[36m                                                   3 rows omitted\u001b[0m"
      ]
     },
     "metadata": {},
     "output_type": "display_data"
    }
   ],
   "source": [
    "genome_info = DataFrame(CSV.File(\"genome_information.csv\"))"
   ]
  },
  {
   "cell_type": "code",
   "execution_count": 8,
   "metadata": {},
   "outputs": [
    {
     "data": {
      "text/html": [
       "<div class=\"data-frame\"><p>18 rows × 3 columns</p><table class=\"data-frame\"><thead><tr><th></th><th>Species</th><th>Strain_Cultivar</th><th>Genome_size</th></tr><tr><th></th><th title=\"String31\">String31</th><th title=\"String15\">String15</th><th title=\"Union{Missing, Float64}\">Float64?</th></tr></thead><tbody><tr><th>1</th><td>Saccharomyces cerevisiae</td><td>RedStar</td><td>11.64</td></tr><tr><th>2</th><td>Saccharomyces cerevisiae</td><td>CEN.PK113-7D</td><td>12.0</td></tr><tr><th>3</th><td>Saccharomyces cerevisiae</td><td>CBS2919</td><td><em>missing</em></td></tr><tr><th>4</th><td>Saccharomyces cereivisiae</td><td>S288C</td><td>11.82</td></tr><tr><th>5</th><td>Kalmanozyma brasiliensis</td><td>GHG001</td><td>17.32</td></tr><tr><th>6</th><td>Aspergillus fumigatus</td><td>Af293</td><td>29.38</td></tr><tr><th>7</th><td>Aspergillus fumigatus</td><td>A1163</td><td>29.21</td></tr><tr><th>8</th><td>Aspergillus fumigatus</td><td>CNM-CM8686</td><td>28.17</td></tr><tr><th>9</th><td>Aspergillus fumigatiaffinis</td><td>CNM-CM6805</td><td>33.47</td></tr><tr><th>10</th><td>Aspergillus lentulus</td><td>CNM-CM7927</td><td>31.61</td></tr><tr><th>11</th><td>Aspergillus lentulus</td><td>IFM 54703</td><td>30.77</td></tr><tr><th>12</th><td>Aspergillus nidulans</td><td>FGSC A4</td><td>30.27</td></tr><tr><th>13</th><td>Aspergillus niger</td><td>CBS 513.88</td><td>34.0</td></tr><tr><th>14</th><td>Phytophthora infestans</td><td>T30-4</td><td>228.54</td></tr><tr><th>15</th><td>Setaria viridis</td><td>A10</td><td>395.87</td></tr><tr><th>16</th><td>Setaria viridis</td><td>ME034v</td><td>397.03</td></tr><tr><th>17</th><td>Setaria italica</td><td>Yugu1</td><td>405.87</td></tr><tr><th>18</th><td>Sorghum bicolor</td><td>BTx623</td><td>709.34</td></tr></tbody></table></div>"
      ],
      "text/latex": [
       "\\begin{tabular}{r|ccc}\n",
       "\t& Species & Strain\\_Cultivar & Genome\\_size\\\\\n",
       "\t\\hline\n",
       "\t& String31 & String15 & Float64?\\\\\n",
       "\t\\hline\n",
       "\t1 & Saccharomyces cerevisiae & RedStar & 11.64 \\\\\n",
       "\t2 & Saccharomyces cerevisiae & CEN.PK113-7D & 12.0 \\\\\n",
       "\t3 & Saccharomyces cerevisiae & CBS2919 & \\emph{missing} \\\\\n",
       "\t4 & Saccharomyces cereivisiae & S288C & 11.82 \\\\\n",
       "\t5 & Kalmanozyma brasiliensis & GHG001 & 17.32 \\\\\n",
       "\t6 & Aspergillus fumigatus & Af293 & 29.38 \\\\\n",
       "\t7 & Aspergillus fumigatus & A1163 & 29.21 \\\\\n",
       "\t8 & Aspergillus fumigatus & CNM-CM8686 & 28.17 \\\\\n",
       "\t9 & Aspergillus fumigatiaffinis & CNM-CM6805 & 33.47 \\\\\n",
       "\t10 & Aspergillus lentulus & CNM-CM7927 & 31.61 \\\\\n",
       "\t11 & Aspergillus lentulus & IFM 54703 & 30.77 \\\\\n",
       "\t12 & Aspergillus nidulans & FGSC A4 & 30.27 \\\\\n",
       "\t13 & Aspergillus niger & CBS 513.88 & 34.0 \\\\\n",
       "\t14 & Phytophthora infestans & T30-4 & 228.54 \\\\\n",
       "\t15 & Setaria viridis & A10 & 395.87 \\\\\n",
       "\t16 & Setaria viridis & ME034v & 397.03 \\\\\n",
       "\t17 & Setaria italica & Yugu1 & 405.87 \\\\\n",
       "\t18 & Sorghum bicolor & BTx623 & 709.34 \\\\\n",
       "\\end{tabular}\n"
      ],
      "text/plain": [
       "\u001b[1m18×3 DataFrame\u001b[0m\n",
       "\u001b[1m Row \u001b[0m│\u001b[1m Species                     \u001b[0m\u001b[1m Strain_Cultivar \u001b[0m\u001b[1m Genome_size \u001b[0m\n",
       "\u001b[1m     \u001b[0m│\u001b[90m String31                    \u001b[0m\u001b[90m String15        \u001b[0m\u001b[90m Float64?    \u001b[0m\n",
       "─────┼───────────────────────────────────────────────────────────\n",
       "   1 │ Saccharomyces cerevisiae     RedStar                11.64\n",
       "   2 │ Saccharomyces cerevisiae     CEN.PK113-7D           12.0\n",
       "   3 │ Saccharomyces cerevisiae     CBS2919         \u001b[90m  missing    \u001b[0m\n",
       "   4 │ Saccharomyces cereivisiae    S288C                  11.82\n",
       "   5 │ Kalmanozyma brasiliensis     GHG001                 17.32\n",
       "   6 │ Aspergillus fumigatus        Af293                  29.38\n",
       "   7 │ Aspergillus fumigatus        A1163                  29.21\n",
       "   8 │ Aspergillus fumigatus        CNM-CM8686             28.17\n",
       "  ⋮  │              ⋮                      ⋮              ⋮\n",
       "  12 │ Aspergillus nidulans         FGSC A4                30.27\n",
       "  13 │ Aspergillus niger            CBS 513.88             34.0\n",
       "  14 │ Phytophthora infestans       T30-4                 228.54\n",
       "  15 │ Setaria viridis              A10                   395.87\n",
       "  16 │ Setaria viridis              ME034v                397.03\n",
       "  17 │ Setaria italica              Yugu1                 405.87\n",
       "  18 │ Sorghum bicolor              BTx623                709.34\n",
       "\u001b[36m                                                   3 rows omitted\u001b[0m"
      ]
     },
     "metadata": {},
     "output_type": "display_data"
    }
   ],
   "source": [
    "genome_info"
   ]
  },
  {
   "cell_type": "code",
   "execution_count": 10,
   "metadata": {},
   "outputs": [
    {
     "data": {
      "text/plain": [
       "(18, 3)"
      ]
     },
     "metadata": {},
     "output_type": "display_data"
    }
   ],
   "source": [
    "size(genome_info)"
   ]
  },
  {
   "cell_type": "code",
   "execution_count": 11,
   "metadata": {},
   "outputs": [
    {
     "data": {
      "text/plain": [
       "(18, 3)"
      ]
     },
     "metadata": {},
     "output_type": "display_data"
    }
   ],
   "source": [
    "nrow(genome_info), ncol(genome_info)"
   ]
  },
  {
   "cell_type": "code",
   "execution_count": 12,
   "metadata": {},
   "outputs": [
    {
     "data": {
      "text/html": [
       "<div class=\"data-frame\"><p>3 rows × 7 columns (omitted printing of 2 columns)</p><table class=\"data-frame\"><thead><tr><th></th><th>variable</th><th>mean</th><th>min</th><th>median</th><th>max</th></tr><tr><th></th><th title=\"Symbol\">Symbol</th><th title=\"Union{Nothing, Float64}\">Union…</th><th title=\"Any\">Any</th><th title=\"Union{Nothing, Float64}\">Union…</th><th title=\"Any\">Any</th></tr></thead><tbody><tr><th>1</th><td>Species</td><td></td><td>Aspergillus fumigatiaffinis</td><td></td><td>Sorghum bicolor</td></tr><tr><th>2</th><td>Strain_Cultivar</td><td></td><td>A10</td><td></td><td>Yugu1</td></tr><tr><th>3</th><td>Genome_size</td><td>143.312</td><td>11.64</td><td>30.77</td><td>709.34</td></tr></tbody></table></div>"
      ],
      "text/latex": [
       "\\begin{tabular}{r|cccccc}\n",
       "\t& variable & mean & min & median & max & \\\\\n",
       "\t\\hline\n",
       "\t& Symbol & Union… & Any & Union… & Any & \\\\\n",
       "\t\\hline\n",
       "\t1 & Species &  & Aspergillus fumigatiaffinis &  & Sorghum bicolor & $\\dots$ \\\\\n",
       "\t2 & Strain\\_Cultivar &  & A10 &  & Yugu1 & $\\dots$ \\\\\n",
       "\t3 & Genome\\_size & 143.312 & 11.64 & 30.77 & 709.34 & $\\dots$ \\\\\n",
       "\\end{tabular}\n"
      ],
      "text/plain": [
       "\u001b[1m3×7 DataFrame\u001b[0m\n",
       "\u001b[1m Row \u001b[0m│\u001b[1m variable        \u001b[0m\u001b[1m mean    \u001b[0m\u001b[1m min                         \u001b[0m\u001b[1m median \u001b[0m\u001b[1m max     \u001b[0m ⋯\n",
       "\u001b[1m     \u001b[0m│\u001b[90m Symbol          \u001b[0m\u001b[90m Union…  \u001b[0m\u001b[90m Any                         \u001b[0m\u001b[90m Union… \u001b[0m\u001b[90m Any     \u001b[0m ⋯\n",
       "─────┼──────────────────────────────────────────────────────────────────────────\n",
       "   1 │ Species         \u001b[90m         \u001b[0m Aspergillus fumigatiaffinis \u001b[90m        \u001b[0m Sorghum  ⋯\n",
       "   2 │ Strain_Cultivar \u001b[90m         \u001b[0m A10                         \u001b[90m        \u001b[0m Yugu1\n",
       "   3 │ Genome_size      143.312  11.64                        30.77   709.34\n",
       "\u001b[36m                                                               3 columns omitted\u001b[0m"
      ]
     },
     "metadata": {},
     "output_type": "display_data"
    }
   ],
   "source": [
    "describe(genome_info)"
   ]
  },
  {
   "cell_type": "code",
   "execution_count": 13,
   "metadata": {},
   "outputs": [
    {
     "data": {
      "text/plain": [
       "3-element Vector{String}:\n",
       " \"Species\"\n",
       " \"Strain_Cultivar\"\n",
       " \"Genome_size\""
      ]
     },
     "metadata": {},
     "output_type": "display_data"
    }
   ],
   "source": [
    "names(genome_info)"
   ]
  },
  {
   "cell_type": "markdown",
   "metadata": {},
   "source": [
    "Recovering the first five lines of the dataframe:"
   ]
  },
  {
   "cell_type": "code",
   "execution_count": 18,
   "metadata": {},
   "outputs": [
    {
     "data": {
      "text/html": [
       "<div class=\"data-frame\"><p>5 rows × 3 columns</p><table class=\"data-frame\"><thead><tr><th></th><th>Species</th><th>Strain_Cultivar</th><th>Genome_size</th></tr><tr><th></th><th title=\"String31\">String31</th><th title=\"String15\">String15</th><th title=\"Union{Missing, Float64}\">Float64?</th></tr></thead><tbody><tr><th>1</th><td>Saccharomyces cerevisiae</td><td>RedStar</td><td>11.64</td></tr><tr><th>2</th><td>Saccharomyces cerevisiae</td><td>CEN.PK113-7D</td><td>12.0</td></tr><tr><th>3</th><td>Saccharomyces cerevisiae</td><td>CBS2919</td><td><em>missing</em></td></tr><tr><th>4</th><td>Saccharomyces cereivisiae</td><td>S288C</td><td>11.82</td></tr><tr><th>5</th><td>Kalmanozyma brasiliensis</td><td>GHG001</td><td>17.32</td></tr></tbody></table></div>"
      ],
      "text/latex": [
       "\\begin{tabular}{r|ccc}\n",
       "\t& Species & Strain\\_Cultivar & Genome\\_size\\\\\n",
       "\t\\hline\n",
       "\t& String31 & String15 & Float64?\\\\\n",
       "\t\\hline\n",
       "\t1 & Saccharomyces cerevisiae & RedStar & 11.64 \\\\\n",
       "\t2 & Saccharomyces cerevisiae & CEN.PK113-7D & 12.0 \\\\\n",
       "\t3 & Saccharomyces cerevisiae & CBS2919 & \\emph{missing} \\\\\n",
       "\t4 & Saccharomyces cereivisiae & S288C & 11.82 \\\\\n",
       "\t5 & Kalmanozyma brasiliensis & GHG001 & 17.32 \\\\\n",
       "\\end{tabular}\n"
      ],
      "text/plain": [
       "\u001b[1m5×3 DataFrame\u001b[0m\n",
       "\u001b[1m Row \u001b[0m│\u001b[1m Species                   \u001b[0m\u001b[1m Strain_Cultivar \u001b[0m\u001b[1m Genome_size \u001b[0m\n",
       "\u001b[1m     \u001b[0m│\u001b[90m String31                  \u001b[0m\u001b[90m String15        \u001b[0m\u001b[90m Float64?    \u001b[0m\n",
       "─────┼─────────────────────────────────────────────────────────\n",
       "   1 │ Saccharomyces cerevisiae   RedStar                11.64\n",
       "   2 │ Saccharomyces cerevisiae   CEN.PK113-7D           12.0\n",
       "   3 │ Saccharomyces cerevisiae   CBS2919         \u001b[90m  missing    \u001b[0m\n",
       "   4 │ Saccharomyces cereivisiae  S288C                  11.82\n",
       "   5 │ Kalmanozyma brasiliensis   GHG001                 17.32"
      ]
     },
     "metadata": {},
     "output_type": "display_data"
    }
   ],
   "source": [
    "first(genome_info, 5)"
   ]
  },
  {
   "cell_type": "markdown",
   "metadata": {},
   "source": [
    "`last` does the same, but bottom-up"
   ]
  },
  {
   "cell_type": "code",
   "execution_count": 20,
   "metadata": {},
   "outputs": [
    {
     "data": {
      "text/html": [
       "<div class=\"data-frame\"><p>3 rows × 3 columns</p><table class=\"data-frame\"><thead><tr><th></th><th>Species</th><th>Strain_Cultivar</th><th>Genome_size</th></tr><tr><th></th><th title=\"String31\">String31</th><th title=\"String15\">String15</th><th title=\"Union{Missing, Float64}\">Float64?</th></tr></thead><tbody><tr><th>1</th><td>Setaria viridis</td><td>ME034v</td><td>397.03</td></tr><tr><th>2</th><td>Setaria italica</td><td>Yugu1</td><td>405.87</td></tr><tr><th>3</th><td>Sorghum bicolor</td><td>BTx623</td><td>709.34</td></tr></tbody></table></div>"
      ],
      "text/latex": [
       "\\begin{tabular}{r|ccc}\n",
       "\t& Species & Strain\\_Cultivar & Genome\\_size\\\\\n",
       "\t\\hline\n",
       "\t& String31 & String15 & Float64?\\\\\n",
       "\t\\hline\n",
       "\t1 & Setaria viridis & ME034v & 397.03 \\\\\n",
       "\t2 & Setaria italica & Yugu1 & 405.87 \\\\\n",
       "\t3 & Sorghum bicolor & BTx623 & 709.34 \\\\\n",
       "\\end{tabular}\n"
      ],
      "text/plain": [
       "\u001b[1m3×3 DataFrame\u001b[0m\n",
       "\u001b[1m Row \u001b[0m│\u001b[1m Species         \u001b[0m\u001b[1m Strain_Cultivar \u001b[0m\u001b[1m Genome_size \u001b[0m\n",
       "\u001b[1m     \u001b[0m│\u001b[90m String31        \u001b[0m\u001b[90m String15        \u001b[0m\u001b[90m Float64?    \u001b[0m\n",
       "─────┼───────────────────────────────────────────────\n",
       "   1 │ Setaria viridis  ME034v                397.03\n",
       "   2 │ Setaria italica  Yugu1                 405.87\n",
       "   3 │ Sorghum bicolor  BTx623                709.34"
      ]
     },
     "metadata": {},
     "output_type": "display_data"
    }
   ],
   "source": [
    "last(genome_info, 3)"
   ]
  },
  {
   "cell_type": "markdown",
   "metadata": {},
   "source": [
    "## Recovering statistics from a column with missing data"
   ]
  },
  {
   "cell_type": "code",
   "execution_count": 21,
   "metadata": {},
   "outputs": [
    {
     "data": {
      "text/plain": [
       "18-element Vector{Union{Missing, Float64}}:\n",
       "  11.64\n",
       "  12.0\n",
       "    missing\n",
       "  11.82\n",
       "  17.32\n",
       "  29.38\n",
       "  29.21\n",
       "  28.17\n",
       "  33.47\n",
       "  31.61\n",
       "  30.77\n",
       "  30.27\n",
       "  34.0\n",
       " 228.54\n",
       " 395.87\n",
       " 397.03\n",
       " 405.87\n",
       " 709.34"
      ]
     },
     "metadata": {},
     "output_type": "display_data"
    }
   ],
   "source": [
    "genome_info.Genome_size"
   ]
  },
  {
   "cell_type": "code",
   "execution_count": 23,
   "metadata": {},
   "outputs": [
    {
     "ename": "MethodError",
     "evalue": "MethodError: no method matching describe(::Vector{Union{Missing, Float64}})\nClosest candidates are:\n  describe(!Matched::AbstractDataFrame; cols) at ~/.julia/packages/DataFrames/zqFGs/src/abstractdataframe/abstractdataframe.jl:605\n  describe(!Matched::AbstractDataFrame, !Matched::Union{Symbol, Pair{<:Union{Function, Type}, <:Union{AbstractString, Symbol}}}...; cols) at ~/.julia/packages/DataFrames/zqFGs/src/abstractdataframe/abstractdataframe.jl:602",
     "output_type": "error",
     "traceback": [
      "MethodError: no method matching describe(::Vector{Union{Missing, Float64}})\n",
      "Closest candidates are:\n",
      "  describe(!Matched::AbstractDataFrame; cols) at ~/.julia/packages/DataFrames/zqFGs/src/abstractdataframe/abstractdataframe.jl:605\n",
      "  describe(!Matched::AbstractDataFrame, !Matched::Union{Symbol, Pair{<:Union{Function, Type}, <:Union{AbstractString, Symbol}}}...; cols) at ~/.julia/packages/DataFrames/zqFGs/src/abstractdataframe/abstractdataframe.jl:602\n",
      "\n",
      "Stacktrace:\n",
      "  [1] top-level scope\n",
      "    @ ~/Repositories/julia-code-clubs-ufabc/DataAnalysis/plottingGenomeInformation.ipynb:1\n",
      "  [2] eval\n",
      "    @ ./boot.jl:373 [inlined]\n",
      "  [3] include_string(mapexpr::typeof(REPL.softscope), mod::Module, code::String, filename::String)\n",
      "    @ Base ./loading.jl:1196\n",
      "  [4] #invokelatest#2\n",
      "    @ ./essentials.jl:716 [inlined]\n",
      "  [5] invokelatest\n",
      "    @ ./essentials.jl:714 [inlined]\n",
      "  [6] (::VSCodeServer.var\"#164#165\"{VSCodeServer.NotebookRunCellArguments, String})()\n",
      "    @ VSCodeServer ~/.vscode/extensions/julialang.language-julia-1.6.24/scripts/packages/VSCodeServer/src/serve_notebook.jl:19\n",
      "  [7] withpath(f::VSCodeServer.var\"#164#165\"{VSCodeServer.NotebookRunCellArguments, String}, path::String)\n",
      "    @ VSCodeServer ~/.vscode/extensions/julialang.language-julia-1.6.24/scripts/packages/VSCodeServer/src/repl.jl:184\n",
      "  [8] notebook_runcell_request(conn::VSCodeServer.JSONRPC.JSONRPCEndpoint{Base.PipeEndpoint, Base.PipeEndpoint}, params::VSCodeServer.NotebookRunCellArguments)\n",
      "    @ VSCodeServer ~/.vscode/extensions/julialang.language-julia-1.6.24/scripts/packages/VSCodeServer/src/serve_notebook.jl:13\n",
      "  [9] dispatch_msg(x::VSCodeServer.JSONRPC.JSONRPCEndpoint{Base.PipeEndpoint, Base.PipeEndpoint}, dispatcher::VSCodeServer.JSONRPC.MsgDispatcher, msg::Dict{String, Any})\n",
      "    @ VSCodeServer.JSONRPC ~/.vscode/extensions/julialang.language-julia-1.6.24/scripts/packages/JSONRPC/src/typed.jl:67\n",
      " [10] serve_notebook(pipename::String, outputchannel_logger::Base.CoreLogging.SimpleLogger; crashreporting_pipename::String)\n",
      "    @ VSCodeServer ~/.vscode/extensions/julialang.language-julia-1.6.24/scripts/packages/VSCodeServer/src/serve_notebook.jl:136\n",
      " [11] top-level scope\n",
      "    @ ~/.vscode/extensions/julialang.language-julia-1.6.24/scripts/notebook/notebook.jl:32\n",
      " [12] include(mod::Module, _path::String)\n",
      "    @ Base ./Base.jl:418\n",
      " [13] exec_options(opts::Base.JLOptions)\n",
      "    @ Base ./client.jl:292\n",
      " [14] _start()\n",
      "    @ Base ./client.jl:495"
     ]
    }
   ],
   "source": [
    "describe(genome_info.Genome_size)"
   ]
  },
  {
   "cell_type": "code",
   "execution_count": 26,
   "metadata": {},
   "outputs": [
    {
     "data": {
      "text/plain": [
       "Union{Missing, Float64}"
      ]
     },
     "metadata": {},
     "output_type": "display_data"
    }
   ],
   "source": [
    "eltype(genome_info.Genome_size)"
   ]
  },
  {
   "cell_type": "code",
   "execution_count": 28,
   "metadata": {},
   "outputs": [
    {
     "data": {
      "text/plain": [
       "skipmissing(Union{Missing, Float64}[11.64, 12.0, missing, 11.82, 17.32, 29.38, 29.21, 28.17, 33.47, 31.61, 30.77, 30.27, 34.0, 228.54, 395.87, 397.03, 405.87, 709.34])"
      ]
     },
     "metadata": {},
     "output_type": "display_data"
    }
   ],
   "source": [
    "skipmissing(genome_info.Genome_size)"
   ]
  },
  {
   "cell_type": "code",
   "execution_count": 27,
   "metadata": {},
   "outputs": [
    {
     "data": {
      "text/plain": [
       "Float64"
      ]
     },
     "metadata": {},
     "output_type": "display_data"
    }
   ],
   "source": [
    "eltype(skipmissing(genome_info.Genome_size))"
   ]
  },
  {
   "cell_type": "code",
   "execution_count": 32,
   "metadata": {},
   "outputs": [],
   "source": [
    "using Statistics"
   ]
  },
  {
   "cell_type": "code",
   "execution_count": 36,
   "metadata": {},
   "outputs": [
    {
     "data": {
      "text/plain": [
       "143.31235294117647"
      ]
     },
     "metadata": {},
     "output_type": "display_data"
    }
   ],
   "source": [
    "mean(skipmissing(genome_info.Genome_size))"
   ]
  },
  {
   "cell_type": "code",
   "execution_count": 42,
   "metadata": {},
   "outputs": [
    {
     "data": {
      "text/plain": [
       "30.77"
      ]
     },
     "metadata": {},
     "output_type": "display_data"
    }
   ],
   "source": [
    "median(skipmissing(genome_info.Genome_size))"
   ]
  },
  {
   "cell_type": "markdown",
   "metadata": {},
   "source": [
    "## Some plots"
   ]
  },
  {
   "cell_type": "code",
   "execution_count": 45,
   "metadata": {},
   "outputs": [
    {
     "name": "stderr",
     "output_type": "stream",
     "text": [
      "\u001b[32m\u001b[1m   Resolving\u001b[22m\u001b[39m package versions...\n",
      "\u001b[32m\u001b[1m   Installed\u001b[22m\u001b[39m PDMats ────────────────── v0.11.13\n",
      "\u001b[32m\u001b[1m   Installed\u001b[22m\u001b[39m GR_jll ────────────────── v0.64.4+0\n",
      "\u001b[32m\u001b[1m   Installed\u001b[22m\u001b[39m Calculus ──────────────── v0.5.1\n",
      "\u001b[32m\u001b[1m   Installed\u001b[22m\u001b[39m HypergeometricFunctions ─ v0.3.10\n",
      "\u001b[32m\u001b[1m   Installed\u001b[22m\u001b[39m StatsFuns ─────────────── v1.0.1\n",
      "\u001b[32m\u001b[1m   Installed\u001b[22m\u001b[39m FFTW ──────────────────── v1.5.0\n",
      "\u001b[32m\u001b[1m   Installed\u001b[22m\u001b[39m OffsetArrays ──────────── v1.12.6\n",
      "\u001b[32m\u001b[1m   Installed\u001b[22m\u001b[39m StatsAPI ──────────────── v1.2.2\n",
      "\u001b[32m\u001b[1m   Installed\u001b[22m\u001b[39m Distances ─────────────── v0.10.7\n",
      "\u001b[32m\u001b[1m   Installed\u001b[22m\u001b[39m StaticArrays ──────────── v1.4.7\n",
      "\u001b[32m\u001b[1m   Installed\u001b[22m\u001b[39m ColorTypes ────────────── v0.11.4\n",
      "\u001b[32m\u001b[1m   Installed\u001b[22m\u001b[39m DataValues ────────────── v0.4.13\n",
      "\u001b[32m\u001b[1m   Installed\u001b[22m\u001b[39m NearestNeighbors ──────── v0.4.11\n",
      "\u001b[32m\u001b[1m   Installed\u001b[22m\u001b[39m StatsBase ─────────────── v0.33.17\n",
      "\u001b[32m\u001b[1m   Installed\u001b[22m\u001b[39m Clustering ────────────── v0.14.2\n",
      "\u001b[32m\u001b[1m   Installed\u001b[22m\u001b[39m StatsPlots ────────────── v0.14.34\n",
      "\u001b[32m\u001b[1m   Installed\u001b[22m\u001b[39m Arpack_jll ────────────── v3.5.1+1\n",
      "\u001b[32m\u001b[1m   Installed\u001b[22m\u001b[39m DualNumbers ───────────── v0.6.8\n",
      "\u001b[32m\u001b[1m   Installed\u001b[22m\u001b[39m TableOperations ───────── v1.2.0\n",
      "\u001b[32m\u001b[1m   Installed\u001b[22m\u001b[39m InverseFunctions ──────── v0.1.7\n",
      "\u001b[32m\u001b[1m   Installed\u001b[22m\u001b[39m MultivariateStats ─────── v0.9.1\n",
      "\u001b[32m\u001b[1m   Installed\u001b[22m\u001b[39m Plots ─────────────────── v1.30.2\n",
      "\u001b[32m\u001b[1m   Installed\u001b[22m\u001b[39m Arpack ────────────────── v0.5.3\n",
      "\u001b[32m\u001b[1m   Installed\u001b[22m\u001b[39m Observables ───────────── v0.5.1\n",
      "\u001b[32m\u001b[1m   Installed\u001b[22m\u001b[39m GR ────────────────────── v0.64.4\n",
      "\u001b[32m\u001b[1m    Updating\u001b[22m\u001b[39m `~/Repositories/julia-code-clubs-ufabc/Project.toml`\n",
      " \u001b[90m [f3b207a7] \u001b[39m\u001b[92m+ StatsPlots v0.14.34\u001b[39m\n",
      "\u001b[32m\u001b[1m    Updating\u001b[22m\u001b[39m `~/Repositories/julia-code-clubs-ufabc/Manifest.toml`\n",
      " \u001b[90m [621f4979] \u001b[39m\u001b[92m+ AbstractFFTs v1.1.0\u001b[39m\n",
      " \u001b[90m [79e6a3ab] \u001b[39m\u001b[92m+ Adapt v3.3.3\u001b[39m\n",
      " \u001b[90m [7d9fca2a] \u001b[39m\u001b[92m+ Arpack v0.5.3\u001b[39m\n",
      " \u001b[90m [13072b0f] \u001b[39m\u001b[92m+ AxisAlgorithms v1.0.1\u001b[39m\n",
      " \u001b[90m [49dc2e85] \u001b[39m\u001b[92m+ Calculus v0.5.1\u001b[39m\n",
      " \u001b[90m [d360d2e6] \u001b[39m\u001b[92m+ ChainRulesCore v1.15.0\u001b[39m\n",
      " \u001b[90m [9e997f8a] \u001b[39m\u001b[92m+ ChangesOfVariables v0.1.3\u001b[39m\n",
      " \u001b[90m [aaaa29a8] \u001b[39m\u001b[92m+ Clustering v0.14.2\u001b[39m\n",
      " \u001b[90m [35d6a980] \u001b[39m\u001b[92m+ ColorSchemes v3.18.0\u001b[39m\n",
      " \u001b[90m [3da002f7] \u001b[39m\u001b[92m+ ColorTypes v0.11.4\u001b[39m\n",
      " \u001b[90m [c3611d14] \u001b[39m\u001b[92m+ ColorVectorSpace v0.9.9\u001b[39m\n",
      " \u001b[90m [5ae59095] \u001b[39m\u001b[92m+ Colors v0.12.8\u001b[39m\n",
      " \u001b[90m [d38c429a] \u001b[39m\u001b[92m+ Contour v0.5.7\u001b[39m\n",
      " \u001b[90m [e7dc6d0d] \u001b[39m\u001b[92m+ DataValues v0.4.13\u001b[39m\n",
      " \u001b[90m [b429d917] \u001b[39m\u001b[92m+ DensityInterface v0.4.0\u001b[39m\n",
      " \u001b[90m [b4f34e82] \u001b[39m\u001b[92m+ Distances v0.10.7\u001b[39m\n",
      " \u001b[90m [31c24e10] \u001b[39m\u001b[92m+ Distributions v0.25.62\u001b[39m\n",
      " \u001b[90m [ffbed154] \u001b[39m\u001b[92m+ DocStringExtensions v0.8.6\u001b[39m\n",
      " \u001b[90m [fa6b7ba4] \u001b[39m\u001b[92m+ DualNumbers v0.6.8\u001b[39m\n",
      " \u001b[90m [c87230d0] \u001b[39m\u001b[92m+ FFMPEG v0.4.1\u001b[39m\n",
      " \u001b[90m [7a1cc6ca] \u001b[39m\u001b[92m+ FFTW v1.5.0\u001b[39m\n",
      " \u001b[90m [1a297f60] \u001b[39m\u001b[92m+ FillArrays v0.13.2\u001b[39m\n",
      " \u001b[90m [53c48c17] \u001b[39m\u001b[92m+ FixedPointNumbers v0.8.4\u001b[39m\n",
      " \u001b[90m [28b8d3ca] \u001b[39m\u001b[92m+ GR v0.64.4\u001b[39m\n",
      " \u001b[90m [5c1252a2] \u001b[39m\u001b[92m+ GeometryBasics v0.4.2\u001b[39m\n",
      " \u001b[90m [42e2da0e] \u001b[39m\u001b[92m+ Grisu v1.0.2\u001b[39m\n",
      " \u001b[90m [cd3eb016] \u001b[39m\u001b[92m+ HTTP v0.9.17\u001b[39m\n",
      " \u001b[90m [34004b35] \u001b[39m\u001b[92m+ HypergeometricFunctions v0.3.10\u001b[39m\n",
      " \u001b[90m [83e8ac13] \u001b[39m\u001b[92m+ IniFile v0.5.1\u001b[39m\n",
      " \u001b[90m [a98d9a8b] \u001b[39m\u001b[92m+ Interpolations v0.13.6\u001b[39m\n",
      " \u001b[90m [3587e190] \u001b[39m\u001b[92m+ InverseFunctions v0.1.7\u001b[39m\n",
      " \u001b[90m [92d709cd] \u001b[39m\u001b[92m+ IrrationalConstants v0.1.1\u001b[39m\n",
      " \u001b[90m [c8e1da08] \u001b[39m\u001b[92m+ IterTools v1.4.0\u001b[39m\n",
      " \u001b[90m [692b3bcd] \u001b[39m\u001b[92m+ JLLWrappers v1.4.1\u001b[39m\n",
      " \u001b[90m [682c06a0] \u001b[39m\u001b[92m+ JSON v0.21.3\u001b[39m\n",
      " \u001b[90m [5ab0869b] \u001b[39m\u001b[92m+ KernelDensity v0.6.3\u001b[39m\n",
      " \u001b[90m [b964fa9f] \u001b[39m\u001b[92m+ LaTeXStrings v1.3.0\u001b[39m\n",
      " \u001b[90m [23fbe1c1] \u001b[39m\u001b[92m+ Latexify v0.15.15\u001b[39m\n",
      " \u001b[90m [2ab3a3ac] \u001b[39m\u001b[92m+ LogExpFunctions v0.3.15\u001b[39m\n",
      " \u001b[90m [1914dd2f] \u001b[39m\u001b[92m+ MacroTools v0.5.9\u001b[39m\n",
      " \u001b[90m [739be429] \u001b[39m\u001b[92m+ MbedTLS v1.0.3\u001b[39m\n",
      " \u001b[90m [442fdcdd] \u001b[39m\u001b[92m+ Measures v0.3.1\u001b[39m\n",
      " \u001b[90m [6f286f6a] \u001b[39m\u001b[92m+ MultivariateStats v0.9.1\u001b[39m\n",
      " \u001b[90m [77ba4419] \u001b[39m\u001b[92m+ NaNMath v1.0.0\u001b[39m\n",
      " \u001b[90m [b8a86587] \u001b[39m\u001b[92m+ NearestNeighbors v0.4.11\u001b[39m\n",
      " \u001b[90m [510215fc] \u001b[39m\u001b[92m+ Observables v0.5.1\u001b[39m\n",
      " \u001b[90m [6fe1bfb0] \u001b[39m\u001b[92m+ OffsetArrays v1.12.6\u001b[39m\n",
      " \u001b[90m [90014a1f] \u001b[39m\u001b[92m+ PDMats v0.11.13\u001b[39m\n",
      " \u001b[90m [ccf2f8ad] \u001b[39m\u001b[92m+ PlotThemes v3.0.0\u001b[39m\n",
      " \u001b[90m [995b91a9] \u001b[39m\u001b[92m+ PlotUtils v1.2.0\u001b[39m\n",
      " \u001b[90m [91a5bcdd] \u001b[39m\u001b[92m+ Plots v1.30.2\u001b[39m\n",
      " \u001b[90m [21216c6a] \u001b[39m\u001b[92m+ Preferences v1.3.0\u001b[39m\n",
      " \u001b[90m [1fd47b50] \u001b[39m\u001b[92m+ QuadGK v2.4.2\u001b[39m\n",
      " \u001b[90m [c84ed2f1] \u001b[39m\u001b[92m+ Ratios v0.4.3\u001b[39m\n",
      " \u001b[90m [3cdcf5f2] \u001b[39m\u001b[92m+ RecipesBase v1.2.1\u001b[39m\n",
      " \u001b[90m [01d81517] \u001b[39m\u001b[92m+ RecipesPipeline v0.5.2\u001b[39m\n",
      " \u001b[90m [05181044] \u001b[39m\u001b[92m+ RelocatableFolders v0.1.3\u001b[39m\n",
      " \u001b[90m [ae029012] \u001b[39m\u001b[92m+ Requires v1.3.0\u001b[39m\n",
      " \u001b[90m [79098fc4] \u001b[39m\u001b[92m+ Rmath v0.7.0\u001b[39m\n",
      " \u001b[90m [6c6a2e73] \u001b[39m\u001b[92m+ Scratch v1.1.0\u001b[39m\n",
      " \u001b[90m [992d4aef] \u001b[39m\u001b[92m+ Showoff v1.0.3\u001b[39m\n",
      " \u001b[90m [276daf66] \u001b[39m\u001b[92m+ SpecialFunctions v2.1.6\u001b[39m\n",
      " \u001b[90m [90137ffa] \u001b[39m\u001b[92m+ StaticArrays v1.4.7\u001b[39m\n",
      " \u001b[90m [82ae8749] \u001b[39m\u001b[92m+ StatsAPI v1.2.2\u001b[39m\n",
      " \u001b[90m [2913bbd2] \u001b[39m\u001b[92m+ StatsBase v0.33.17\u001b[39m\n",
      " \u001b[90m [4c63d2b9] \u001b[39m\u001b[92m+ StatsFuns v1.0.1\u001b[39m\n",
      " \u001b[90m [f3b207a7] \u001b[39m\u001b[92m+ StatsPlots v0.14.34\u001b[39m\n",
      " \u001b[90m [09ab397b] \u001b[39m\u001b[92m+ StructArrays v0.6.8\u001b[39m\n",
      " \u001b[90m [ab02a1b2] \u001b[39m\u001b[92m+ TableOperations v1.2.0\u001b[39m\n",
      " \u001b[90m [62fd8b95] \u001b[39m\u001b[92m+ TensorCore v0.1.1\u001b[39m\n",
      " \u001b[90m [5c2747f8] \u001b[39m\u001b[92m+ URIs v1.3.0\u001b[39m\n",
      " \u001b[90m [1cfade01] \u001b[39m\u001b[92m+ UnicodeFun v0.4.1\u001b[39m\n",
      " \u001b[90m [41fe7b60] \u001b[39m\u001b[92m+ Unzip v0.1.2\u001b[39m\n",
      " \u001b[90m [cc8bc4a8] \u001b[39m\u001b[92m+ Widgets v0.6.6\u001b[39m\n",
      " \u001b[90m [efce3f68] \u001b[39m\u001b[92m+ WoodburyMatrices v0.5.5\u001b[39m\n",
      " \u001b[90m [68821587] \u001b[39m\u001b[92m+ Arpack_jll v3.5.1+1\u001b[39m\n",
      " \u001b[90m [6e34b625] \u001b[39m\u001b[92m+ Bzip2_jll v1.0.8+0\u001b[39m\n",
      " \u001b[90m [83423d85] \u001b[39m\u001b[92m+ Cairo_jll v1.16.1+1\u001b[39m\n",
      " \u001b[90m [5ae413db] \u001b[39m\u001b[92m+ EarCut_jll v2.2.3+0\u001b[39m\n",
      " \u001b[90m [2e619515] \u001b[39m\u001b[92m+ Expat_jll v2.4.8+0\u001b[39m\n",
      " \u001b[90m [b22a6f82] \u001b[39m\u001b[92m+ FFMPEG_jll v4.4.0+0\u001b[39m\n",
      " \u001b[90m [f5851436] \u001b[39m\u001b[92m+ FFTW_jll v3.3.10+0\u001b[39m\n",
      " \u001b[90m [a3f928ae] \u001b[39m\u001b[92m+ Fontconfig_jll v2.13.93+0\u001b[39m\n",
      " \u001b[90m [d7e528f0] \u001b[39m\u001b[92m+ FreeType2_jll v2.10.4+0\u001b[39m\n",
      " \u001b[90m [559328eb] \u001b[39m\u001b[92m+ FriBidi_jll v1.0.10+0\u001b[39m\n",
      " \u001b[90m [0656b61e] \u001b[39m\u001b[92m+ GLFW_jll v3.3.6+0\u001b[39m\n",
      " \u001b[90m [d2c73de3] \u001b[39m\u001b[92m+ GR_jll v0.64.4+0\u001b[39m\n",
      " \u001b[90m [78b55507] \u001b[39m\u001b[92m+ Gettext_jll v0.21.0+0\u001b[39m\n",
      " \u001b[90m [7746bdde] \u001b[39m\u001b[92m+ Glib_jll v2.68.3+2\u001b[39m\n",
      " \u001b[90m [3b182d85] \u001b[39m\u001b[92m+ Graphite2_jll v1.3.14+0\u001b[39m\n",
      " \u001b[90m [2e76f6c2] \u001b[39m\u001b[92m+ HarfBuzz_jll v2.8.1+1\u001b[39m\n",
      " \u001b[90m [1d5cc7b8] \u001b[39m\u001b[92m+ IntelOpenMP_jll v2018.0.3+2\u001b[39m\n",
      " \u001b[90m [aacddb02] \u001b[39m\u001b[92m+ JpegTurbo_jll v2.1.2+0\u001b[39m\n",
      " \u001b[90m [c1c5ebd0] \u001b[39m\u001b[92m+ LAME_jll v3.100.1+0\u001b[39m\n",
      " \u001b[90m [88015f11] \u001b[39m\u001b[92m+ LERC_jll v3.0.0+1\u001b[39m\n",
      " \u001b[90m [dd4b983a] \u001b[39m\u001b[92m+ LZO_jll v2.10.1+0\u001b[39m\n",
      " \u001b[90m [e9f186c6] \u001b[39m\u001b[92m+ Libffi_jll v3.2.2+1\u001b[39m\n",
      " \u001b[90m [d4300ac3] \u001b[39m\u001b[92m+ Libgcrypt_jll v1.8.7+0\u001b[39m\n",
      " \u001b[90m [7e76a0d4] \u001b[39m\u001b[92m+ Libglvnd_jll v1.3.0+3\u001b[39m\n",
      " \u001b[90m [7add5ba3] \u001b[39m\u001b[92m+ Libgpg_error_jll v1.42.0+0\u001b[39m\n",
      " \u001b[90m [94ce4f54] \u001b[39m\u001b[92m+ Libiconv_jll v1.16.1+1\u001b[39m\n",
      " \u001b[90m [4b2f31a3] \u001b[39m\u001b[92m+ Libmount_jll v2.35.0+0\u001b[39m\n",
      " \u001b[90m [89763e89] \u001b[39m\u001b[92m+ Libtiff_jll v4.4.0+0\u001b[39m\n",
      " \u001b[90m [38a345b3] \u001b[39m\u001b[92m+ Libuuid_jll v2.36.0+0\u001b[39m\n",
      " \u001b[90m [856f044c] \u001b[39m\u001b[92m+ MKL_jll v2022.0.0+0\u001b[39m\n",
      " \u001b[90m [e7412a2a] \u001b[39m\u001b[92m+ Ogg_jll v1.3.5+1\u001b[39m\n",
      " \u001b[90m [458c3c95] \u001b[39m\u001b[92m+ OpenSSL_jll v1.1.14+0\u001b[39m\n",
      " \u001b[90m [efe28fd5] \u001b[39m\u001b[92m+ OpenSpecFun_jll v0.5.5+0\u001b[39m\n",
      " \u001b[90m [91d4177d] \u001b[39m\u001b[92m+ Opus_jll v1.3.2+0\u001b[39m\n",
      " \u001b[90m [2f80f16e] \u001b[39m\u001b[92m+ PCRE_jll v8.44.0+0\u001b[39m\n",
      " \u001b[90m [30392449] \u001b[39m\u001b[92m+ Pixman_jll v0.40.1+0\u001b[39m\n",
      " \u001b[90m [ea2cea3b] \u001b[39m\u001b[92m+ Qt5Base_jll v5.15.3+1\u001b[39m\n",
      " \u001b[90m [f50d1b31] \u001b[39m\u001b[92m+ Rmath_jll v0.3.0+0\u001b[39m\n",
      " \u001b[90m [a2964d1f] \u001b[39m\u001b[92m+ Wayland_jll v1.19.0+0\u001b[39m\n",
      " \u001b[90m [2381bf8a] \u001b[39m\u001b[92m+ Wayland_protocols_jll v1.25.0+0\u001b[39m\n",
      " \u001b[90m [02c8fc9c] \u001b[39m\u001b[92m+ XML2_jll v2.9.14+0\u001b[39m\n",
      " \u001b[90m [aed1982a] \u001b[39m\u001b[92m+ XSLT_jll v1.1.34+0\u001b[39m\n",
      " \u001b[90m [4f6342f7] \u001b[39m\u001b[92m+ Xorg_libX11_jll v1.6.9+4\u001b[39m\n",
      " \u001b[90m [0c0b7dd1] \u001b[39m\u001b[92m+ Xorg_libXau_jll v1.0.9+4\u001b[39m\n",
      " \u001b[90m [935fb764] \u001b[39m\u001b[92m+ Xorg_libXcursor_jll v1.2.0+4\u001b[39m\n",
      " \u001b[90m [a3789734] \u001b[39m\u001b[92m+ Xorg_libXdmcp_jll v1.1.3+4\u001b[39m\n",
      " \u001b[90m [1082639a] \u001b[39m\u001b[92m+ Xorg_libXext_jll v1.3.4+4\u001b[39m\n",
      " \u001b[90m [d091e8ba] \u001b[39m\u001b[92m+ Xorg_libXfixes_jll v5.0.3+4\u001b[39m\n",
      " \u001b[90m [a51aa0fd] \u001b[39m\u001b[92m+ Xorg_libXi_jll v1.7.10+4\u001b[39m\n",
      " \u001b[90m [d1454406] \u001b[39m\u001b[92m+ Xorg_libXinerama_jll v1.1.4+4\u001b[39m\n",
      " \u001b[90m [ec84b674] \u001b[39m\u001b[92m+ Xorg_libXrandr_jll v1.5.2+4\u001b[39m\n",
      " \u001b[90m [ea2f1a96] \u001b[39m\u001b[92m+ Xorg_libXrender_jll v0.9.10+4\u001b[39m\n",
      " \u001b[90m [14d82f49] \u001b[39m\u001b[92m+ Xorg_libpthread_stubs_jll v0.1.0+3\u001b[39m\n",
      " \u001b[90m [c7cfdc94] \u001b[39m\u001b[92m+ Xorg_libxcb_jll v1.13.0+3\u001b[39m\n",
      " \u001b[90m [cc61e674] \u001b[39m\u001b[92m+ Xorg_libxkbfile_jll v1.1.0+4\u001b[39m\n",
      " \u001b[90m [12413925] \u001b[39m\u001b[92m+ Xorg_xcb_util_image_jll v0.4.0+1\u001b[39m\n",
      " \u001b[90m [2def613f] \u001b[39m\u001b[92m+ Xorg_xcb_util_jll v0.4.0+1\u001b[39m\n",
      " \u001b[90m [975044d2] \u001b[39m\u001b[92m+ Xorg_xcb_util_keysyms_jll v0.4.0+1\u001b[39m\n",
      " \u001b[90m [0d47668e] \u001b[39m\u001b[92m+ Xorg_xcb_util_renderutil_jll v0.3.9+1\u001b[39m\n",
      " \u001b[90m [c22f9ab0] \u001b[39m\u001b[92m+ Xorg_xcb_util_wm_jll v0.4.1+1\u001b[39m\n",
      " \u001b[90m [35661453] \u001b[39m\u001b[92m+ Xorg_xkbcomp_jll v1.4.2+4\u001b[39m\n",
      " \u001b[90m [33bec58e] \u001b[39m"
     ]
    },
    {
     "name": "stderr",
     "output_type": "stream",
     "text": [
      "\u001b[92m+ Xorg_xkeyboard_config_jll v2.27.0+4\u001b[39m\n",
      " \u001b[90m [c5fb5394] \u001b[39m\u001b[92m+ Xorg_xtrans_jll v1.4.0+3\u001b[39m\n",
      " \u001b[90m [3161d3a3] \u001b[39m\u001b[92m+ Zstd_jll v1.5.2+0\u001b[39m\n",
      " \u001b[90m [0ac62f75] \u001b[39m\u001b[92m+ libass_jll v0.15.1+0\u001b[39m\n",
      " \u001b[90m [f638f0a6] \u001b[39m\u001b[92m+ libfdk_aac_jll v2.0.2+0\u001b[39m\n",
      " \u001b[90m [b53b4c65] \u001b[39m\u001b[92m+ libpng_jll v1.6.38+0\u001b[39m\n",
      " \u001b[90m [f27f6e37] \u001b[39m\u001b[92m+ libvorbis_jll v1.3.7+1\u001b[39m\n",
      " \u001b[90m [1270edf5] \u001b[39m\u001b[92m+ x264_jll v2021.5.5+0\u001b[39m\n",
      " \u001b[90m [dfaa095f] \u001b[39m\u001b[92m+ x265_jll v3.5.0+0\u001b[39m\n",
      " \u001b[90m [d8fb68d0] \u001b[39m\u001b[92m+ xkbcommon_jll v0.9.1+5\u001b[39m\n",
      " \u001b[90m [4af54fe1] \u001b[39m\u001b[92m+ LazyArtifacts\u001b[39m\n",
      " \u001b[90m [4607b0f0] \u001b[39m\u001b[92m+ SuiteSparse\u001b[39m\n",
      " \u001b[90m [05823500] \u001b[39m\u001b[92m+ OpenLibm_jll\u001b[39m\n",
      "\u001b[32m\u001b[1m    Building\u001b[22m\u001b[39m GR → `~/.julia/scratchspaces/44cfe95a-1eb2-52ea-b672-e2afdf69b78f/c98aea696662d09e215ef7cda5296024a9646c75/build.log`\n",
      "\u001b[32m\u001b[1mPrecompiling\u001b[22m\u001b[39m project...\n",
      "\u001b[33m  ✓ \u001b[39m\u001b[90mStatsAPI\u001b[39m\n",
      "\u001b[32m  ✓ \u001b[39m\u001b[90mObservables\u001b[39m\n",
      "\u001b[33m  ✓ \u001b[39m\u001b[90mInverseFunctions\u001b[39m\n",
      "\u001b[32m  ✓ \u001b[39m\u001b[90mPDMats\u001b[39m\n",
      "\u001b[32m  ✓ \u001b[39m\u001b[90mCalculus\u001b[39m\n",
      "\u001b[32m  ✓ \u001b[39m\u001b[90mDataValues\u001b[39m\n",
      "\u001b[32m  ✓ \u001b[39m\u001b[90mOffsetArrays\u001b[39m\n",
      "\u001b[32m  ✓ \u001b[39m\u001b[90mDensityInterface\u001b[39m\n",
      "\u001b[32m  ✓ \u001b[39m\u001b[90mDistances\u001b[39m\n",
      "\u001b[32m  ✓ \u001b[39m\u001b[90mTableOperations\u001b[39m\n",
      "\u001b[32m  ✓ \u001b[39m\u001b[90mArpack_jll\u001b[39m\n",
      "\u001b[32m  ✓ \u001b[39m\u001b[90mGR_jll\u001b[39m\n",
      "\u001b[32m  ✓ \u001b[39m\u001b[90mArpack\u001b[39m\n",
      "\u001b[33m  ✓ \u001b[39m\u001b[90mColorTypes\u001b[39m\n",
      "\u001b[33m  ✓ \u001b[39m\u001b[90mLogExpFunctions\u001b[39m\n",
      "\u001b[33m  ✓ \u001b[39m\u001b[90mStatsBase\u001b[39m\n",
      "\u001b[33m  ✓ \u001b[39m\u001b[90mGR\u001b[39m\n",
      "\u001b[32m  ✓ \u001b[39m\u001b[90mMultivariateStats\u001b[39m\n",
      "\u001b[32m  ✓ \u001b[39m\u001b[90mFFTW\u001b[39m\n",
      "\u001b[33m  ✓ \u001b[39m\u001b[90mStaticArrays\u001b[39m\n",
      "\u001b[33m  ✓ \u001b[39m\u001b[90mColors\u001b[39m\n",
      "\u001b[33m  ✓ \u001b[39m\u001b[90mSpecialFunctions\u001b[39m\n",
      "\u001b[32m  ✓ \u001b[39m\u001b[90mDualNumbers\u001b[39m\n",
      "\u001b[32m  ✓ \u001b[39m\u001b[90mWidgets\u001b[39m\n",
      "\u001b[32m  ✓ \u001b[39m\u001b[90mContour\u001b[39m\n",
      "\u001b[32m  ✓ \u001b[39m\u001b[90mNearestNeighbors\u001b[39m\n",
      "\u001b[33m  ✓ \u001b[39m\u001b[90mStructArrays\u001b[39m\n",
      "\u001b[32m  ✓ \u001b[39m\u001b[90mHypergeometricFunctions\u001b[39m\n",
      "\u001b[32m  ✓ \u001b[39m\u001b[90mInterpolations\u001b[39m\n",
      "\u001b[33m  ✓ \u001b[39m\u001b[90mColorVectorSpace\u001b[39m\n",
      "\u001b[32m  ✓ \u001b[39m\u001b[90mClustering\u001b[39m\n",
      "\u001b[32m  ✓ \u001b[39m\u001b[90mStatsFuns\u001b[39m\n",
      "\u001b[33m  ✓ \u001b[39m\u001b[90mGeometryBasics\u001b[39m\n",
      "\u001b[33m  ✓ \u001b[39m\u001b[90mColorSchemes\u001b[39m\n",
      "\u001b[32m  ✓ \u001b[39m\u001b[90mDistributions\u001b[39m\n",
      "\u001b[33m  ✓ \u001b[39m\u001b[90mPlotUtils\u001b[39m\n",
      "\u001b[32m  ✓ \u001b[39m\u001b[90mKernelDensity\u001b[39m\n",
      "\u001b[33m  ✓ \u001b[39m\u001b[90mRecipesPipeline\u001b[39m\n",
      "\u001b[33m  ✓ \u001b[39m\u001b[90mPlotThemes\u001b[39m\n",
      "\u001b[33m  ✓ \u001b[39m\u001b[90mPlots\u001b[39m\n",
      "\u001b[32m  ✓ \u001b[39mStatsPlots\n",
      "  41 dependencies successfully precompiled in 65 seconds (137 already precompiled)\n",
      "  \u001b[33m17\u001b[39m dependencies precompiled but different versions are currently loaded. Restart julia to access the new versions\n"
     ]
    }
   ],
   "source": [
    "Pkg.add(\"StatsPlots\")"
   ]
  },
  {
   "cell_type": "markdown",
   "metadata": {},
   "source": [
    "### Importing packages for ploting"
   ]
  },
  {
   "cell_type": "code",
   "execution_count": 4,
   "metadata": {},
   "outputs": [],
   "source": [
    "using Plots\n",
    "using StatsPlots"
   ]
  },
  {
   "cell_type": "code",
   "execution_count": 68,
   "metadata": {},
   "outputs": [
    {
     "ename": "BoundsError",
     "evalue": "BoundsError: attempt to access Tuple{Int64} at index [2]",
     "output_type": "error",
     "traceback": [
      "BoundsError: attempt to access Tuple{Int64} at index [2]\n",
      "\n",
      "Stacktrace:\n",
      "  [1] indexed_iterate(t::Tuple{Int64}, i::Int64, state::Int64)\n",
      "    @ Base ./tuple.jl:89\n",
      "  [2] macro expansion\n",
      "    @ ~/.julia/packages/StatsPlots/8DjQs/src/bar.jl:13 [inlined]\n",
      "  [3] apply_recipe(plotattributes::AbstractDict{Symbol, Any}, g::StatsPlots.GroupedBar)\n",
      "    @ StatsPlots ~/.julia/packages/RecipesBase/qpxEX/src/RecipesBase.jl:289\n",
      "  [4] _process_userrecipes!(plt::Any, plotattributes::Any, args::Any)\n",
      "    @ RecipesPipeline ~/.julia/packages/RecipesPipeline/F2mWY/src/user_recipe.jl:36\n",
      "  [5] recipe_pipeline!(plt::Any, plotattributes::Any, args::Any)\n",
      "    @ RecipesPipeline ~/.julia/packages/RecipesPipeline/F2mWY/src/RecipesPipeline.jl:70\n",
      "  [6] _plot!(plt::Plots.Plot, plotattributes::Any, args::Any)\n",
      "    @ Plots ~/.julia/packages/Plots/1KWPG/src/plot.jl:208\n",
      "  [7] #plot#139\n",
      "    @ ~/.julia/packages/Plots/1KWPG/src/plot.jl:91 [inlined]\n",
      "  [8] #groupedbar#136\n",
      "    @ ~/.julia/packages/RecipesBase/qpxEX/src/RecipesBase.jl:364 [inlined]\n",
      "  [9] top-level scope\n",
      "    @ ~/Repositories/julia-code-clubs-ufabc/DataAnalysis/plottingGenomeInformation.ipynb:1\n",
      " [10] eval\n",
      "    @ ./boot.jl:373 [inlined]\n",
      " [11] include_string(mapexpr::typeof(REPL.softscope), mod::Module, code::String, filename::String)\n",
      "    @ Base ./loading.jl:1196\n",
      " [12] #invokelatest#2\n",
      "    @ ./essentials.jl:716 [inlined]\n",
      " [13] invokelatest\n",
      "    @ ./essentials.jl:714 [inlined]\n",
      " [14] (::VSCodeServer.var\"#164#165\"{VSCodeServer.NotebookRunCellArguments, String})()\n",
      "    @ VSCodeServer ~/.vscode/extensions/julialang.language-julia-1.6.24/scripts/packages/VSCodeServer/src/serve_notebook.jl:19\n",
      " [15] withpath(f::VSCodeServer.var\"#164#165\"{VSCodeServer.NotebookRunCellArguments, String}, path::String)\n",
      "    @ VSCodeServer ~/.vscode/extensions/julialang.language-julia-1.6.24/scripts/packages/VSCodeServer/src/repl.jl:184\n",
      " [16] notebook_runcell_request(conn::VSCodeServer.JSONRPC.JSONRPCEndpoint{Base.PipeEndpoint, Base.PipeEndpoint}, params::VSCodeServer.NotebookRunCellArguments)\n",
      "    @ VSCodeServer ~/.vscode/extensions/julialang.language-julia-1.6.24/scripts/packages/VSCodeServer/src/serve_notebook.jl:13\n",
      " [17] dispatch_msg(x::VSCodeServer.JSONRPC.JSONRPCEndpoint{Base.PipeEndpoint, Base.PipeEndpoint}, dispatcher::VSCodeServer.JSONRPC.MsgDispatcher, msg::Dict{String, Any})\n",
      "    @ VSCodeServer.JSONRPC ~/.vscode/extensions/julialang.language-julia-1.6.24/scripts/packages/JSONRPC/src/typed.jl:67\n",
      " [18] serve_notebook(pipename::String, outputchannel_logger::Base.CoreLogging.SimpleLogger; crashreporting_pipename::String)\n",
      "    @ VSCodeServer ~/.vscode/extensions/julialang.language-julia-1.6.24/scripts/packages/VSCodeServer/src/serve_notebook.jl:136\n",
      " [19] top-level scope\n",
      "    @ ~/.vscode/extensions/julialang.language-julia-1.6.24/scripts/notebook/notebook.jl:32\n",
      " [20] include(mod::Module, _path::String)\n",
      "    @ Base ./Base.jl:418\n",
      " [21] exec_options(opts::Base.JLOptions)\n",
      "    @ Base ./client.jl:292\n",
      " [22] _start()\n",
      "    @ Base ./client.jl:495"
     ]
    }
   ],
   "source": [
    "groupedbar(genome_info.Genome_size, bar_position = :dodge, bar_width=0.7, xticks=genome_info.Species)"
   ]
  },
  {
   "cell_type": "code",
   "execution_count": 59,
   "metadata": {},
   "outputs": [
    {
     "data": {
      "text/html": [
       "<div class=\"data-frame\"><p>17 rows × 3 columns</p><table class=\"data-frame\"><thead><tr><th></th><th>Species</th><th>Strain_Cultivar</th><th>Genome_size</th></tr><tr><th></th><th title=\"String31\">String31</th><th title=\"String15\">String15</th><th title=\"Union{Missing, Float64}\">Float64?</th></tr></thead><tbody><tr><th>1</th><td>Saccharomyces cerevisiae</td><td>RedStar</td><td>11.64</td></tr><tr><th>2</th><td>Saccharomyces cerevisiae</td><td>CEN.PK113-7D</td><td>12.0</td></tr><tr><th>3</th><td>Saccharomyces cereivisiae</td><td>S288C</td><td>11.82</td></tr><tr><th>4</th><td>Kalmanozyma brasiliensis</td><td>GHG001</td><td>17.32</td></tr><tr><th>5</th><td>Aspergillus fumigatus</td><td>Af293</td><td>29.38</td></tr><tr><th>6</th><td>Aspergillus fumigatus</td><td>A1163</td><td>29.21</td></tr><tr><th>7</th><td>Aspergillus fumigatus</td><td>CNM-CM8686</td><td>28.17</td></tr><tr><th>8</th><td>Aspergillus fumigatiaffinis</td><td>CNM-CM6805</td><td>33.47</td></tr><tr><th>9</th><td>Aspergillus lentulus</td><td>CNM-CM7927</td><td>31.61</td></tr><tr><th>10</th><td>Aspergillus lentulus</td><td>IFM 54703</td><td>30.77</td></tr><tr><th>11</th><td>Aspergillus nidulans</td><td>FGSC A4</td><td>30.27</td></tr><tr><th>12</th><td>Aspergillus niger</td><td>CBS 513.88</td><td>34.0</td></tr><tr><th>13</th><td>Phytophthora infestans</td><td>T30-4</td><td>228.54</td></tr><tr><th>14</th><td>Setaria viridis</td><td>A10</td><td>395.87</td></tr><tr><th>15</th><td>Setaria viridis</td><td>ME034v</td><td>397.03</td></tr><tr><th>16</th><td>Setaria italica</td><td>Yugu1</td><td>405.87</td></tr><tr><th>17</th><td>Sorghum bicolor</td><td>BTx623</td><td>709.34</td></tr></tbody></table></div>"
      ],
      "text/latex": [
       "\\begin{tabular}{r|ccc}\n",
       "\t& Species & Strain\\_Cultivar & Genome\\_size\\\\\n",
       "\t\\hline\n",
       "\t& String31 & String15 & Float64?\\\\\n",
       "\t\\hline\n",
       "\t1 & Saccharomyces cerevisiae & RedStar & 11.64 \\\\\n",
       "\t2 & Saccharomyces cerevisiae & CEN.PK113-7D & 12.0 \\\\\n",
       "\t3 & Saccharomyces cereivisiae & S288C & 11.82 \\\\\n",
       "\t4 & Kalmanozyma brasiliensis & GHG001 & 17.32 \\\\\n",
       "\t5 & Aspergillus fumigatus & Af293 & 29.38 \\\\\n",
       "\t6 & Aspergillus fumigatus & A1163 & 29.21 \\\\\n",
       "\t7 & Aspergillus fumigatus & CNM-CM8686 & 28.17 \\\\\n",
       "\t8 & Aspergillus fumigatiaffinis & CNM-CM6805 & 33.47 \\\\\n",
       "\t9 & Aspergillus lentulus & CNM-CM7927 & 31.61 \\\\\n",
       "\t10 & Aspergillus lentulus & IFM 54703 & 30.77 \\\\\n",
       "\t11 & Aspergillus nidulans & FGSC A4 & 30.27 \\\\\n",
       "\t12 & Aspergillus niger & CBS 513.88 & 34.0 \\\\\n",
       "\t13 & Phytophthora infestans & T30-4 & 228.54 \\\\\n",
       "\t14 & Setaria viridis & A10 & 395.87 \\\\\n",
       "\t15 & Setaria viridis & ME034v & 397.03 \\\\\n",
       "\t16 & Setaria italica & Yugu1 & 405.87 \\\\\n",
       "\t17 & Sorghum bicolor & BTx623 & 709.34 \\\\\n",
       "\\end{tabular}\n"
      ],
      "text/plain": [
       "\u001b[1m17×3 DataFrame\u001b[0m\n",
       "\u001b[1m Row \u001b[0m│\u001b[1m Species                     \u001b[0m\u001b[1m Strain_Cultivar \u001b[0m\u001b[1m Genome_size \u001b[0m\n",
       "\u001b[1m     \u001b[0m│\u001b[90m String31                    \u001b[0m\u001b[90m String15        \u001b[0m\u001b[90m Float64?    \u001b[0m\n",
       "─────┼───────────────────────────────────────────────────────────\n",
       "   1 │ Saccharomyces cerevisiae     RedStar                11.64\n",
       "   2 │ Saccharomyces cerevisiae     CEN.PK113-7D           12.0\n",
       "   3 │ Saccharomyces cereivisiae    S288C                  11.82\n",
       "   4 │ Kalmanozyma brasiliensis     GHG001                 17.32\n",
       "   5 │ Aspergillus fumigatus        Af293                  29.38\n",
       "   6 │ Aspergillus fumigatus        A1163                  29.21\n",
       "   7 │ Aspergillus fumigatus        CNM-CM8686             28.17\n",
       "   8 │ Aspergillus fumigatiaffinis  CNM-CM6805             33.47\n",
       "   9 │ Aspergillus lentulus         CNM-CM7927             31.61\n",
       "  10 │ Aspergillus lentulus         IFM 54703              30.77\n",
       "  11 │ Aspergillus nidulans         FGSC A4                30.27\n",
       "  12 │ Aspergillus niger            CBS 513.88             34.0\n",
       "  13 │ Phytophthora infestans       T30-4                 228.54\n",
       "  14 │ Setaria viridis              A10                   395.87\n",
       "  15 │ Setaria viridis              ME034v                397.03\n",
       "  16 │ Setaria italica              Yugu1                 405.87\n",
       "  17 │ Sorghum bicolor              BTx623                709.34"
      ]
     },
     "metadata": {},
     "output_type": "display_data"
    }
   ],
   "source": [
    "genome_info_no_missing = genome_info[Not(3),:]"
   ]
  },
  {
   "cell_type": "code",
   "execution_count": 60,
   "metadata": {},
   "outputs": [
    {
     "data": {
      "text/plain": [
       "(17, 3)"
      ]
     },
     "metadata": {},
     "output_type": "display_data"
    }
   ],
   "source": [
    "size(genome_info_no_missing)"
   ]
  },
  {
   "cell_type": "code",
   "execution_count": 61,
   "metadata": {},
   "outputs": [
    {
     "ename": "BoundsError",
     "evalue": "BoundsError: attempt to access Tuple{Int64} at index [2]",
     "output_type": "error",
     "traceback": [
      "BoundsError: attempt to access Tuple{Int64} at index [2]\n",
      "\n",
      "Stacktrace:\n",
      "  [1] indexed_iterate(t::Tuple{Int64}, i::Int64, state::Int64)\n",
      "    @ Base ./tuple.jl:89\n",
      "  [2] macro expansion\n",
      "    @ ~/.julia/packages/StatsPlots/8DjQs/src/bar.jl:13 [inlined]\n",
      "  [3] apply_recipe(plotattributes::AbstractDict{Symbol, Any}, g::StatsPlots.GroupedBar)\n",
      "    @ StatsPlots ~/.julia/packages/RecipesBase/qpxEX/src/RecipesBase.jl:289\n",
      "  [4] _process_userrecipes!(plt::Any, plotattributes::Any, args::Any)\n",
      "    @ RecipesPipeline ~/.julia/packages/RecipesPipeline/F2mWY/src/user_recipe.jl:36\n",
      "  [5] recipe_pipeline!(plt::Any, plotattributes::Any, args::Any)\n",
      "    @ RecipesPipeline ~/.julia/packages/RecipesPipeline/F2mWY/src/RecipesPipeline.jl:70\n",
      "  [6] _plot!(plt::Plots.Plot, plotattributes::Any, args::Any)\n",
      "    @ Plots ~/.julia/packages/Plots/1KWPG/src/plot.jl:208\n",
      "  [7] #plot#139\n",
      "    @ ~/.julia/packages/Plots/1KWPG/src/plot.jl:91 [inlined]\n",
      "  [8] #groupedbar#136\n",
      "    @ ~/.julia/packages/RecipesBase/qpxEX/src/RecipesBase.jl:364 [inlined]\n",
      "  [9] top-level scope\n",
      "    @ ~/Repositories/julia-code-clubs-ufabc/DataAnalysis/plottingGenomeInformation.ipynb:1\n",
      " [10] eval\n",
      "    @ ./boot.jl:373 [inlined]\n",
      " [11] include_string(mapexpr::typeof(REPL.softscope), mod::Module, code::String, filename::String)\n",
      "    @ Base ./loading.jl:1196\n",
      " [12] #invokelatest#2\n",
      "    @ ./essentials.jl:716 [inlined]\n",
      " [13] invokelatest\n",
      "    @ ./essentials.jl:714 [inlined]\n",
      " [14] (::VSCodeServer.var\"#164#165\"{VSCodeServer.NotebookRunCellArguments, String})()\n",
      "    @ VSCodeServer ~/.vscode/extensions/julialang.language-julia-1.6.24/scripts/packages/VSCodeServer/src/serve_notebook.jl:19\n",
      " [15] withpath(f::VSCodeServer.var\"#164#165\"{VSCodeServer.NotebookRunCellArguments, String}, path::String)\n",
      "    @ VSCodeServer ~/.vscode/extensions/julialang.language-julia-1.6.24/scripts/packages/VSCodeServer/src/repl.jl:184\n",
      " [16] notebook_runcell_request(conn::VSCodeServer.JSONRPC.JSONRPCEndpoint{Base.PipeEndpoint, Base.PipeEndpoint}, params::VSCodeServer.NotebookRunCellArguments)\n",
      "    @ VSCodeServer ~/.vscode/extensions/julialang.language-julia-1.6.24/scripts/packages/VSCodeServer/src/serve_notebook.jl:13\n",
      " [17] dispatch_msg(x::VSCodeServer.JSONRPC.JSONRPCEndpoint{Base.PipeEndpoint, Base.PipeEndpoint}, dispatcher::VSCodeServer.JSONRPC.MsgDispatcher, msg::Dict{String, Any})\n",
      "    @ VSCodeServer.JSONRPC ~/.vscode/extensions/julialang.language-julia-1.6.24/scripts/packages/JSONRPC/src/typed.jl:67\n",
      " [18] serve_notebook(pipename::String, outputchannel_logger::Base.CoreLogging.SimpleLogger; crashreporting_pipename::String)\n",
      "    @ VSCodeServer ~/.vscode/extensions/julialang.language-julia-1.6.24/scripts/packages/VSCodeServer/src/serve_notebook.jl:136\n",
      " [19] top-level scope\n",
      "    @ ~/.vscode/extensions/julialang.language-julia-1.6.24/scripts/notebook/notebook.jl:32\n",
      " [20] include(mod::Module, _path::String)\n",
      "    @ Base ./Base.jl:418\n",
      " [21] exec_options(opts::Base.JLOptions)\n",
      "    @ Base ./client.jl:292\n",
      " [22] _start()\n",
      "    @ Base ./client.jl:495"
     ]
    }
   ],
   "source": [
    "groupedbar(genome_info_no_missing.Genome_size, bar_position = :dodge, bar_width=0.7, xticks=genome_info_no_missing.Species)"
   ]
  },
  {
   "cell_type": "code",
   "execution_count": 62,
   "metadata": {},
   "outputs": [
    {
     "data": {
      "text/plain": [
       "17-element Vector{String31}:\n",
       " \"Saccharomyces cerevisiae\"\n",
       " \"Saccharomyces cerevisiae\"\n",
       " \"Saccharomyces cereivisiae\"\n",
       " \"Kalmanozyma brasiliensis\"\n",
       " \"Aspergillus fumigatus\"\n",
       " \"Aspergillus fumigatus\"\n",
       " \"Aspergillus fumigatus\"\n",
       " \"Aspergillus fumigatiaffinis\"\n",
       " \"Aspergillus lentulus\"\n",
       " \"Aspergillus lentulus\"\n",
       " \"Aspergillus nidulans\"\n",
       " \"Aspergillus niger\"\n",
       " \"Phytophthora infestans\"\n",
       " \"Setaria viridis\"\n",
       " \"Setaria viridis\"\n",
       " \"Setaria italica\"\n",
       " \"Sorghum bicolor\""
      ]
     },
     "metadata": {},
     "output_type": "display_data"
    }
   ],
   "source": [
    "genome_info_no_missing.Species"
   ]
  },
  {
   "cell_type": "code",
   "execution_count": 66,
   "metadata": {},
   "outputs": [
    {
     "data": {
      "text/plain": [
       "skipmissing(Union{Missing, Float64}[11.64, 12.0, 11.82, 17.32, 29.38, 29.21, 28.17, 33.47, 31.61, 30.77, 30.27, 34.0, 228.54, 395.87, 397.03, 405.87, 709.34])"
      ]
     },
     "metadata": {},
     "output_type": "display_data"
    }
   ],
   "source": [
    "skipmissing(genome_info_no_missing.Genome_size)"
   ]
  },
  {
   "cell_type": "code",
   "execution_count": 67,
   "metadata": {},
   "outputs": [
    {
     "ename": "MethodError",
     "evalue": "MethodError: no method matching grouped_xy(::Base.SkipMissing{Vector{Union{Missing, Float64}}})\nClosest candidates are:\n  grouped_xy(!Matched::AbstractVector, !Matched::AbstractArray) at ~/.julia/packages/StatsPlots/8DjQs/src/bar.jl:7\n  grouped_xy(!Matched::AbstractArray) at ~/.julia/packages/StatsPlots/8DjQs/src/bar.jl:8",
     "output_type": "error",
     "traceback": [
      "MethodError: no method matching grouped_xy(::Base.SkipMissing{Vector{Union{Missing, Float64}}})\n",
      "Closest candidates are:\n",
      "  grouped_xy(!Matched::AbstractVector, !Matched::AbstractArray) at ~/.julia/packages/StatsPlots/8DjQs/src/bar.jl:7\n",
      "  grouped_xy(!Matched::AbstractArray) at ~/.julia/packages/StatsPlots/8DjQs/src/bar.jl:8\n",
      "\n",
      "Stacktrace:\n",
      "  [1] macro expansion\n",
      "    @ ~/.julia/packages/StatsPlots/8DjQs/src/bar.jl:11 [inlined]\n",
      "  [2] apply_recipe(plotattributes::AbstractDict{Symbol, Any}, g::StatsPlots.GroupedBar)\n",
      "    @ StatsPlots ~/.julia/packages/RecipesBase/qpxEX/src/RecipesBase.jl:289\n",
      "  [3] _process_userrecipes!(plt::Any, plotattributes::Any, args::Any)\n",
      "    @ RecipesPipeline ~/.julia/packages/RecipesPipeline/F2mWY/src/user_recipe.jl:36\n",
      "  [4] recipe_pipeline!(plt::Any, plotattributes::Any, args::Any)\n",
      "    @ RecipesPipeline ~/.julia/packages/RecipesPipeline/F2mWY/src/RecipesPipeline.jl:70\n",
      "  [5] _plot!(plt::Plots.Plot, plotattributes::Any, args::Any)\n",
      "    @ Plots ~/.julia/packages/Plots/1KWPG/src/plot.jl:208\n",
      "  [6] #plot#139\n",
      "    @ ~/.julia/packages/Plots/1KWPG/src/plot.jl:91 [inlined]\n",
      "  [7] #groupedbar#136\n",
      "    @ ~/.julia/packages/RecipesBase/qpxEX/src/RecipesBase.jl:364 [inlined]\n",
      "  [8] top-level scope\n",
      "    @ ~/Repositories/julia-code-clubs-ufabc/DataAnalysis/plottingGenomeInformation.ipynb:1\n",
      "  [9] eval\n",
      "    @ ./boot.jl:373 [inlined]\n",
      " [10] include_string(mapexpr::typeof(REPL.softscope), mod::Module, code::String, filename::String)\n",
      "    @ Base ./loading.jl:1196\n",
      " [11] #invokelatest#2\n",
      "    @ ./essentials.jl:716 [inlined]\n",
      " [12] invokelatest\n",
      "    @ ./essentials.jl:714 [inlined]\n",
      " [13] (::VSCodeServer.var\"#164#165\"{VSCodeServer.NotebookRunCellArguments, String})()\n",
      "    @ VSCodeServer ~/.vscode/extensions/julialang.language-julia-1.6.24/scripts/packages/VSCodeServer/src/serve_notebook.jl:19\n",
      " [14] withpath(f::VSCodeServer.var\"#164#165\"{VSCodeServer.NotebookRunCellArguments, String}, path::String)\n",
      "    @ VSCodeServer ~/.vscode/extensions/julialang.language-julia-1.6.24/scripts/packages/VSCodeServer/src/repl.jl:184\n",
      " [15] notebook_runcell_request(conn::VSCodeServer.JSONRPC.JSONRPCEndpoint{Base.PipeEndpoint, Base.PipeEndpoint}, params::VSCodeServer.NotebookRunCellArguments)\n",
      "    @ VSCodeServer ~/.vscode/extensions/julialang.language-julia-1.6.24/scripts/packages/VSCodeServer/src/serve_notebook.jl:13\n",
      " [16] dispatch_msg(x::VSCodeServer.JSONRPC.JSONRPCEndpoint{Base.PipeEndpoint, Base.PipeEndpoint}, dispatcher::VSCodeServer.JSONRPC.MsgDispatcher, msg::Dict{String, Any})\n",
      "    @ VSCodeServer.JSONRPC ~/.vscode/extensions/julialang.language-julia-1.6.24/scripts/packages/JSONRPC/src/typed.jl:67\n",
      " [17] serve_notebook(pipename::String, outputchannel_logger::Base.CoreLogging.SimpleLogger; crashreporting_pipename::String)\n",
      "    @ VSCodeServer ~/.vscode/extensions/julialang.language-julia-1.6.24/scripts/packages/VSCodeServer/src/serve_notebook.jl:136\n",
      " [18] top-level scope\n",
      "    @ ~/.vscode/extensions/julialang.language-julia-1.6.24/scripts/notebook/notebook.jl:32\n",
      " [19] include(mod::Module, _path::String)\n",
      "    @ Base ./Base.jl:418\n",
      " [20] exec_options(opts::Base.JLOptions)\n",
      "    @ Base ./client.jl:292\n",
      " [21] _start()\n",
      "    @ Base ./client.jl:495"
     ]
    }
   ],
   "source": [
    "groupedbar(skipmissing(genome_info_no_missing.Genome_size), bar_position = :dodge, bar_width=0.7, xticks=genome_info_no_missing.Species)"
   ]
  },
  {
   "cell_type": "code",
   "execution_count": null,
   "metadata": {},
   "outputs": [],
   "source": []
  }
 ],
 "metadata": {
  "kernelspec": {
   "display_name": "Julia 1.7.1",
   "language": "julia",
   "name": "julia-1.7"
  },
  "language_info": {
   "file_extension": ".jl",
   "mimetype": "application/julia",
   "name": "julia",
   "version": "1.7.1"
  },
  "orig_nbformat": 4,
  "vscode": {
   "interpreter": {
    "hash": "31f2aee4e71d21fbe5cf8b01ff0e069b9275f58929596ceb00d14d90e3e16cd6"
   }
  }
 },
 "nbformat": 4,
 "nbformat_minor": 2
}
